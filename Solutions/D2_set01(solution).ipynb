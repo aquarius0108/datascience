{
 "cells": [
  {
   "cell_type": "markdown",
   "id": "b1dd531a",
   "metadata": {},
   "source": [
    "시중 판매 중인 TV정보를 온라인 쇼핑몰 웹페이지에서 크롤링 하여 분석을 하고자 한다. 해당 데이터를 기반으로 각 TV의 제원은 어떠 한지 제원에 따른 평가는 어떠 한지 알아보고 향후 신제품 출시에 참고하고자 한다. (각 문제에서 전처리한 데이터는 다음 문제에 영향을 끼치지 않는다.)"
   ]
  },
  {
   "cell_type": "code",
   "execution_count": 14,
   "id": "3b38a885",
   "metadata": {},
   "outputs": [
    {
     "data": {
      "text/html": [
       "<div>\n",
       "<style scoped>\n",
       "    .dataframe tbody tr th:only-of-type {\n",
       "        vertical-align: middle;\n",
       "    }\n",
       "\n",
       "    .dataframe tbody tr th {\n",
       "        vertical-align: top;\n",
       "    }\n",
       "\n",
       "    .dataframe thead th {\n",
       "        text-align: right;\n",
       "    }\n",
       "</style>\n",
       "<table border=\"1\" class=\"dataframe\">\n",
       "  <thead>\n",
       "    <tr style=\"text-align: right;\">\n",
       "      <th></th>\n",
       "      <th>Product_Name</th>\n",
       "      <th>Stars</th>\n",
       "      <th>Ratings</th>\n",
       "      <th>Reviews</th>\n",
       "      <th>current_price</th>\n",
       "      <th>MRP</th>\n",
       "      <th>channel</th>\n",
       "      <th>Operating_system</th>\n",
       "      <th>Picture_qualtiy</th>\n",
       "      <th>Speaker</th>\n",
       "      <th>Frequency</th>\n",
       "    </tr>\n",
       "  </thead>\n",
       "  <tbody>\n",
       "    <tr>\n",
       "      <th>0</th>\n",
       "      <td>Croma</td>\n",
       "      <td>4.2</td>\n",
       "      <td>1773</td>\n",
       "      <td>217</td>\n",
       "      <td>7990</td>\n",
       "      <td>20000</td>\n",
       "      <td>HD Ready 1366 x 768 Pixels</td>\n",
       "      <td>20 Speaker Output</td>\n",
       "      <td>60 Hz Refresh Rate</td>\n",
       "      <td>2 x HDMI | 2 x USB</td>\n",
       "      <td>1 Year Warranty</td>\n",
       "    </tr>\n",
       "    <tr>\n",
       "      <th>1</th>\n",
       "      <td>Adsun</td>\n",
       "      <td>3.8</td>\n",
       "      <td>6742</td>\n",
       "      <td>930</td>\n",
       "      <td>8699</td>\n",
       "      <td>21999</td>\n",
       "      <td>Netflix|Disney+Hotstar|Youtube</td>\n",
       "      <td>Operating System: Android Based</td>\n",
       "      <td>HD Ready 1366 x 768 Pixels</td>\n",
       "      <td>20 W Speaker Output</td>\n",
       "      <td>60 Hz Refresh Rate</td>\n",
       "    </tr>\n",
       "  </tbody>\n",
       "</table>\n",
       "</div>"
      ],
      "text/plain": [
       "  Product_Name  Stars  Ratings  Reviews  current_price    MRP  \\\n",
       "0        Croma    4.2     1773      217           7990  20000   \n",
       "1        Adsun    3.8     6742      930           8699  21999   \n",
       "\n",
       "                          channel                 Operating_system  \\\n",
       "0      HD Ready 1366 x 768 Pixels                20 Speaker Output   \n",
       "1  Netflix|Disney+Hotstar|Youtube  Operating System: Android Based   \n",
       "\n",
       "              Picture_qualtiy              Speaker           Frequency  \n",
       "0          60 Hz Refresh Rate   2 x HDMI | 2 x USB     1 Year Warranty  \n",
       "1  HD Ready 1366 x 768 Pixels  20 W Speaker Output  60 Hz Refresh Rate  "
      ]
     },
     "execution_count": 14,
     "metadata": {},
     "output_type": "execute_result"
    }
   ],
   "source": [
    "import pandas as pd\n",
    "df_origin = pd.read_csv(\"../Datasets/TV.csv\")\n",
    "df_origin.head(2)"
   ]
  },
  {
   "cell_type": "code",
   "execution_count": 15,
   "id": "9768ee07",
   "metadata": {
    "scrolled": false
   },
   "outputs": [
    {
     "name": "stdout",
     "output_type": "stream",
     "text": [
      "<class 'pandas.core.frame.DataFrame'>\n",
      "RangeIndex: 666 entries, 0 to 665\n",
      "Data columns (total 11 columns):\n",
      " #   Column            Non-Null Count  Dtype  \n",
      "---  ------            --------------  -----  \n",
      " 0   Product_Name      666 non-null    object \n",
      " 1   Stars             666 non-null    float64\n",
      " 2   Ratings           666 non-null    int64  \n",
      " 3   Reviews           666 non-null    int64  \n",
      " 4   current_price     666 non-null    int64  \n",
      " 5   MRP               666 non-null    int64  \n",
      " 6   channel           666 non-null    object \n",
      " 7   Operating_system  666 non-null    object \n",
      " 8   Picture_qualtiy   666 non-null    object \n",
      " 9   Speaker           666 non-null    object \n",
      " 10  Frequency         666 non-null    object \n",
      "dtypes: float64(1), int64(4), object(6)\n",
      "memory usage: 57.4+ KB\n"
     ]
    }
   ],
   "source": [
    "df_origin.info()"
   ]
  },
  {
   "cell_type": "code",
   "execution_count": 16,
   "id": "d5d2bd6e",
   "metadata": {},
   "outputs": [],
   "source": [
    "df_origin=df_origin.rename(columns={'Picture_qualtiy':'Picture_quality'})"
   ]
  },
  {
   "cell_type": "markdown",
   "id": "0bf7f2f3",
   "metadata": {},
   "source": [
    "#### Q1.주사율(Frequency)은 TV 제원중 가격에 큰 영향을 미치는 제원이다. 그런데 데이터 수집 중 실수가 발생하여 주사율(Frequency) 값 중 일부가 해상도(Picture_quality), 스피커(Speaker) 변수에 잘못 입력된 것이 발견되었다. 세 변수에 흩어져 있는 주사율 데이터를 취합하여 전체 TV 중에서 주사율이 60Hz인 TV는 총 몇 대 인가?  \n",
    "※ 주사율은 2~3자리 숫자 뒤에 반드시 Hz 라는 단위로 표기되어 있다.  \n",
    "※ 세 변수 모두 주사율 정보가 없을 경우 결측치로 간주하고 이를 분석에서 제외하시오.  \n",
    "(정답 예시: 12)"
   ]
  },
  {
   "cell_type": "code",
   "execution_count": 17,
   "id": "c7fe2960",
   "metadata": {
    "scrolled": true
   },
   "outputs": [],
   "source": [
    "df1 = df_origin.copy()"
   ]
  },
  {
   "cell_type": "markdown",
   "id": "a81117c6",
   "metadata": {},
   "source": [
    "> deep copy `df.copy(deep=True)`\n",
    "라고 하며 원본과는 완전하게 별개인 복사본이 생성됩니다. 사본과 원본의 수정은 서로에게 영향을 끼치지 않습니다."
   ]
  },
  {
   "cell_type": "code",
   "execution_count": 18,
   "id": "fbe52853",
   "metadata": {},
   "outputs": [
    {
     "data": {
      "text/html": [
       "<div>\n",
       "<style scoped>\n",
       "    .dataframe tbody tr th:only-of-type {\n",
       "        vertical-align: middle;\n",
       "    }\n",
       "\n",
       "    .dataframe tbody tr th {\n",
       "        vertical-align: top;\n",
       "    }\n",
       "\n",
       "    .dataframe thead th {\n",
       "        text-align: right;\n",
       "    }\n",
       "</style>\n",
       "<table border=\"1\" class=\"dataframe\">\n",
       "  <thead>\n",
       "    <tr style=\"text-align: right;\">\n",
       "      <th></th>\n",
       "      <th>Product_Name</th>\n",
       "      <th>Stars</th>\n",
       "      <th>Ratings</th>\n",
       "      <th>Reviews</th>\n",
       "      <th>current_price</th>\n",
       "      <th>MRP</th>\n",
       "      <th>channel</th>\n",
       "      <th>Operating_system</th>\n",
       "      <th>Picture_quality</th>\n",
       "      <th>Speaker</th>\n",
       "      <th>Frequency</th>\n",
       "    </tr>\n",
       "  </thead>\n",
       "  <tbody>\n",
       "    <tr>\n",
       "      <th>0</th>\n",
       "      <td>Croma</td>\n",
       "      <td>4.2</td>\n",
       "      <td>1773</td>\n",
       "      <td>217</td>\n",
       "      <td>7990</td>\n",
       "      <td>20000</td>\n",
       "      <td>HD Ready 1366 x 768 Pixels</td>\n",
       "      <td>20 Speaker Output</td>\n",
       "      <td>60 Hz Refresh Rate</td>\n",
       "      <td>2 x HDMI | 2 x USB</td>\n",
       "      <td>1 Year Warranty</td>\n",
       "    </tr>\n",
       "    <tr>\n",
       "      <th>1</th>\n",
       "      <td>Adsun</td>\n",
       "      <td>3.8</td>\n",
       "      <td>6742</td>\n",
       "      <td>930</td>\n",
       "      <td>8699</td>\n",
       "      <td>21999</td>\n",
       "      <td>Netflix|Disney+Hotstar|Youtube</td>\n",
       "      <td>Operating System: Android Based</td>\n",
       "      <td>HD Ready 1366 x 768 Pixels</td>\n",
       "      <td>20 W Speaker Output</td>\n",
       "      <td>60 Hz Refresh Rate</td>\n",
       "    </tr>\n",
       "  </tbody>\n",
       "</table>\n",
       "</div>"
      ],
      "text/plain": [
       "  Product_Name  Stars  Ratings  Reviews  current_price    MRP  \\\n",
       "0        Croma    4.2     1773      217           7990  20000   \n",
       "1        Adsun    3.8     6742      930           8699  21999   \n",
       "\n",
       "                          channel                 Operating_system  \\\n",
       "0      HD Ready 1366 x 768 Pixels                20 Speaker Output   \n",
       "1  Netflix|Disney+Hotstar|Youtube  Operating System: Android Based   \n",
       "\n",
       "              Picture_quality              Speaker           Frequency  \n",
       "0          60 Hz Refresh Rate   2 x HDMI | 2 x USB     1 Year Warranty  \n",
       "1  HD Ready 1366 x 768 Pixels  20 W Speaker Output  60 Hz Refresh Rate  "
      ]
     },
     "execution_count": 18,
     "metadata": {},
     "output_type": "execute_result"
    }
   ],
   "source": [
    "df1.head(2)"
   ]
  },
  {
   "cell_type": "code",
   "execution_count": 19,
   "id": "055cfe7e",
   "metadata": {},
   "outputs": [
    {
     "data": {
      "text/plain": [
       "0                    60 Hz Refresh Rate\n",
       "1            HD Ready 1366 x 768 Pixels\n",
       "2            HD Ready 1366 x 768 Pixels\n",
       "3            HD Ready 1366 x 768 Pixels\n",
       "4            HD Ready 1366 x 768 Pixels\n",
       "                     ...               \n",
       "661                  60 Hz Refresh Rate\n",
       "662    Ultra HD (4K) 3840 x 2160 Pixels\n",
       "663                  60 Hz Refresh Rate\n",
       "664                   16 Speaker Output\n",
       "665                  50 Hz Refresh Rate\n",
       "Name: Picture_quality, Length: 666, dtype: object"
      ]
     },
     "execution_count": 19,
     "metadata": {},
     "output_type": "execute_result"
    }
   ],
   "source": [
    "df1['Picture_quality']"
   ]
  },
  {
   "cell_type": "markdown",
   "id": "130705cc",
   "metadata": {},
   "source": [
    "> 아 0, 661보니깐 저런식으로 잘못 수집되어 있구나"
   ]
  },
  {
   "cell_type": "code",
   "execution_count": 20,
   "id": "f89b7e1f",
   "metadata": {},
   "outputs": [
    {
     "data": {
      "text/html": [
       "<div>\n",
       "<style scoped>\n",
       "    .dataframe tbody tr th:only-of-type {\n",
       "        vertical-align: middle;\n",
       "    }\n",
       "\n",
       "    .dataframe tbody tr th {\n",
       "        vertical-align: top;\n",
       "    }\n",
       "\n",
       "    .dataframe thead th {\n",
       "        text-align: right;\n",
       "    }\n",
       "</style>\n",
       "<table border=\"1\" class=\"dataframe\">\n",
       "  <thead>\n",
       "    <tr style=\"text-align: right;\">\n",
       "      <th></th>\n",
       "      <th>Picture_quality</th>\n",
       "      <th>Speaker</th>\n",
       "      <th>Frequency</th>\n",
       "    </tr>\n",
       "  </thead>\n",
       "  <tbody>\n",
       "    <tr>\n",
       "      <th>0</th>\n",
       "      <td>60 Hz Refresh Rate</td>\n",
       "      <td>2 x HDMI | 2 x USB</td>\n",
       "      <td>1 Year Warranty</td>\n",
       "    </tr>\n",
       "    <tr>\n",
       "      <th>1</th>\n",
       "      <td>HD Ready 1366 x 768 Pixels</td>\n",
       "      <td>20 W Speaker Output</td>\n",
       "      <td>60 Hz Refresh Rate</td>\n",
       "    </tr>\n",
       "  </tbody>\n",
       "</table>\n",
       "</div>"
      ],
      "text/plain": [
       "              Picture_quality              Speaker           Frequency\n",
       "0          60 Hz Refresh Rate   2 x HDMI | 2 x USB     1 Year Warranty\n",
       "1  HD Ready 1366 x 768 Pixels  20 W Speaker Output  60 Hz Refresh Rate"
      ]
     },
     "execution_count": 20,
     "metadata": {},
     "output_type": "execute_result"
    }
   ],
   "source": [
    "df1 = df1[[\"Picture_quality\", \"Speaker\", \"Frequency\"]].copy()\n",
    "df1.head(2)"
   ]
  },
  {
   "cell_type": "markdown",
   "id": "54d8b78a",
   "metadata": {},
   "source": [
    "- `Hz` 없는 애들 삭제,(세 변수 모두 주사율 정보가 없을 경우 결측치로 간주하고 이를 분석에서 제외하시오.)"
   ]
  },
  {
   "cell_type": "markdown",
   "id": "aca8768d",
   "metadata": {},
   "source": [
    "Q. map을 이용해서 'Picture_quality'에서 `Hz` 를 포함하는 행의 개수는?"
   ]
  },
  {
   "cell_type": "code",
   "execution_count": 21,
   "id": "edcf22b3",
   "metadata": {
    "scrolled": true
   },
   "outputs": [
    {
     "data": {
      "text/plain": [
       "99"
      ]
     },
     "execution_count": 21,
     "metadata": {},
     "output_type": "execute_result"
    }
   ],
   "source": [
    "df1['Picture_quality'].map(lambda x: 'Hz' in x).sum()"
   ]
  },
  {
   "cell_type": "markdown",
   "id": "108e12cd",
   "metadata": {},
   "source": [
    "Q. 전체 컬럼에 적용하는 방법은?"
   ]
  },
  {
   "cell_type": "code",
   "execution_count": 9,
   "id": "f2be31cd",
   "metadata": {
    "scrolled": false
   },
   "outputs": [
    {
     "data": {
      "text/plain": [
       "Picture_quality     99\n",
       "Speaker             23\n",
       "Frequency          540\n",
       "dtype: int64"
      ]
     },
     "execution_count": 9,
     "metadata": {},
     "output_type": "execute_result"
    }
   ],
   "source": [
    "df1.apply(lambda x: x.str.contains('Hz')).sum()"
   ]
  },
  {
   "cell_type": "markdown",
   "id": "14a5fcd5",
   "metadata": {},
   "source": [
    "> lambda 함수가 컬럼별로 적용이 된다."
   ]
  },
  {
   "cell_type": "code",
   "execution_count": 69,
   "id": "cd93192b",
   "metadata": {
    "scrolled": false
   },
   "outputs": [
    {
     "data": {
      "text/plain": [
       "(666, 3)"
      ]
     },
     "execution_count": 69,
     "metadata": {},
     "output_type": "execute_result"
    }
   ],
   "source": [
    "df1.shape"
   ]
  },
  {
   "cell_type": "code",
   "execution_count": 70,
   "id": "fd18fdb2",
   "metadata": {
    "scrolled": true
   },
   "outputs": [
    {
     "data": {
      "text/plain": [
       "Picture_quality     99\n",
       "Speaker             23\n",
       "Frequency          540\n",
       "dtype: int64"
      ]
     },
     "execution_count": 70,
     "metadata": {},
     "output_type": "execute_result"
    }
   ],
   "source": [
    "df1.apply(lambda x: x.str.contains('Hz')).sum(axis=0)"
   ]
  },
  {
   "cell_type": "code",
   "execution_count": 71,
   "id": "07cd2890",
   "metadata": {
    "scrolled": true
   },
   "outputs": [
    {
     "data": {
      "text/plain": [
       "(3,)"
      ]
     },
     "execution_count": 71,
     "metadata": {},
     "output_type": "execute_result"
    }
   ],
   "source": [
    "df1.apply(lambda x: x.str.contains('Hz')).sum(axis=0).shape"
   ]
  },
  {
   "cell_type": "markdown",
   "id": "8e14df6e",
   "metadata": {},
   "source": [
    "> 변하는 차원의 숫자를 넣으면 된다. 0은 행, 1은 컬럼 이런식으로 외우면 나중에 차원 많은 거 할 때 성립이 안됨, 2차원만 다룰 거면 그렇게 해도 됨"
   ]
  },
  {
   "cell_type": "markdown",
   "id": "769079bb",
   "metadata": {},
   "source": [
    "Q. 전체 컬럼을 다 더 할 때는 axis 몇을 써야 할까?"
   ]
  },
  {
   "cell_type": "code",
   "execution_count": 78,
   "id": "940fc8e7",
   "metadata": {
    "scrolled": true
   },
   "outputs": [
    {
     "data": {
      "text/plain": [
       "0      1\n",
       "1      1\n",
       "2      1\n",
       "3      1\n",
       "4      1\n",
       "      ..\n",
       "661    1\n",
       "662    1\n",
       "663    1\n",
       "664    1\n",
       "665    1\n",
       "Length: 666, dtype: int64"
      ]
     },
     "execution_count": 78,
     "metadata": {},
     "output_type": "execute_result"
    }
   ],
   "source": [
    "df1.apply(lambda x: x.str.contains('Hz')).sum(axis=1) #axis넣기전에 떠올려보자"
   ]
  },
  {
   "cell_type": "markdown",
   "id": "a3809cd2",
   "metadata": {},
   "source": [
    "> 컬럼을 다 더하면 결국 행만 남을 거고 변하는 차원은 shape에서 1번째가 되겠죠 그래서 axis 1을 넣었다ㅡ\n",
    "\n"
   ]
  },
  {
   "cell_type": "code",
   "execution_count": 79,
   "id": "6ef83eed",
   "metadata": {},
   "outputs": [
    {
     "data": {
      "text/plain": [
       "(666,)"
      ]
     },
     "execution_count": 79,
     "metadata": {},
     "output_type": "execute_result"
    }
   ],
   "source": [
    "df1.apply(lambda x: x.str.contains('Hz')).sum(axis=1).shape"
   ]
  },
  {
   "cell_type": "code",
   "execution_count": 72,
   "id": "d9de2184",
   "metadata": {
    "scrolled": false
   },
   "outputs": [
    {
     "data": {
      "text/html": [
       "<div>\n",
       "<style scoped>\n",
       "    .dataframe tbody tr th:only-of-type {\n",
       "        vertical-align: middle;\n",
       "    }\n",
       "\n",
       "    .dataframe tbody tr th {\n",
       "        vertical-align: top;\n",
       "    }\n",
       "\n",
       "    .dataframe thead th {\n",
       "        text-align: right;\n",
       "    }\n",
       "</style>\n",
       "<table border=\"1\" class=\"dataframe\">\n",
       "  <thead>\n",
       "    <tr style=\"text-align: right;\">\n",
       "      <th></th>\n",
       "      <th>Picture_quality</th>\n",
       "      <th>Speaker</th>\n",
       "      <th>Frequency</th>\n",
       "    </tr>\n",
       "  </thead>\n",
       "  <tbody>\n",
       "    <tr>\n",
       "      <th>234</th>\n",
       "      <td>Ultra HD (4K) 3840 x 2160 Pixels</td>\n",
       "      <td>20 W Speaker Output</td>\n",
       "      <td>3 x HDMI | 2 x USB</td>\n",
       "    </tr>\n",
       "    <tr>\n",
       "      <th>237</th>\n",
       "      <td>Ultra HD (4K) 3840 x 2160 Pixels</td>\n",
       "      <td>20 W Speaker Output</td>\n",
       "      <td>3 x HDMI | 2 x USB</td>\n",
       "    </tr>\n",
       "    <tr>\n",
       "      <th>335</th>\n",
       "      <td>40 W Speaker Output</td>\n",
       "      <td>4 x HDMI | 3 x USB</td>\n",
       "      <td>1 Year Manufaturer Warranty</td>\n",
       "    </tr>\n",
       "    <tr>\n",
       "      <th>547</th>\n",
       "      <td>Ultra HD (4K) 3840 x 2160 Pixels</td>\n",
       "      <td>20 W Speaker Output</td>\n",
       "      <td>3 x HDMI | 2 x USB</td>\n",
       "    </tr>\n",
       "  </tbody>\n",
       "</table>\n",
       "</div>"
      ],
      "text/plain": [
       "                      Picture_quality              Speaker  \\\n",
       "234  Ultra HD (4K) 3840 x 2160 Pixels  20 W Speaker Output   \n",
       "237  Ultra HD (4K) 3840 x 2160 Pixels  20 W Speaker Output   \n",
       "335               40 W Speaker Output   4 x HDMI | 3 x USB   \n",
       "547  Ultra HD (4K) 3840 x 2160 Pixels  20 W Speaker Output   \n",
       "\n",
       "                       Frequency  \n",
       "234           3 x HDMI | 2 x USB  \n",
       "237           3 x HDMI | 2 x USB  \n",
       "335  1 Year Manufaturer Warranty  \n",
       "547           3 x HDMI | 2 x USB  "
      ]
     },
     "execution_count": 72,
     "metadata": {},
     "output_type": "execute_result"
    }
   ],
   "source": [
    "df1[df1.apply(lambda x: x.str.contains('Hz')).sum(axis=1)==0]"
   ]
  },
  {
   "cell_type": "markdown",
   "id": "23272b2f",
   "metadata": {},
   "source": [
    "> 컬럼별로 Hz가 없는 애들은 삭제한 것이다"
   ]
  },
  {
   "cell_type": "code",
   "execution_count": 80,
   "id": "b7c6622d",
   "metadata": {},
   "outputs": [],
   "source": [
    "df1_dropedNA=df1.loc[~(df1.apply(lambda x: x.str.contains('Hz')).sum(axis=1)==0),]"
   ]
  },
  {
   "cell_type": "code",
   "execution_count": 84,
   "id": "e03c2226",
   "metadata": {
    "scrolled": true
   },
   "outputs": [
    {
     "data": {
      "text/plain": [
       "1    510\n",
       "0    152\n",
       "dtype: int64"
      ]
     },
     "execution_count": 84,
     "metadata": {},
     "output_type": "execute_result"
    }
   ],
   "source": [
    "df1_dropedNA.apply(lambda x: x.str.contains('60 Hz')).sum(axis=1).value_counts()"
   ]
  },
  {
   "cell_type": "markdown",
   "id": "59228c93",
   "metadata": {},
   "source": [
    "### A1. 510"
   ]
  },
  {
   "cell_type": "markdown",
   "id": "55b83618",
   "metadata": {},
   "source": [
    "---"
   ]
  },
  {
   "cell_type": "markdown",
   "id": "9c23ef31",
   "metadata": {},
   "source": [
    "#### Q2. TV의 해상도(Picture_quality) 는 HD, 4K, 8K 로 나뉜다. 최근 시장에 등장한 8K 제품군은 상대적으로 비싸 비교적 매출이 떨어지는 편이다. 하지만 8K 제품군 구매자가 4K 제품군 구매자 대비 얼마나 만족하고 있는지 확인해보고자 한다. 8K 제품군의 평가 평균 점수(Stars)의 평균값과 4K 제품군의 평가 평균 점수와의 평균값 차이의 절대값을 산출하시오.\n",
    "※ 화면 해상도는 관련 변수에서 \"HD\", \"4K\", \"8K\"로 찾아낼 수 있다.  \n",
    "※ 화면 해상도 정보는 \"Operating_system\", \"channel\", \"Picture_quality\" 변수에 흩어져 있다.  \n",
    "※ 결과는 반올림하여 소수점 둘째 자리까지 출력하시오.  \n",
    "(정답 예시: 0.12)"
   ]
  },
  {
   "cell_type": "code",
   "execution_count": 25,
   "id": "0f9828ec",
   "metadata": {},
   "outputs": [],
   "source": [
    "col_cate = [\"Operating_system\", \"channel\", \"Picture_quality\"]"
   ]
  },
  {
   "cell_type": "code",
   "execution_count": 26,
   "id": "168ae387",
   "metadata": {},
   "outputs": [
    {
     "data": {
      "text/html": [
       "<div>\n",
       "<style scoped>\n",
       "    .dataframe tbody tr th:only-of-type {\n",
       "        vertical-align: middle;\n",
       "    }\n",
       "\n",
       "    .dataframe tbody tr th {\n",
       "        vertical-align: top;\n",
       "    }\n",
       "\n",
       "    .dataframe thead th {\n",
       "        text-align: right;\n",
       "    }\n",
       "</style>\n",
       "<table border=\"1\" class=\"dataframe\">\n",
       "  <thead>\n",
       "    <tr style=\"text-align: right;\">\n",
       "      <th></th>\n",
       "      <th>Operating_system</th>\n",
       "      <th>channel</th>\n",
       "      <th>Picture_quality</th>\n",
       "    </tr>\n",
       "  </thead>\n",
       "  <tbody>\n",
       "    <tr>\n",
       "      <th>0</th>\n",
       "      <td>20 Speaker Output</td>\n",
       "      <td>HD Ready 1366 x 768 Pixels</td>\n",
       "      <td>60 Hz Refresh Rate</td>\n",
       "    </tr>\n",
       "    <tr>\n",
       "      <th>1</th>\n",
       "      <td>Operating System: Android Based</td>\n",
       "      <td>Netflix|Disney+Hotstar|Youtube</td>\n",
       "      <td>HD Ready 1366 x 768 Pixels</td>\n",
       "    </tr>\n",
       "    <tr>\n",
       "      <th>2</th>\n",
       "      <td>Operating System: WebOS</td>\n",
       "      <td>Netflix|Prime Video|Disney+Hotstar|Youtube</td>\n",
       "      <td>HD Ready 1366 x 768 Pixels</td>\n",
       "    </tr>\n",
       "    <tr>\n",
       "      <th>3</th>\n",
       "      <td>Operating System: Android</td>\n",
       "      <td>Netflix|Prime Video|Disney+Hotstar|Youtube</td>\n",
       "      <td>HD Ready 1366 x 768 Pixels</td>\n",
       "    </tr>\n",
       "    <tr>\n",
       "      <th>4</th>\n",
       "      <td>Operating System: Android</td>\n",
       "      <td>Netflix|Prime Video|Disney+Hotstar|Youtube</td>\n",
       "      <td>HD Ready 1366 x 768 Pixels</td>\n",
       "    </tr>\n",
       "    <tr>\n",
       "      <th>...</th>\n",
       "      <td>...</td>\n",
       "      <td>...</td>\n",
       "      <td>...</td>\n",
       "    </tr>\n",
       "    <tr>\n",
       "      <th>661</th>\n",
       "      <td>NO Speaker Output</td>\n",
       "      <td>Ultra HD (4K) 3840 x 2160 pixels Pixels</td>\n",
       "      <td>60 Hz Refresh Rate</td>\n",
       "    </tr>\n",
       "    <tr>\n",
       "      <th>662</th>\n",
       "      <td>Operating System: Linux based</td>\n",
       "      <td>Netflix|Prime Video|Youtube</td>\n",
       "      <td>Ultra HD (4K) 3840 x 2160 Pixels</td>\n",
       "    </tr>\n",
       "    <tr>\n",
       "      <th>663</th>\n",
       "      <td>20 Speaker Output</td>\n",
       "      <td>HD Ready 1366 x 786 Pixels</td>\n",
       "      <td>60 Hz Refresh Rate</td>\n",
       "    </tr>\n",
       "    <tr>\n",
       "      <th>664</th>\n",
       "      <td>Full HD 1920 x 1080 Pixels</td>\n",
       "      <td>Netflix|Prime Video|Apple TV|Disney+Hotstar|Yo...</td>\n",
       "      <td>16 Speaker Output</td>\n",
       "    </tr>\n",
       "    <tr>\n",
       "      <th>665</th>\n",
       "      <td>10W + 10W Speaker Output</td>\n",
       "      <td>Ultra HD (4K) 3840 x 2160 pixels Pixels</td>\n",
       "      <td>50 Hz Refresh Rate</td>\n",
       "    </tr>\n",
       "  </tbody>\n",
       "</table>\n",
       "<p>666 rows × 3 columns</p>\n",
       "</div>"
      ],
      "text/plain": [
       "                    Operating_system  \\\n",
       "0                  20 Speaker Output   \n",
       "1    Operating System: Android Based   \n",
       "2            Operating System: WebOS   \n",
       "3          Operating System: Android   \n",
       "4          Operating System: Android   \n",
       "..                               ...   \n",
       "661                NO Speaker Output   \n",
       "662    Operating System: Linux based   \n",
       "663                20 Speaker Output   \n",
       "664       Full HD 1920 x 1080 Pixels   \n",
       "665         10W + 10W Speaker Output   \n",
       "\n",
       "                                               channel  \\\n",
       "0                           HD Ready 1366 x 768 Pixels   \n",
       "1                       Netflix|Disney+Hotstar|Youtube   \n",
       "2           Netflix|Prime Video|Disney+Hotstar|Youtube   \n",
       "3           Netflix|Prime Video|Disney+Hotstar|Youtube   \n",
       "4           Netflix|Prime Video|Disney+Hotstar|Youtube   \n",
       "..                                                 ...   \n",
       "661            Ultra HD (4K) 3840 x 2160 pixels Pixels   \n",
       "662                        Netflix|Prime Video|Youtube   \n",
       "663                         HD Ready 1366 x 786 Pixels   \n",
       "664  Netflix|Prime Video|Apple TV|Disney+Hotstar|Yo...   \n",
       "665            Ultra HD (4K) 3840 x 2160 pixels Pixels   \n",
       "\n",
       "                      Picture_quality  \n",
       "0                  60 Hz Refresh Rate  \n",
       "1          HD Ready 1366 x 768 Pixels  \n",
       "2          HD Ready 1366 x 768 Pixels  \n",
       "3          HD Ready 1366 x 768 Pixels  \n",
       "4          HD Ready 1366 x 768 Pixels  \n",
       "..                                ...  \n",
       "661                60 Hz Refresh Rate  \n",
       "662  Ultra HD (4K) 3840 x 2160 Pixels  \n",
       "663                60 Hz Refresh Rate  \n",
       "664                 16 Speaker Output  \n",
       "665                50 Hz Refresh Rate  \n",
       "\n",
       "[666 rows x 3 columns]"
      ]
     },
     "execution_count": 26,
     "metadata": {},
     "output_type": "execute_result"
    }
   ],
   "source": [
    "df2=df_origin[col_cate].copy()\n",
    "df2"
   ]
  },
  {
   "cell_type": "markdown",
   "id": "a9d34135",
   "metadata": {},
   "source": [
    "> 661, 662 저렇게(4K) 데이터가 수집되어 있나보네"
   ]
  },
  {
   "cell_type": "code",
   "execution_count": 41,
   "id": "d56905e3",
   "metadata": {
    "scrolled": true
   },
   "outputs": [
    {
     "data": {
      "text/html": [
       "<div>\n",
       "<style scoped>\n",
       "    .dataframe tbody tr th:only-of-type {\n",
       "        vertical-align: middle;\n",
       "    }\n",
       "\n",
       "    .dataframe tbody tr th {\n",
       "        vertical-align: top;\n",
       "    }\n",
       "\n",
       "    .dataframe thead th {\n",
       "        text-align: right;\n",
       "    }\n",
       "</style>\n",
       "<table border=\"1\" class=\"dataframe\">\n",
       "  <thead>\n",
       "    <tr style=\"text-align: right;\">\n",
       "      <th></th>\n",
       "      <th>Operating_system</th>\n",
       "      <th>channel</th>\n",
       "      <th>Picture_quality</th>\n",
       "    </tr>\n",
       "  </thead>\n",
       "  <tbody>\n",
       "    <tr>\n",
       "      <th>0</th>\n",
       "      <td>False</td>\n",
       "      <td>False</td>\n",
       "      <td>False</td>\n",
       "    </tr>\n",
       "    <tr>\n",
       "      <th>1</th>\n",
       "      <td>False</td>\n",
       "      <td>False</td>\n",
       "      <td>False</td>\n",
       "    </tr>\n",
       "    <tr>\n",
       "      <th>2</th>\n",
       "      <td>False</td>\n",
       "      <td>False</td>\n",
       "      <td>False</td>\n",
       "    </tr>\n",
       "    <tr>\n",
       "      <th>3</th>\n",
       "      <td>False</td>\n",
       "      <td>False</td>\n",
       "      <td>False</td>\n",
       "    </tr>\n",
       "    <tr>\n",
       "      <th>4</th>\n",
       "      <td>False</td>\n",
       "      <td>False</td>\n",
       "      <td>False</td>\n",
       "    </tr>\n",
       "    <tr>\n",
       "      <th>...</th>\n",
       "      <td>...</td>\n",
       "      <td>...</td>\n",
       "      <td>...</td>\n",
       "    </tr>\n",
       "    <tr>\n",
       "      <th>661</th>\n",
       "      <td>False</td>\n",
       "      <td>True</td>\n",
       "      <td>False</td>\n",
       "    </tr>\n",
       "    <tr>\n",
       "      <th>662</th>\n",
       "      <td>False</td>\n",
       "      <td>False</td>\n",
       "      <td>True</td>\n",
       "    </tr>\n",
       "    <tr>\n",
       "      <th>663</th>\n",
       "      <td>False</td>\n",
       "      <td>False</td>\n",
       "      <td>False</td>\n",
       "    </tr>\n",
       "    <tr>\n",
       "      <th>664</th>\n",
       "      <td>False</td>\n",
       "      <td>False</td>\n",
       "      <td>False</td>\n",
       "    </tr>\n",
       "    <tr>\n",
       "      <th>665</th>\n",
       "      <td>False</td>\n",
       "      <td>True</td>\n",
       "      <td>False</td>\n",
       "    </tr>\n",
       "  </tbody>\n",
       "</table>\n",
       "<p>666 rows × 3 columns</p>\n",
       "</div>"
      ],
      "text/plain": [
       "     Operating_system  channel  Picture_quality\n",
       "0               False    False            False\n",
       "1               False    False            False\n",
       "2               False    False            False\n",
       "3               False    False            False\n",
       "4               False    False            False\n",
       "..                ...      ...              ...\n",
       "661             False     True            False\n",
       "662             False    False             True\n",
       "663             False    False            False\n",
       "664             False    False            False\n",
       "665             False     True            False\n",
       "\n",
       "[666 rows x 3 columns]"
      ]
     },
     "execution_count": 41,
     "metadata": {},
     "output_type": "execute_result"
    }
   ],
   "source": [
    "df2.apply(lambda x:x.str.contains('4K|8K'))"
   ]
  },
  {
   "cell_type": "markdown",
   "id": "ed9e4b8c",
   "metadata": {},
   "source": [
    "Q. 혹시 한 행에 4K, 8K가 되어 있는 행이 있을까?"
   ]
  },
  {
   "cell_type": "code",
   "execution_count": 42,
   "id": "7a3aff40",
   "metadata": {},
   "outputs": [],
   "source": [
    "is_contains_words=df2.apply(lambda x:x.str.contains('4K|8K')).sum(axis=1)>1"
   ]
  },
  {
   "cell_type": "code",
   "execution_count": 43,
   "id": "ee68aaec",
   "metadata": {},
   "outputs": [
    {
     "data": {
      "text/plain": [
       "0"
      ]
     },
     "execution_count": 43,
     "metadata": {},
     "output_type": "execute_result"
    }
   ],
   "source": [
    "is_contains_words.sum()"
   ]
  },
  {
   "cell_type": "markdown",
   "id": "2ea48a9d",
   "metadata": {},
   "source": [
    "A. 없다. 둘은 완벽히 나눠지는구나. 둘을 골라내야 하는 작업은 안해도 되겠다!"
   ]
  },
  {
   "cell_type": "code",
   "execution_count": 45,
   "id": "8c9164fa",
   "metadata": {},
   "outputs": [],
   "source": [
    "df2['is_4K'] = df2[col_cate].apply(lambda x:x.str.contains('4K')).sum(axis=1)\n",
    "df2['is_8K'] = df2[col_cate].apply(lambda x:x.str.contains('8K')).sum(axis=1)"
   ]
  },
  {
   "cell_type": "code",
   "execution_count": 46,
   "id": "03850a1f",
   "metadata": {},
   "outputs": [
    {
     "data": {
      "text/html": [
       "<div>\n",
       "<style scoped>\n",
       "    .dataframe tbody tr th:only-of-type {\n",
       "        vertical-align: middle;\n",
       "    }\n",
       "\n",
       "    .dataframe tbody tr th {\n",
       "        vertical-align: top;\n",
       "    }\n",
       "\n",
       "    .dataframe thead th {\n",
       "        text-align: right;\n",
       "    }\n",
       "</style>\n",
       "<table border=\"1\" class=\"dataframe\">\n",
       "  <thead>\n",
       "    <tr style=\"text-align: right;\">\n",
       "      <th></th>\n",
       "      <th>Operating_system</th>\n",
       "      <th>channel</th>\n",
       "      <th>Picture_quality</th>\n",
       "      <th>is_4K</th>\n",
       "      <th>is_8K</th>\n",
       "    </tr>\n",
       "  </thead>\n",
       "  <tbody>\n",
       "    <tr>\n",
       "      <th>0</th>\n",
       "      <td>20 Speaker Output</td>\n",
       "      <td>HD Ready 1366 x 768 Pixels</td>\n",
       "      <td>60 Hz Refresh Rate</td>\n",
       "      <td>0</td>\n",
       "      <td>0</td>\n",
       "    </tr>\n",
       "    <tr>\n",
       "      <th>1</th>\n",
       "      <td>Operating System: Android Based</td>\n",
       "      <td>Netflix|Disney+Hotstar|Youtube</td>\n",
       "      <td>HD Ready 1366 x 768 Pixels</td>\n",
       "      <td>0</td>\n",
       "      <td>0</td>\n",
       "    </tr>\n",
       "    <tr>\n",
       "      <th>2</th>\n",
       "      <td>Operating System: WebOS</td>\n",
       "      <td>Netflix|Prime Video|Disney+Hotstar|Youtube</td>\n",
       "      <td>HD Ready 1366 x 768 Pixels</td>\n",
       "      <td>0</td>\n",
       "      <td>0</td>\n",
       "    </tr>\n",
       "    <tr>\n",
       "      <th>3</th>\n",
       "      <td>Operating System: Android</td>\n",
       "      <td>Netflix|Prime Video|Disney+Hotstar|Youtube</td>\n",
       "      <td>HD Ready 1366 x 768 Pixels</td>\n",
       "      <td>0</td>\n",
       "      <td>0</td>\n",
       "    </tr>\n",
       "    <tr>\n",
       "      <th>4</th>\n",
       "      <td>Operating System: Android</td>\n",
       "      <td>Netflix|Prime Video|Disney+Hotstar|Youtube</td>\n",
       "      <td>HD Ready 1366 x 768 Pixels</td>\n",
       "      <td>0</td>\n",
       "      <td>0</td>\n",
       "    </tr>\n",
       "  </tbody>\n",
       "</table>\n",
       "</div>"
      ],
      "text/plain": [
       "                  Operating_system  \\\n",
       "0                20 Speaker Output   \n",
       "1  Operating System: Android Based   \n",
       "2          Operating System: WebOS   \n",
       "3        Operating System: Android   \n",
       "4        Operating System: Android   \n",
       "\n",
       "                                      channel             Picture_quality  \\\n",
       "0                  HD Ready 1366 x 768 Pixels          60 Hz Refresh Rate   \n",
       "1              Netflix|Disney+Hotstar|Youtube  HD Ready 1366 x 768 Pixels   \n",
       "2  Netflix|Prime Video|Disney+Hotstar|Youtube  HD Ready 1366 x 768 Pixels   \n",
       "3  Netflix|Prime Video|Disney+Hotstar|Youtube  HD Ready 1366 x 768 Pixels   \n",
       "4  Netflix|Prime Video|Disney+Hotstar|Youtube  HD Ready 1366 x 768 Pixels   \n",
       "\n",
       "   is_4K  is_8K  \n",
       "0      0      0  \n",
       "1      0      0  \n",
       "2      0      0  \n",
       "3      0      0  \n",
       "4      0      0  "
      ]
     },
     "execution_count": 46,
     "metadata": {},
     "output_type": "execute_result"
    }
   ],
   "source": [
    "df2.head()"
   ]
  },
  {
   "cell_type": "code",
   "execution_count": 48,
   "id": "e9376ed4",
   "metadata": {},
   "outputs": [
    {
     "data": {
      "text/html": [
       "<div>\n",
       "<style scoped>\n",
       "    .dataframe tbody tr th:only-of-type {\n",
       "        vertical-align: middle;\n",
       "    }\n",
       "\n",
       "    .dataframe tbody tr th {\n",
       "        vertical-align: top;\n",
       "    }\n",
       "\n",
       "    .dataframe thead th {\n",
       "        text-align: right;\n",
       "    }\n",
       "</style>\n",
       "<table border=\"1\" class=\"dataframe\">\n",
       "  <thead>\n",
       "    <tr style=\"text-align: right;\">\n",
       "      <th></th>\n",
       "      <th>is_4K</th>\n",
       "      <th>is_8K</th>\n",
       "      <th>Stars</th>\n",
       "    </tr>\n",
       "  </thead>\n",
       "  <tbody>\n",
       "    <tr>\n",
       "      <th>0</th>\n",
       "      <td>0</td>\n",
       "      <td>0</td>\n",
       "      <td>4.2</td>\n",
       "    </tr>\n",
       "    <tr>\n",
       "      <th>1</th>\n",
       "      <td>0</td>\n",
       "      <td>0</td>\n",
       "      <td>3.8</td>\n",
       "    </tr>\n",
       "    <tr>\n",
       "      <th>2</th>\n",
       "      <td>0</td>\n",
       "      <td>0</td>\n",
       "      <td>4.4</td>\n",
       "    </tr>\n",
       "    <tr>\n",
       "      <th>3</th>\n",
       "      <td>0</td>\n",
       "      <td>0</td>\n",
       "      <td>4.3</td>\n",
       "    </tr>\n",
       "    <tr>\n",
       "      <th>4</th>\n",
       "      <td>0</td>\n",
       "      <td>0</td>\n",
       "      <td>4.3</td>\n",
       "    </tr>\n",
       "    <tr>\n",
       "      <th>...</th>\n",
       "      <td>...</td>\n",
       "      <td>...</td>\n",
       "      <td>...</td>\n",
       "    </tr>\n",
       "    <tr>\n",
       "      <th>661</th>\n",
       "      <td>1</td>\n",
       "      <td>0</td>\n",
       "      <td>4.6</td>\n",
       "    </tr>\n",
       "    <tr>\n",
       "      <th>662</th>\n",
       "      <td>1</td>\n",
       "      <td>0</td>\n",
       "      <td>4.5</td>\n",
       "    </tr>\n",
       "    <tr>\n",
       "      <th>663</th>\n",
       "      <td>0</td>\n",
       "      <td>0</td>\n",
       "      <td>0.0</td>\n",
       "    </tr>\n",
       "    <tr>\n",
       "      <th>664</th>\n",
       "      <td>0</td>\n",
       "      <td>0</td>\n",
       "      <td>0.0</td>\n",
       "    </tr>\n",
       "    <tr>\n",
       "      <th>665</th>\n",
       "      <td>1</td>\n",
       "      <td>0</td>\n",
       "      <td>4.4</td>\n",
       "    </tr>\n",
       "  </tbody>\n",
       "</table>\n",
       "<p>666 rows × 3 columns</p>\n",
       "</div>"
      ],
      "text/plain": [
       "     is_4K  is_8K  Stars\n",
       "0        0      0    4.2\n",
       "1        0      0    3.8\n",
       "2        0      0    4.4\n",
       "3        0      0    4.3\n",
       "4        0      0    4.3\n",
       "..     ...    ...    ...\n",
       "661      1      0    4.6\n",
       "662      1      0    4.5\n",
       "663      0      0    0.0\n",
       "664      0      0    0.0\n",
       "665      1      0    4.4\n",
       "\n",
       "[666 rows x 3 columns]"
      ]
     },
     "execution_count": 48,
     "metadata": {},
     "output_type": "execute_result"
    }
   ],
   "source": [
    "df2_w_stars=pd.concat([df2[['is_4K','is_8K']],df_origin['Stars']], axis=1)\n",
    "df2_w_stars"
   ]
  },
  {
   "cell_type": "code",
   "execution_count": 49,
   "id": "68292526",
   "metadata": {},
   "outputs": [],
   "source": [
    "mean_4k=df2_w_stars.loc[df2_w_stars.is_4K==1,'Stars'].mean()"
   ]
  },
  {
   "cell_type": "code",
   "execution_count": 50,
   "id": "7d23f3f4",
   "metadata": {},
   "outputs": [],
   "source": [
    "mean_8k = df2_w_stars.loc[df2_w_stars.is_8K==1,'Stars'].mean()"
   ]
  },
  {
   "cell_type": "code",
   "execution_count": 51,
   "id": "fcfb9efa",
   "metadata": {},
   "outputs": [
    {
     "data": {
      "text/plain": [
       "0.38"
      ]
     },
     "execution_count": 51,
     "metadata": {},
     "output_type": "execute_result"
    }
   ],
   "source": [
    "round(abs(mean_4k-mean_8k),2)"
   ]
  },
  {
   "cell_type": "markdown",
   "id": "7213dfb5",
   "metadata": {},
   "source": [
    "### A2. 0.38"
   ]
  },
  {
   "cell_type": "markdown",
   "id": "cb929acf",
   "metadata": {},
   "source": [
    "---"
   ]
  },
  {
   "cell_type": "markdown",
   "id": "7d4b410e",
   "metadata": {},
   "source": [
    "#### Q3. 좋은 평가를 받는 제품의 조건을 알아보고자 한다. 이를 위해 기존 변수와 더불어 여러 파생변수를 생성 후 해당 변수를 독립변수로 하고 평가 평균 점수(Stars)를 종속변수로 하여 Random Forest 분석을 통해 좋은 평가를 받는 제품의 조건을 알아보고자 한다. 아래 절차를 수행하여 변수 중요도를 확인하고, 가장 큰 값의 변수명(한글)을 쓰시오. ex) 후기 작성 비율, 공장 출고가\n",
    "\n",
    "<독립변수>\n",
    " - 후기 작성 비율: 후기 수(Reviews)/ 평가 수(Ratings)\n",
    " - 공장 출고가(MRP)\n",
    " - 할인율: 현재 판매가(current_price) / 공장 출고가(MRP)\n",
    " - Netflix 제공 여부: 제공(1), 미제공(0)\n",
    " - Prime Video 제공 여부: 제공(1), 미제공(0)\n",
    " - 고해상도 여부: 4K 또는 8K(1), 나머지 0\n",
    "\n",
    "<종속변수>\n",
    " - 평가 평균 점수(Stars)\n",
    "\n",
    "※ channel 변수에 해상도(‘Pixel’ 문자 참조) 또는 운영체제 정보(‘Oper’ 문자 참조)가 있는 TV는 분석에서 제외하시오.  \n",
    "※ Netflix와 Prime Video 제공여부 변수는 channel 변수를 참고하시오.  \n",
    "※ 독립변수를 생성하면서 결측치가 생성되는 경우 해당 행을 모두 제거하시오.  \n",
    "※ 학습 대상이 되는 행 개수는 197이다  \n",
    "※ 고해상도 여부 변수 생성은 해상도(Picture_quality) 변수만 참고하여 생성하시오.  \n",
    "※ seed는 123으로 지정하시오.  "
   ]
  },
  {
   "cell_type": "markdown",
   "id": "7e2b11f8",
   "metadata": {},
   "source": [
    "---"
   ]
  },
  {
   "cell_type": "markdown",
   "id": "560044da",
   "metadata": {},
   "source": [
    "※ channel 변수에 해상도(‘Pixel’ 문자 참조) 또는 운영체제 정보(‘Oper’ 문자 참조)가 있는 TV는 분석에서 제외하시오."
   ]
  },
  {
   "cell_type": "code",
   "execution_count": 30,
   "id": "e0896f43",
   "metadata": {
    "scrolled": true
   },
   "outputs": [],
   "source": [
    "df3=df_origin.copy()"
   ]
  },
  {
   "cell_type": "code",
   "execution_count": 31,
   "id": "4db0f0f4",
   "metadata": {},
   "outputs": [
    {
     "data": {
      "text/plain": [
       "0                             HD Ready 1366 x 768 Pixels\n",
       "1                         Netflix|Disney+Hotstar|Youtube\n",
       "2             Netflix|Prime Video|Disney+Hotstar|Youtube\n",
       "3             Netflix|Prime Video|Disney+Hotstar|Youtube\n",
       "4             Netflix|Prime Video|Disney+Hotstar|Youtube\n",
       "                             ...                        \n",
       "661              Ultra HD (4K) 3840 x 2160 pixels Pixels\n",
       "662                          Netflix|Prime Video|Youtube\n",
       "663                           HD Ready 1366 x 786 Pixels\n",
       "664    Netflix|Prime Video|Apple TV|Disney+Hotstar|Yo...\n",
       "665              Ultra HD (4K) 3840 x 2160 pixels Pixels\n",
       "Name: channel, Length: 666, dtype: object"
      ]
     },
     "execution_count": 31,
     "metadata": {},
     "output_type": "execute_result"
    }
   ],
   "source": [
    "df3.channel"
   ]
  },
  {
   "cell_type": "code",
   "execution_count": 52,
   "id": "160b98ab",
   "metadata": {
    "scrolled": true
   },
   "outputs": [
    {
     "data": {
      "text/plain": [
       "118"
      ]
     },
     "execution_count": 52,
     "metadata": {},
     "output_type": "execute_result"
    }
   ],
   "source": [
    "df3['channel'].str.contains('Pixel|Oper').sum()"
   ]
  },
  {
   "cell_type": "code",
   "execution_count": 53,
   "id": "7eef9685",
   "metadata": {},
   "outputs": [
    {
     "data": {
      "text/html": [
       "<div>\n",
       "<style scoped>\n",
       "    .dataframe tbody tr th:only-of-type {\n",
       "        vertical-align: middle;\n",
       "    }\n",
       "\n",
       "    .dataframe tbody tr th {\n",
       "        vertical-align: top;\n",
       "    }\n",
       "\n",
       "    .dataframe thead th {\n",
       "        text-align: right;\n",
       "    }\n",
       "</style>\n",
       "<table border=\"1\" class=\"dataframe\">\n",
       "  <thead>\n",
       "    <tr style=\"text-align: right;\">\n",
       "      <th></th>\n",
       "      <th>Product_Name</th>\n",
       "      <th>Stars</th>\n",
       "      <th>Ratings</th>\n",
       "      <th>Reviews</th>\n",
       "      <th>current_price</th>\n",
       "      <th>MRP</th>\n",
       "      <th>channel</th>\n",
       "      <th>Operating_system</th>\n",
       "      <th>Picture_quality</th>\n",
       "      <th>Speaker</th>\n",
       "      <th>Frequency</th>\n",
       "    </tr>\n",
       "  </thead>\n",
       "  <tbody>\n",
       "    <tr>\n",
       "      <th>1</th>\n",
       "      <td>Adsun</td>\n",
       "      <td>3.8</td>\n",
       "      <td>6742</td>\n",
       "      <td>930</td>\n",
       "      <td>8699</td>\n",
       "      <td>21999</td>\n",
       "      <td>Netflix|Disney+Hotstar|Youtube</td>\n",
       "      <td>Operating System: Android Based</td>\n",
       "      <td>HD Ready 1366 x 768 Pixels</td>\n",
       "      <td>20 W Speaker Output</td>\n",
       "      <td>60 Hz Refresh Rate</td>\n",
       "    </tr>\n",
       "    <tr>\n",
       "      <th>2</th>\n",
       "      <td>LG</td>\n",
       "      <td>4.4</td>\n",
       "      <td>38870</td>\n",
       "      <td>3443</td>\n",
       "      <td>16499</td>\n",
       "      <td>21990</td>\n",
       "      <td>Netflix|Prime Video|Disney+Hotstar|Youtube</td>\n",
       "      <td>Operating System: WebOS</td>\n",
       "      <td>HD Ready 1366 x 768 Pixels</td>\n",
       "      <td>10 W Speaker Output</td>\n",
       "      <td>50 Hz Refresh Rate</td>\n",
       "    </tr>\n",
       "  </tbody>\n",
       "</table>\n",
       "</div>"
      ],
      "text/plain": [
       "  Product_Name  Stars  Ratings  Reviews  current_price    MRP  \\\n",
       "1        Adsun    3.8     6742      930           8699  21999   \n",
       "2           LG    4.4    38870     3443          16499  21990   \n",
       "\n",
       "                                      channel  \\\n",
       "1              Netflix|Disney+Hotstar|Youtube   \n",
       "2  Netflix|Prime Video|Disney+Hotstar|Youtube   \n",
       "\n",
       "                  Operating_system             Picture_quality  \\\n",
       "1  Operating System: Android Based  HD Ready 1366 x 768 Pixels   \n",
       "2          Operating System: WebOS  HD Ready 1366 x 768 Pixels   \n",
       "\n",
       "               Speaker           Frequency  \n",
       "1  20 W Speaker Output  60 Hz Refresh Rate  \n",
       "2  10 W Speaker Output  50 Hz Refresh Rate  "
      ]
     },
     "execution_count": 53,
     "metadata": {},
     "output_type": "execute_result"
    }
   ],
   "source": [
    "df3=df3.loc[~df3['channel'].str.contains('Pixel|Oper')]\n",
    "df3.head(2)"
   ]
  },
  {
   "cell_type": "markdown",
   "id": "2c2d2130",
   "metadata": {},
   "source": [
    "---"
   ]
  },
  {
   "cell_type": "markdown",
   "id": "5efc1f04",
   "metadata": {},
   "source": [
    "※ Netflix와 Prime Video 제공여부 변수는 channel 변수를 참고하시오.  "
   ]
  },
  {
   "cell_type": "markdown",
   "id": "6ad30a81",
   "metadata": {},
   "source": [
    "Netflix 제공 여부: 제공(1), 미제공(0)  \n",
    "Prime Video 제공 여부: 제공(1), 미제공(0)"
   ]
  },
  {
   "cell_type": "code",
   "execution_count": 54,
   "id": "db6d7ac4",
   "metadata": {},
   "outputs": [
    {
     "data": {
      "text/plain": [
       "1      True\n",
       "2      True\n",
       "3      True\n",
       "4      True\n",
       "5      True\n",
       "       ... \n",
       "655    True\n",
       "656    True\n",
       "657    True\n",
       "662    True\n",
       "664    True\n",
       "Name: channel, Length: 548, dtype: bool"
      ]
     },
     "execution_count": 54,
     "metadata": {},
     "output_type": "execute_result"
    }
   ],
   "source": [
    "df3['channel'].str.contains('Netflix')"
   ]
  },
  {
   "cell_type": "code",
   "execution_count": 55,
   "id": "f96faace",
   "metadata": {},
   "outputs": [
    {
     "data": {
      "text/plain": [
       "1      1\n",
       "2      1\n",
       "3      1\n",
       "4      1\n",
       "5      1\n",
       "      ..\n",
       "655    1\n",
       "656    1\n",
       "657    1\n",
       "662    1\n",
       "664    1\n",
       "Name: channel, Length: 548, dtype: int32"
      ]
     },
     "execution_count": 55,
     "metadata": {},
     "output_type": "execute_result"
    }
   ],
   "source": [
    "df3['channel'].str.contains('Netflix').astype(int)"
   ]
  },
  {
   "cell_type": "code",
   "execution_count": 58,
   "id": "95925f8d",
   "metadata": {},
   "outputs": [],
   "source": [
    "df3=df3.assign(support_netflix=df3['channel'].str.contains('Netflix').astype(int),\n",
    "                support_prime=df3['channel'].str.contains('Prime Video').astype(int))"
   ]
  },
  {
   "cell_type": "markdown",
   "id": "4bc2ac0c",
   "metadata": {},
   "source": [
    "> assign으로도 컬럼 추가 가능"
   ]
  },
  {
   "cell_type": "markdown",
   "id": "8083419a",
   "metadata": {},
   "source": [
    "후기 작성 비율: 후기 수(Reviews)/ 평가 수(Ratings)  \n",
    "할인율: 현재 판매가(current_price) / 공장 출고가(MRP)  \n",
    "고해상도 여부: 4K 또는 8K(1), 나머지 0"
   ]
  },
  {
   "cell_type": "code",
   "execution_count": 59,
   "id": "e53f23be",
   "metadata": {},
   "outputs": [],
   "source": [
    "df3=df3.assign(review_ratio = df3.Reviews/df_q3.Ratings,\n",
    "                          discount_rate = df3.current_price/df_q3.MRP,\n",
    "                          is_high = df3.Picture_quality.str.contains('4K|8K').astype(int)\n",
    "                          )\n",
    "# df3.Picture_quality.map(lambda x: 1 if '4K' in x or '8K' in x else 0).sum()"
   ]
  },
  {
   "cell_type": "code",
   "execution_count": 60,
   "id": "9a559705",
   "metadata": {},
   "outputs": [],
   "source": [
    "col_feature = ['support_netflix','support_prime','review_ratio','discount_rate','is_high','MRP']"
   ]
  },
  {
   "cell_type": "markdown",
   "id": "46617e78",
   "metadata": {},
   "source": [
    "※ 독립변수를 생성하면서 결측치가 생성되는 경우 해당 행을 모두 제거하시오."
   ]
  },
  {
   "cell_type": "code",
   "execution_count": 61,
   "id": "4c7e597c",
   "metadata": {},
   "outputs": [
    {
     "data": {
      "text/plain": [
       "support_netflix      0\n",
       "support_prime        0\n",
       "review_ratio       351\n",
       "discount_rate        0\n",
       "is_high              0\n",
       "MRP                  0\n",
       "dtype: int64"
      ]
     },
     "execution_count": 61,
     "metadata": {},
     "output_type": "execute_result"
    }
   ],
   "source": [
    "df3[col_feature].apply(lambda x: x.isna().sum())"
   ]
  },
  {
   "cell_type": "code",
   "execution_count": 62,
   "id": "39f15212",
   "metadata": {},
   "outputs": [],
   "source": [
    "df3_notna=df3.loc[~df3.review_ratio.isna()]"
   ]
  },
  {
   "cell_type": "markdown",
   "id": "a2a0a464",
   "metadata": {},
   "source": [
    "※ 학습 대상이 되는 행 개수는 197이다"
   ]
  },
  {
   "cell_type": "code",
   "execution_count": 63,
   "id": "4a4383b2",
   "metadata": {},
   "outputs": [
    {
     "data": {
      "text/plain": [
       "197"
      ]
     },
     "execution_count": 63,
     "metadata": {},
     "output_type": "execute_result"
    }
   ],
   "source": [
    "len(df3_notna)"
   ]
  },
  {
   "cell_type": "code",
   "execution_count": 64,
   "id": "11e7849f",
   "metadata": {},
   "outputs": [],
   "source": [
    "from sklearn.ensemble import RandomForestRegressor"
   ]
  },
  {
   "cell_type": "code",
   "execution_count": 65,
   "id": "d277581e",
   "metadata": {},
   "outputs": [
    {
     "data": {
      "text/html": [
       "<style>#sk-container-id-1 {color: black;background-color: white;}#sk-container-id-1 pre{padding: 0;}#sk-container-id-1 div.sk-toggleable {background-color: white;}#sk-container-id-1 label.sk-toggleable__label {cursor: pointer;display: block;width: 100%;margin-bottom: 0;padding: 0.3em;box-sizing: border-box;text-align: center;}#sk-container-id-1 label.sk-toggleable__label-arrow:before {content: \"▸\";float: left;margin-right: 0.25em;color: #696969;}#sk-container-id-1 label.sk-toggleable__label-arrow:hover:before {color: black;}#sk-container-id-1 div.sk-estimator:hover label.sk-toggleable__label-arrow:before {color: black;}#sk-container-id-1 div.sk-toggleable__content {max-height: 0;max-width: 0;overflow: hidden;text-align: left;background-color: #f0f8ff;}#sk-container-id-1 div.sk-toggleable__content pre {margin: 0.2em;color: black;border-radius: 0.25em;background-color: #f0f8ff;}#sk-container-id-1 input.sk-toggleable__control:checked~div.sk-toggleable__content {max-height: 200px;max-width: 100%;overflow: auto;}#sk-container-id-1 input.sk-toggleable__control:checked~label.sk-toggleable__label-arrow:before {content: \"▾\";}#sk-container-id-1 div.sk-estimator input.sk-toggleable__control:checked~label.sk-toggleable__label {background-color: #d4ebff;}#sk-container-id-1 div.sk-label input.sk-toggleable__control:checked~label.sk-toggleable__label {background-color: #d4ebff;}#sk-container-id-1 input.sk-hidden--visually {border: 0;clip: rect(1px 1px 1px 1px);clip: rect(1px, 1px, 1px, 1px);height: 1px;margin: -1px;overflow: hidden;padding: 0;position: absolute;width: 1px;}#sk-container-id-1 div.sk-estimator {font-family: monospace;background-color: #f0f8ff;border: 1px dotted black;border-radius: 0.25em;box-sizing: border-box;margin-bottom: 0.5em;}#sk-container-id-1 div.sk-estimator:hover {background-color: #d4ebff;}#sk-container-id-1 div.sk-parallel-item::after {content: \"\";width: 100%;border-bottom: 1px solid gray;flex-grow: 1;}#sk-container-id-1 div.sk-label:hover label.sk-toggleable__label {background-color: #d4ebff;}#sk-container-id-1 div.sk-serial::before {content: \"\";position: absolute;border-left: 1px solid gray;box-sizing: border-box;top: 0;bottom: 0;left: 50%;z-index: 0;}#sk-container-id-1 div.sk-serial {display: flex;flex-direction: column;align-items: center;background-color: white;padding-right: 0.2em;padding-left: 0.2em;position: relative;}#sk-container-id-1 div.sk-item {position: relative;z-index: 1;}#sk-container-id-1 div.sk-parallel {display: flex;align-items: stretch;justify-content: center;background-color: white;position: relative;}#sk-container-id-1 div.sk-item::before, #sk-container-id-1 div.sk-parallel-item::before {content: \"\";position: absolute;border-left: 1px solid gray;box-sizing: border-box;top: 0;bottom: 0;left: 50%;z-index: -1;}#sk-container-id-1 div.sk-parallel-item {display: flex;flex-direction: column;z-index: 1;position: relative;background-color: white;}#sk-container-id-1 div.sk-parallel-item:first-child::after {align-self: flex-end;width: 50%;}#sk-container-id-1 div.sk-parallel-item:last-child::after {align-self: flex-start;width: 50%;}#sk-container-id-1 div.sk-parallel-item:only-child::after {width: 0;}#sk-container-id-1 div.sk-dashed-wrapped {border: 1px dashed gray;margin: 0 0.4em 0.5em 0.4em;box-sizing: border-box;padding-bottom: 0.4em;background-color: white;}#sk-container-id-1 div.sk-label label {font-family: monospace;font-weight: bold;display: inline-block;line-height: 1.2em;}#sk-container-id-1 div.sk-label-container {text-align: center;}#sk-container-id-1 div.sk-container {/* jupyter's `normalize.less` sets `[hidden] { display: none; }` but bootstrap.min.css set `[hidden] { display: none !important; }` so we also need the `!important` here to be able to override the default hidden behavior on the sphinx rendered scikit-learn.org. See: https://github.com/scikit-learn/scikit-learn/issues/21755 */display: inline-block !important;position: relative;}#sk-container-id-1 div.sk-text-repr-fallback {display: none;}</style><div id=\"sk-container-id-1\" class=\"sk-top-container\"><div class=\"sk-text-repr-fallback\"><pre>RandomForestRegressor(random_state=123)</pre><b>In a Jupyter environment, please rerun this cell to show the HTML representation or trust the notebook. <br />On GitHub, the HTML representation is unable to render, please try loading this page with nbviewer.org.</b></div><div class=\"sk-container\" hidden><div class=\"sk-item\"><div class=\"sk-estimator sk-toggleable\"><input class=\"sk-toggleable__control sk-hidden--visually\" id=\"sk-estimator-id-1\" type=\"checkbox\" checked><label for=\"sk-estimator-id-1\" class=\"sk-toggleable__label sk-toggleable__label-arrow\">RandomForestRegressor</label><div class=\"sk-toggleable__content\"><pre>RandomForestRegressor(random_state=123)</pre></div></div></div></div></div>"
      ],
      "text/plain": [
       "RandomForestRegressor(random_state=123)"
      ]
     },
     "execution_count": 65,
     "metadata": {},
     "output_type": "execute_result"
    }
   ],
   "source": [
    "model_rfr = RandomForestRegressor(random_state=123)\n",
    "model_rfr.fit(X=df3_notna[col_feature],\n",
    "                 y= df3_notna['Stars'])"
   ]
  },
  {
   "cell_type": "code",
   "execution_count": 66,
   "id": "ad7e2390",
   "metadata": {},
   "outputs": [
    {
     "data": {
      "text/plain": [
       "array([0.02748716, 0.02455435, 0.31167862, 0.45073501, 0.0131053 ,\n",
       "       0.17243956])"
      ]
     },
     "execution_count": 66,
     "metadata": {},
     "output_type": "execute_result"
    }
   ],
   "source": [
    "model_rfr.feature_importances_"
   ]
  },
  {
   "cell_type": "code",
   "execution_count": 67,
   "id": "d81ac2e8",
   "metadata": {},
   "outputs": [
    {
     "data": {
      "text/plain": [
       "array(['support_netflix', 'support_prime', 'review_ratio',\n",
       "       'discount_rate', 'is_high', 'MRP'], dtype=object)"
      ]
     },
     "execution_count": 67,
     "metadata": {},
     "output_type": "execute_result"
    }
   ],
   "source": [
    "model_rfr.feature_names_in_"
   ]
  },
  {
   "cell_type": "code",
   "execution_count": 68,
   "id": "fcb7fd7c",
   "metadata": {},
   "outputs": [
    {
     "data": {
      "text/plain": [
       "'discount_rate'"
      ]
     },
     "execution_count": 68,
     "metadata": {},
     "output_type": "execute_result"
    }
   ],
   "source": [
    "pd.Series(index=model_rfr.feature_names_in_, data=model_rfr.feature_importances_).idxmax()"
   ]
  },
  {
   "cell_type": "markdown",
   "id": "11d0c4e9",
   "metadata": {},
   "source": [
    "### A3. 할인율"
   ]
  }
 ],
 "metadata": {
  "kernelspec": {
   "display_name": "Python 3 (ipykernel)",
   "language": "python",
   "name": "python3"
  },
  "language_info": {
   "codemirror_mode": {
    "name": "ipython",
    "version": 3
   },
   "file_extension": ".py",
   "mimetype": "text/x-python",
   "name": "python",
   "nbconvert_exporter": "python",
   "pygments_lexer": "ipython3",
   "version": "3.9.7"
  },
  "toc": {
   "base_numbering": 1,
   "nav_menu": {},
   "number_sections": true,
   "sideBar": true,
   "skip_h1_title": false,
   "title_cell": "Table of Contents",
   "title_sidebar": "Contents",
   "toc_cell": false,
   "toc_position": {},
   "toc_section_display": true,
   "toc_window_display": false
  }
 },
 "nbformat": 4,
 "nbformat_minor": 5
}
