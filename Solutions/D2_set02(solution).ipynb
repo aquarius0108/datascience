{
 "cells": [
  {
   "cell_type": "markdown",
   "id": "c1673c18",
   "metadata": {},
   "source": [
    "디지털 기기 취급 전문업체 DigiSales는 오프라인 매장에서 갤럭시 제품군을 구매한 이력이 있는 사람들의 단말기 이용 행태를 분석하기 위해 통신사 MT로 부터 익명화 처리된 고객 정보를 일부 구매하였다. 해당 데이터에서 인사이트를 뽑기 위해 다양한 분석을 해보고자 한다."
   ]
  },
  {
   "cell_type": "code",
   "execution_count": 3,
   "id": "e3dbdf42",
   "metadata": {
    "scrolled": true
   },
   "outputs": [
    {
     "data": {
      "text/html": [
       "<div>\n",
       "<style scoped>\n",
       "    .dataframe tbody tr th:only-of-type {\n",
       "        vertical-align: middle;\n",
       "    }\n",
       "\n",
       "    .dataframe tbody tr th {\n",
       "        vertical-align: top;\n",
       "    }\n",
       "\n",
       "    .dataframe thead th {\n",
       "        text-align: right;\n",
       "    }\n",
       "</style>\n",
       "<table border=\"1\" class=\"dataframe\">\n",
       "  <thead>\n",
       "    <tr style=\"text-align: right;\">\n",
       "      <th></th>\n",
       "      <th>customerID</th>\n",
       "      <th>gender</th>\n",
       "      <th>SeniorCitizen</th>\n",
       "      <th>Partner</th>\n",
       "      <th>Dependents</th>\n",
       "      <th>tenure</th>\n",
       "      <th>PhoneService</th>\n",
       "      <th>MultipleLines</th>\n",
       "      <th>InternetService</th>\n",
       "      <th>OnlineSecurity</th>\n",
       "      <th>...</th>\n",
       "      <th>DeviceProtection</th>\n",
       "      <th>TechSupport</th>\n",
       "      <th>StreamingTV</th>\n",
       "      <th>StreamingMovies</th>\n",
       "      <th>Contract</th>\n",
       "      <th>PaperlessBilling</th>\n",
       "      <th>PaymentMethod</th>\n",
       "      <th>MonthlyCharges</th>\n",
       "      <th>TotalCharges</th>\n",
       "      <th>Churn</th>\n",
       "    </tr>\n",
       "  </thead>\n",
       "  <tbody>\n",
       "    <tr>\n",
       "      <th>0</th>\n",
       "      <td>7590-VHVEG</td>\n",
       "      <td>Female</td>\n",
       "      <td>0</td>\n",
       "      <td>Yes</td>\n",
       "      <td>No</td>\n",
       "      <td>1</td>\n",
       "      <td>No</td>\n",
       "      <td>No phone service</td>\n",
       "      <td>DSL</td>\n",
       "      <td>No</td>\n",
       "      <td>...</td>\n",
       "      <td>No</td>\n",
       "      <td>No</td>\n",
       "      <td>No</td>\n",
       "      <td>No</td>\n",
       "      <td>Month-to-month</td>\n",
       "      <td>Yes</td>\n",
       "      <td>Electronic check</td>\n",
       "      <td>29.85</td>\n",
       "      <td>29.85</td>\n",
       "      <td>No</td>\n",
       "    </tr>\n",
       "    <tr>\n",
       "      <th>1</th>\n",
       "      <td>5575-GNVDE</td>\n",
       "      <td>Male</td>\n",
       "      <td>0</td>\n",
       "      <td>No</td>\n",
       "      <td>No</td>\n",
       "      <td>34</td>\n",
       "      <td>Yes</td>\n",
       "      <td>No</td>\n",
       "      <td>DSL</td>\n",
       "      <td>Yes</td>\n",
       "      <td>...</td>\n",
       "      <td>Yes</td>\n",
       "      <td>No</td>\n",
       "      <td>No</td>\n",
       "      <td>No</td>\n",
       "      <td>One year</td>\n",
       "      <td>No</td>\n",
       "      <td>Mailed check</td>\n",
       "      <td>56.95</td>\n",
       "      <td>1889.50</td>\n",
       "      <td>No</td>\n",
       "    </tr>\n",
       "  </tbody>\n",
       "</table>\n",
       "<p>2 rows × 21 columns</p>\n",
       "</div>"
      ],
      "text/plain": [
       "   customerID  gender  SeniorCitizen Partner Dependents  tenure PhoneService  \\\n",
       "0  7590-VHVEG  Female              0     Yes         No       1           No   \n",
       "1  5575-GNVDE    Male              0      No         No      34          Yes   \n",
       "\n",
       "      MultipleLines InternetService OnlineSecurity  ... DeviceProtection  \\\n",
       "0  No phone service             DSL             No  ...               No   \n",
       "1                No             DSL            Yes  ...              Yes   \n",
       "\n",
       "  TechSupport StreamingTV StreamingMovies        Contract PaperlessBilling  \\\n",
       "0          No          No              No  Month-to-month              Yes   \n",
       "1          No          No              No        One year               No   \n",
       "\n",
       "      PaymentMethod MonthlyCharges  TotalCharges  Churn  \n",
       "0  Electronic check          29.85         29.85     No  \n",
       "1      Mailed check          56.95       1889.50     No  \n",
       "\n",
       "[2 rows x 21 columns]"
      ]
     },
     "execution_count": 3,
     "metadata": {},
     "output_type": "execute_result"
    }
   ],
   "source": [
    "import pandas as pd\n",
    "df_origin = pd.read_csv(\"../Datasets/galaxy_users.csv\")\n",
    "df_origin.head(2)"
   ]
  },
  {
   "cell_type": "markdown",
   "id": "4e3a0462",
   "metadata": {},
   "source": [
    "### Q1. 부가 서비스를 많이 사용할수록 제품 또는 브랜드에 고관여 되어있다는 가설을 세우고 분석을 하고자 한다. 이에 앞서 고객별 부가서비스 사용 현황 통계를 산출 하고자 한다. 부가 서비스를 1개 사용하는 사람은 부가 서비스를 6개 사용하는 사람 보다 몇 배나 많은지 계산하시오.\n",
    "\n",
    "※ 부가서비스 대상 변수: OnlineSecurity, OnlineBackup, DeviceProtection, TechSupport, StreamingTV, StreamingMovies  \n",
    "※ 부가서비스 변수의 범주가 \"Yes\"인 경우 1로 \"No\"는 0으로 간주한다.  \n",
    "※ 부가서비스 변수에 \"Yes\" 또는 \"No\"가 아닌 다른 범주가 있는 경우 해당 행은 제거 후 분석하시오.  \n",
    "※ 첫 번째 고객(7590-VHVEG)의 경우 부가서비스는 1개 이용 중이다.  \n",
    "※ 정답은 반올림하여 소수점 첫째 자리까지 출력하시오.  \n",
    "(정답 예시: 1.2)"
   ]
  },
  {
   "cell_type": "code",
   "execution_count": 2,
   "id": "4ef6010b",
   "metadata": {},
   "outputs": [],
   "source": [
    "df1 = df_origin.copy()"
   ]
  },
  {
   "cell_type": "code",
   "execution_count": 3,
   "id": "c994be2b",
   "metadata": {},
   "outputs": [
    {
     "data": {
      "text/plain": [
       "(7032, 21)"
      ]
     },
     "execution_count": 3,
     "metadata": {},
     "output_type": "execute_result"
    }
   ],
   "source": [
    "df1.shape"
   ]
  },
  {
   "cell_type": "markdown",
   "id": "5f5fafce",
   "metadata": {},
   "source": [
    "※ 부가서비스 대상 변수: OnlineSecurity, OnlineBackup, DeviceProtection, TechSupport, StreamingTV, StreamingMovies\n"
   ]
  },
  {
   "cell_type": "code",
   "execution_count": 28,
   "id": "a9763bd4",
   "metadata": {},
   "outputs": [],
   "source": [
    "col_service = ['OnlineSecurity', 'OnlineBackup', 'DeviceProtection', 'TechSupport', 'StreamingTV', 'StreamingMovies']"
   ]
  },
  {
   "cell_type": "code",
   "execution_count": 29,
   "id": "ede0e711",
   "metadata": {},
   "outputs": [
    {
     "data": {
      "text/html": [
       "<div>\n",
       "<style scoped>\n",
       "    .dataframe tbody tr th:only-of-type {\n",
       "        vertical-align: middle;\n",
       "    }\n",
       "\n",
       "    .dataframe tbody tr th {\n",
       "        vertical-align: top;\n",
       "    }\n",
       "\n",
       "    .dataframe thead th {\n",
       "        text-align: right;\n",
       "    }\n",
       "</style>\n",
       "<table border=\"1\" class=\"dataframe\">\n",
       "  <thead>\n",
       "    <tr style=\"text-align: right;\">\n",
       "      <th></th>\n",
       "      <th>OnlineSecurity</th>\n",
       "      <th>OnlineBackup</th>\n",
       "      <th>DeviceProtection</th>\n",
       "      <th>TechSupport</th>\n",
       "      <th>StreamingTV</th>\n",
       "      <th>StreamingMovies</th>\n",
       "    </tr>\n",
       "  </thead>\n",
       "  <tbody>\n",
       "    <tr>\n",
       "      <th>0</th>\n",
       "      <td>No</td>\n",
       "      <td>Yes</td>\n",
       "      <td>No</td>\n",
       "      <td>No</td>\n",
       "      <td>No</td>\n",
       "      <td>No</td>\n",
       "    </tr>\n",
       "  </tbody>\n",
       "</table>\n",
       "</div>"
      ],
      "text/plain": [
       "  OnlineSecurity OnlineBackup DeviceProtection TechSupport StreamingTV  \\\n",
       "0             No          Yes               No          No          No   \n",
       "\n",
       "  StreamingMovies  \n",
       "0              No  "
      ]
     },
     "execution_count": 29,
     "metadata": {},
     "output_type": "execute_result"
    }
   ],
   "source": [
    "df1[col_service].head(1)"
   ]
  },
  {
   "cell_type": "markdown",
   "id": "8cd140cf",
   "metadata": {},
   "source": [
    "※ 부가서비스 변수에 \"Yes\" 또는 \"No\"가 아닌 다른 범주가 있는 경우 해당 행은 제거 후 분석하시오"
   ]
  },
  {
   "cell_type": "code",
   "execution_count": 30,
   "id": "03a36d1b",
   "metadata": {},
   "outputs": [
    {
     "data": {
      "text/html": [
       "<div>\n",
       "<style scoped>\n",
       "    .dataframe tbody tr th:only-of-type {\n",
       "        vertical-align: middle;\n",
       "    }\n",
       "\n",
       "    .dataframe tbody tr th {\n",
       "        vertical-align: top;\n",
       "    }\n",
       "\n",
       "    .dataframe thead th {\n",
       "        text-align: right;\n",
       "    }\n",
       "</style>\n",
       "<table border=\"1\" class=\"dataframe\">\n",
       "  <thead>\n",
       "    <tr style=\"text-align: right;\">\n",
       "      <th></th>\n",
       "      <th>OnlineSecurity</th>\n",
       "      <th>OnlineBackup</th>\n",
       "      <th>DeviceProtection</th>\n",
       "      <th>TechSupport</th>\n",
       "      <th>StreamingTV</th>\n",
       "      <th>StreamingMovies</th>\n",
       "    </tr>\n",
       "  </thead>\n",
       "  <tbody>\n",
       "    <tr>\n",
       "      <th>0</th>\n",
       "      <td>No</td>\n",
       "      <td>Yes</td>\n",
       "      <td>No</td>\n",
       "      <td>No</td>\n",
       "      <td>No</td>\n",
       "      <td>No</td>\n",
       "    </tr>\n",
       "    <tr>\n",
       "      <th>1</th>\n",
       "      <td>Yes</td>\n",
       "      <td>No</td>\n",
       "      <td>Yes</td>\n",
       "      <td>Yes</td>\n",
       "      <td>Yes</td>\n",
       "      <td>Yes</td>\n",
       "    </tr>\n",
       "    <tr>\n",
       "      <th>2</th>\n",
       "      <td>No internet service</td>\n",
       "      <td>No internet service</td>\n",
       "      <td>No internet service</td>\n",
       "      <td>No internet service</td>\n",
       "      <td>No internet service</td>\n",
       "      <td>No internet service</td>\n",
       "    </tr>\n",
       "  </tbody>\n",
       "</table>\n",
       "</div>"
      ],
      "text/plain": [
       "        OnlineSecurity         OnlineBackup     DeviceProtection  \\\n",
       "0                   No                  Yes                   No   \n",
       "1                  Yes                   No                  Yes   \n",
       "2  No internet service  No internet service  No internet service   \n",
       "\n",
       "           TechSupport          StreamingTV      StreamingMovies  \n",
       "0                   No                   No                   No  \n",
       "1                  Yes                  Yes                  Yes  \n",
       "2  No internet service  No internet service  No internet service  "
      ]
     },
     "execution_count": 30,
     "metadata": {},
     "output_type": "execute_result"
    }
   ],
   "source": [
    "df1[col_service].apply(lambda x: x.unique())"
   ]
  },
  {
   "cell_type": "code",
   "execution_count": 38,
   "id": "538bbdf0",
   "metadata": {},
   "outputs": [
    {
     "data": {
      "text/plain": [
       "1520"
      ]
     },
     "execution_count": 38,
     "metadata": {},
     "output_type": "execute_result"
    }
   ],
   "source": [
    "(df1[col_service].apply(lambda x: x=='No internet service').sum(axis=1)>=1).sum()"
   ]
  },
  {
   "cell_type": "code",
   "execution_count": 31,
   "id": "d635ab20",
   "metadata": {},
   "outputs": [],
   "source": [
    "to_be_deleted_no_internet=df1[col_service].apply(lambda x: x=='No internet service').sum(axis=1)>=1"
   ]
  },
  {
   "cell_type": "code",
   "execution_count": 32,
   "id": "cc075a37",
   "metadata": {},
   "outputs": [
    {
     "data": {
      "text/plain": [
       "0       False\n",
       "1       False\n",
       "2       False\n",
       "3       False\n",
       "4       False\n",
       "        ...  \n",
       "7027    False\n",
       "7028    False\n",
       "7029    False\n",
       "7030    False\n",
       "7031    False\n",
       "Length: 7032, dtype: bool"
      ]
     },
     "execution_count": 32,
     "metadata": {},
     "output_type": "execute_result"
    }
   ],
   "source": [
    "to_be_deleted_no_internet"
   ]
  },
  {
   "cell_type": "code",
   "execution_count": 39,
   "id": "6887d916",
   "metadata": {},
   "outputs": [],
   "source": [
    "df1=df1.loc[~to_be_deleted_no_internet,]"
   ]
  },
  {
   "cell_type": "code",
   "execution_count": 40,
   "id": "75982155",
   "metadata": {},
   "outputs": [
    {
     "data": {
      "text/plain": [
       "(5512, 21)"
      ]
     },
     "execution_count": 40,
     "metadata": {},
     "output_type": "execute_result"
    }
   ],
   "source": [
    "df1.shape"
   ]
  },
  {
   "cell_type": "markdown",
   "id": "5d0c3f58",
   "metadata": {},
   "source": [
    "※ 첫 번째 고객(7590-VHVEG)의 경우 부가서비스는 1개 이용 중이다.  "
   ]
  },
  {
   "cell_type": "code",
   "execution_count": 41,
   "id": "736e3b26",
   "metadata": {},
   "outputs": [
    {
     "data": {
      "text/html": [
       "<div>\n",
       "<style scoped>\n",
       "    .dataframe tbody tr th:only-of-type {\n",
       "        vertical-align: middle;\n",
       "    }\n",
       "\n",
       "    .dataframe tbody tr th {\n",
       "        vertical-align: top;\n",
       "    }\n",
       "\n",
       "    .dataframe thead th {\n",
       "        text-align: right;\n",
       "    }\n",
       "</style>\n",
       "<table border=\"1\" class=\"dataframe\">\n",
       "  <thead>\n",
       "    <tr style=\"text-align: right;\">\n",
       "      <th></th>\n",
       "      <th>customerID</th>\n",
       "      <th>gender</th>\n",
       "      <th>SeniorCitizen</th>\n",
       "      <th>Partner</th>\n",
       "      <th>Dependents</th>\n",
       "      <th>tenure</th>\n",
       "      <th>PhoneService</th>\n",
       "      <th>MultipleLines</th>\n",
       "      <th>InternetService</th>\n",
       "      <th>OnlineSecurity</th>\n",
       "      <th>...</th>\n",
       "      <th>DeviceProtection</th>\n",
       "      <th>TechSupport</th>\n",
       "      <th>StreamingTV</th>\n",
       "      <th>StreamingMovies</th>\n",
       "      <th>Contract</th>\n",
       "      <th>PaperlessBilling</th>\n",
       "      <th>PaymentMethod</th>\n",
       "      <th>MonthlyCharges</th>\n",
       "      <th>TotalCharges</th>\n",
       "      <th>Churn</th>\n",
       "    </tr>\n",
       "  </thead>\n",
       "  <tbody>\n",
       "    <tr>\n",
       "      <th>0</th>\n",
       "      <td>7590-VHVEG</td>\n",
       "      <td>Female</td>\n",
       "      <td>0</td>\n",
       "      <td>Yes</td>\n",
       "      <td>No</td>\n",
       "      <td>1</td>\n",
       "      <td>No</td>\n",
       "      <td>No phone service</td>\n",
       "      <td>DSL</td>\n",
       "      <td>No</td>\n",
       "      <td>...</td>\n",
       "      <td>No</td>\n",
       "      <td>No</td>\n",
       "      <td>No</td>\n",
       "      <td>No</td>\n",
       "      <td>Month-to-month</td>\n",
       "      <td>Yes</td>\n",
       "      <td>Electronic check</td>\n",
       "      <td>29.85</td>\n",
       "      <td>29.85</td>\n",
       "      <td>No</td>\n",
       "    </tr>\n",
       "    <tr>\n",
       "      <th>1</th>\n",
       "      <td>5575-GNVDE</td>\n",
       "      <td>Male</td>\n",
       "      <td>0</td>\n",
       "      <td>No</td>\n",
       "      <td>No</td>\n",
       "      <td>34</td>\n",
       "      <td>Yes</td>\n",
       "      <td>No</td>\n",
       "      <td>DSL</td>\n",
       "      <td>Yes</td>\n",
       "      <td>...</td>\n",
       "      <td>Yes</td>\n",
       "      <td>No</td>\n",
       "      <td>No</td>\n",
       "      <td>No</td>\n",
       "      <td>One year</td>\n",
       "      <td>No</td>\n",
       "      <td>Mailed check</td>\n",
       "      <td>56.95</td>\n",
       "      <td>1889.50</td>\n",
       "      <td>No</td>\n",
       "    </tr>\n",
       "  </tbody>\n",
       "</table>\n",
       "<p>2 rows × 21 columns</p>\n",
       "</div>"
      ],
      "text/plain": [
       "   customerID  gender  SeniorCitizen Partner Dependents  tenure PhoneService  \\\n",
       "0  7590-VHVEG  Female              0     Yes         No       1           No   \n",
       "1  5575-GNVDE    Male              0      No         No      34          Yes   \n",
       "\n",
       "      MultipleLines InternetService OnlineSecurity  ... DeviceProtection  \\\n",
       "0  No phone service             DSL             No  ...               No   \n",
       "1                No             DSL            Yes  ...              Yes   \n",
       "\n",
       "  TechSupport StreamingTV StreamingMovies        Contract PaperlessBilling  \\\n",
       "0          No          No              No  Month-to-month              Yes   \n",
       "1          No          No              No        One year               No   \n",
       "\n",
       "      PaymentMethod MonthlyCharges  TotalCharges  Churn  \n",
       "0  Electronic check          29.85         29.85     No  \n",
       "1      Mailed check          56.95       1889.50     No  \n",
       "\n",
       "[2 rows x 21 columns]"
      ]
     },
     "execution_count": 41,
     "metadata": {},
     "output_type": "execute_result"
    }
   ],
   "source": [
    "df1.head(2)"
   ]
  },
  {
   "cell_type": "code",
   "execution_count": 2,
   "id": "e24ef60f",
   "metadata": {},
   "outputs": [],
   "source": [
    "# df1[col_service].iloc[0]"
   ]
  },
  {
   "cell_type": "markdown",
   "id": "69241783",
   "metadata": {},
   "source": [
    "※ 부가서비스 변수의 범주가 \"Yes\"인 경우 1로 \"No\"는 0으로 간주한다."
   ]
  },
  {
   "cell_type": "code",
   "execution_count": 42,
   "id": "afaf16f9",
   "metadata": {
    "scrolled": true
   },
   "outputs": [
    {
     "name": "stdout",
     "output_type": "stream",
     "text": [
      "col_service\t df\t df_q1\t pd\t to_be_deleted_no_internet\t \n"
     ]
    }
   ],
   "source": [
    "%who"
   ]
  },
  {
   "cell_type": "markdown",
   "id": "c987871f",
   "metadata": {},
   "source": [
    "> 갑자기 colname으로 했던 변수명이 생각이 안날 때 유용"
   ]
  },
  {
   "cell_type": "code",
   "execution_count": 43,
   "id": "0a49355d",
   "metadata": {},
   "outputs": [
    {
     "data": {
      "text/html": [
       "<div>\n",
       "<style scoped>\n",
       "    .dataframe tbody tr th:only-of-type {\n",
       "        vertical-align: middle;\n",
       "    }\n",
       "\n",
       "    .dataframe tbody tr th {\n",
       "        vertical-align: top;\n",
       "    }\n",
       "\n",
       "    .dataframe thead th {\n",
       "        text-align: right;\n",
       "    }\n",
       "</style>\n",
       "<table border=\"1\" class=\"dataframe\">\n",
       "  <thead>\n",
       "    <tr style=\"text-align: right;\">\n",
       "      <th></th>\n",
       "      <th>OnlineSecurity</th>\n",
       "      <th>OnlineBackup</th>\n",
       "      <th>DeviceProtection</th>\n",
       "      <th>TechSupport</th>\n",
       "      <th>StreamingTV</th>\n",
       "      <th>StreamingMovies</th>\n",
       "    </tr>\n",
       "  </thead>\n",
       "  <tbody>\n",
       "    <tr>\n",
       "      <th>0</th>\n",
       "      <td>0</td>\n",
       "      <td>1</td>\n",
       "      <td>0</td>\n",
       "      <td>0</td>\n",
       "      <td>0</td>\n",
       "      <td>0</td>\n",
       "    </tr>\n",
       "    <tr>\n",
       "      <th>1</th>\n",
       "      <td>1</td>\n",
       "      <td>0</td>\n",
       "      <td>1</td>\n",
       "      <td>0</td>\n",
       "      <td>0</td>\n",
       "      <td>0</td>\n",
       "    </tr>\n",
       "  </tbody>\n",
       "</table>\n",
       "</div>"
      ],
      "text/plain": [
       "   OnlineSecurity  OnlineBackup  DeviceProtection  TechSupport  StreamingTV  \\\n",
       "0               0             1                 0            0            0   \n",
       "1               1             0                 1            0            0   \n",
       "\n",
       "   StreamingMovies  \n",
       "0                0  \n",
       "1                0  "
      ]
     },
     "execution_count": 43,
     "metadata": {},
     "output_type": "execute_result"
    }
   ],
   "source": [
    "df1_yes_no=df1[col_service].apply(lambda x: x.replace({'Yes': 1, 'No': 0}))\n",
    "df1_yes_no.head(2)"
   ]
  },
  {
   "cell_type": "markdown",
   "id": "36b7dada",
   "metadata": {},
   "source": [
    "부가 서비스를 1개 사용하는 사람은 부가 서비스를 6개 사용하는 사람 보다 몇 배나 많은지 계산하시오."
   ]
  },
  {
   "cell_type": "code",
   "execution_count": 44,
   "id": "fd742898",
   "metadata": {
    "scrolled": true
   },
   "outputs": [
    {
     "data": {
      "text/plain": [
       "0       1\n",
       "1       2\n",
       "2       2\n",
       "3       3\n",
       "4       0\n",
       "       ..\n",
       "7027    5\n",
       "7028    4\n",
       "7029    1\n",
       "7030    0\n",
       "7031    5\n",
       "Length: 5512, dtype: int64"
      ]
     },
     "execution_count": 44,
     "metadata": {},
     "output_type": "execute_result"
    }
   ],
   "source": [
    "df1_yes_no.sum(axis=1)"
   ]
  },
  {
   "cell_type": "code",
   "execution_count": 46,
   "id": "3723eb7d",
   "metadata": {},
   "outputs": [],
   "source": [
    "s_n_of_services=df1_yes_no.sum(axis=1)"
   ]
  },
  {
   "cell_type": "markdown",
   "id": "b7a441ad",
   "metadata": {},
   "source": [
    "- 부가 서비스 1개"
   ]
  },
  {
   "cell_type": "code",
   "execution_count": 49,
   "id": "a13e7dfd",
   "metadata": {
    "scrolled": true
   },
   "outputs": [
    {
     "data": {
      "text/plain": [
       "966"
      ]
     },
     "execution_count": 49,
     "metadata": {},
     "output_type": "execute_result"
    }
   ],
   "source": [
    "n_1 = s_n_of_services[s_n_of_services==1].sum()\n",
    "n_1"
   ]
  },
  {
   "cell_type": "markdown",
   "id": "15123494",
   "metadata": {},
   "source": [
    "- 부가 서비스 6개"
   ]
  },
  {
   "cell_type": "code",
   "execution_count": 13,
   "id": "24d9b8c4",
   "metadata": {},
   "outputs": [
    {
     "data": {
      "text/plain": [
       "284"
      ]
     },
     "execution_count": 13,
     "metadata": {},
     "output_type": "execute_result"
    }
   ],
   "source": [
    "n_6 = s_n_of_services[s_n_of_services==6].shape[0]\n",
    "n_6"
   ]
  },
  {
   "cell_type": "markdown",
   "id": "49f5c97a",
   "metadata": {},
   "source": [
    "> 얘는 다 더하면 안되니깐 행의 개수로 부가 서비스 개수를 판단"
   ]
  },
  {
   "cell_type": "markdown",
   "id": "c07b00da",
   "metadata": {},
   "source": [
    "※ 정답은 반올림하여 소수점 첫째 자리까지 출력하시오.\n",
    "(정답 예시: 1.2)"
   ]
  },
  {
   "cell_type": "code",
   "execution_count": 14,
   "id": "9ba8c832",
   "metadata": {},
   "outputs": [
    {
     "data": {
      "text/plain": [
       "3.4"
      ]
     },
     "execution_count": 14,
     "metadata": {},
     "output_type": "execute_result"
    }
   ],
   "source": [
    "round(n_1/n_6, 1)"
   ]
  },
  {
   "cell_type": "markdown",
   "id": "f9e44446",
   "metadata": {},
   "source": [
    "### A1. 3.4"
   ]
  },
  {
   "cell_type": "markdown",
   "id": "277b759c",
   "metadata": {},
   "source": [
    "---"
   ]
  },
  {
   "cell_type": "markdown",
   "id": "9d34fc11",
   "metadata": {},
   "source": [
    "### Q2. 여러 변수간 상관관계를 확인하고자 한다. 현 직장 근속 월수, 월별 청구 금액, 통신사 사용 월수간 피어슨 상관분석을 실시하고 그 결과 중 상관계수 절대값이 가장 높은 것을 확인하시오. \n",
    "※ 통신사 사용 월수는 총 청구금액을 월별 청구금액으로 나눈 값의 몫으로 한다.  \n",
    "※ 본 문제 풀이에 계약 갱신 주기(Contract)는 관련없음  \n",
    "※ 정답은 반올림하여 소수점 셋째 자리까지 출력하시오.  \n",
    "(정답 예시: 0.12)"
   ]
  },
  {
   "cell_type": "code",
   "execution_count": 4,
   "id": "9b9c9435",
   "metadata": {},
   "outputs": [],
   "source": [
    "df2 = df_origin.copy()"
   ]
  },
  {
   "cell_type": "code",
   "execution_count": 5,
   "id": "a0cab7d7",
   "metadata": {},
   "outputs": [
    {
     "data": {
      "text/html": [
       "<div>\n",
       "<style scoped>\n",
       "    .dataframe tbody tr th:only-of-type {\n",
       "        vertical-align: middle;\n",
       "    }\n",
       "\n",
       "    .dataframe tbody tr th {\n",
       "        vertical-align: top;\n",
       "    }\n",
       "\n",
       "    .dataframe thead th {\n",
       "        text-align: right;\n",
       "    }\n",
       "</style>\n",
       "<table border=\"1\" class=\"dataframe\">\n",
       "  <thead>\n",
       "    <tr style=\"text-align: right;\">\n",
       "      <th></th>\n",
       "      <th>customerID</th>\n",
       "      <th>gender</th>\n",
       "      <th>SeniorCitizen</th>\n",
       "      <th>Partner</th>\n",
       "      <th>Dependents</th>\n",
       "      <th>tenure</th>\n",
       "      <th>PhoneService</th>\n",
       "      <th>MultipleLines</th>\n",
       "      <th>InternetService</th>\n",
       "      <th>OnlineSecurity</th>\n",
       "      <th>...</th>\n",
       "      <th>DeviceProtection</th>\n",
       "      <th>TechSupport</th>\n",
       "      <th>StreamingTV</th>\n",
       "      <th>StreamingMovies</th>\n",
       "      <th>Contract</th>\n",
       "      <th>PaperlessBilling</th>\n",
       "      <th>PaymentMethod</th>\n",
       "      <th>MonthlyCharges</th>\n",
       "      <th>TotalCharges</th>\n",
       "      <th>Churn</th>\n",
       "    </tr>\n",
       "  </thead>\n",
       "  <tbody>\n",
       "    <tr>\n",
       "      <th>0</th>\n",
       "      <td>7590-VHVEG</td>\n",
       "      <td>Female</td>\n",
       "      <td>0</td>\n",
       "      <td>Yes</td>\n",
       "      <td>No</td>\n",
       "      <td>1</td>\n",
       "      <td>No</td>\n",
       "      <td>No phone service</td>\n",
       "      <td>DSL</td>\n",
       "      <td>No</td>\n",
       "      <td>...</td>\n",
       "      <td>No</td>\n",
       "      <td>No</td>\n",
       "      <td>No</td>\n",
       "      <td>No</td>\n",
       "      <td>Month-to-month</td>\n",
       "      <td>Yes</td>\n",
       "      <td>Electronic check</td>\n",
       "      <td>29.85</td>\n",
       "      <td>29.85</td>\n",
       "      <td>No</td>\n",
       "    </tr>\n",
       "    <tr>\n",
       "      <th>1</th>\n",
       "      <td>5575-GNVDE</td>\n",
       "      <td>Male</td>\n",
       "      <td>0</td>\n",
       "      <td>No</td>\n",
       "      <td>No</td>\n",
       "      <td>34</td>\n",
       "      <td>Yes</td>\n",
       "      <td>No</td>\n",
       "      <td>DSL</td>\n",
       "      <td>Yes</td>\n",
       "      <td>...</td>\n",
       "      <td>Yes</td>\n",
       "      <td>No</td>\n",
       "      <td>No</td>\n",
       "      <td>No</td>\n",
       "      <td>One year</td>\n",
       "      <td>No</td>\n",
       "      <td>Mailed check</td>\n",
       "      <td>56.95</td>\n",
       "      <td>1889.50</td>\n",
       "      <td>No</td>\n",
       "    </tr>\n",
       "  </tbody>\n",
       "</table>\n",
       "<p>2 rows × 21 columns</p>\n",
       "</div>"
      ],
      "text/plain": [
       "   customerID  gender  SeniorCitizen Partner Dependents  tenure PhoneService  \\\n",
       "0  7590-VHVEG  Female              0     Yes         No       1           No   \n",
       "1  5575-GNVDE    Male              0      No         No      34          Yes   \n",
       "\n",
       "      MultipleLines InternetService OnlineSecurity  ... DeviceProtection  \\\n",
       "0  No phone service             DSL             No  ...               No   \n",
       "1                No             DSL            Yes  ...              Yes   \n",
       "\n",
       "  TechSupport StreamingTV StreamingMovies        Contract PaperlessBilling  \\\n",
       "0          No          No              No  Month-to-month              Yes   \n",
       "1          No          No              No        One year               No   \n",
       "\n",
       "      PaymentMethod MonthlyCharges  TotalCharges  Churn  \n",
       "0  Electronic check          29.85         29.85     No  \n",
       "1      Mailed check          56.95       1889.50     No  \n",
       "\n",
       "[2 rows x 21 columns]"
      ]
     },
     "execution_count": 5,
     "metadata": {},
     "output_type": "execute_result"
    }
   ],
   "source": [
    "df2.head(2)"
   ]
  },
  {
   "cell_type": "markdown",
   "id": "546c0203",
   "metadata": {},
   "source": [
    "※ 통신사 사용 월수는 총 청구금액을 월별 청구금액으로 나눈 값의 몫으로 한다."
   ]
  },
  {
   "cell_type": "markdown",
   "id": "f7dc4eb9",
   "metadata": {},
   "source": [
    "Q. 똑같은 사용자가 있으면 월별 청구금액(MonthlyCharges)를 더 해서 처리해야할까? 일단 똑같은 사용자가 여러행에 존재하는지 보자"
   ]
  },
  {
   "cell_type": "code",
   "execution_count": 7,
   "id": "0a46bfa6",
   "metadata": {},
   "outputs": [
    {
     "data": {
      "text/plain": [
       "((7032,), 7032)"
      ]
     },
     "execution_count": 7,
     "metadata": {},
     "output_type": "execute_result"
    }
   ],
   "source": [
    "df2['customerID'].unique().shape, len(df2)"
   ]
  },
  {
   "cell_type": "markdown",
   "id": "5c121ad5",
   "metadata": {},
   "source": [
    "> 없네 바로 파생변수 만들면 되겠다ㅡ"
   ]
  },
  {
   "cell_type": "code",
   "execution_count": 8,
   "id": "1ff8c262",
   "metadata": {
    "scrolled": true
   },
   "outputs": [],
   "source": [
    "df2=df2[['tenure', 'MonthlyCharges', 'TotalCharges']].copy()"
   ]
  },
  {
   "cell_type": "code",
   "execution_count": 10,
   "id": "0ef3ad86",
   "metadata": {},
   "outputs": [],
   "source": [
    "df2_add_monthly_used=df2.assign(Monthly_used=df2.TotalCharges//df2.MonthlyCharges).drop(columns='TotalCharges')"
   ]
  },
  {
   "cell_type": "code",
   "execution_count": 12,
   "id": "8d884570",
   "metadata": {},
   "outputs": [
    {
     "data": {
      "text/plain": [
       "MonthlyCharges    0.247\n",
       "Monthly_used      0.999\n",
       "Name: tenure, dtype: float64"
      ]
     },
     "execution_count": 12,
     "metadata": {},
     "output_type": "execute_result"
    }
   ],
   "source": [
    "round(df2_add_monthly_used.corr(), 3)['tenure'][1:]"
   ]
  },
  {
   "cell_type": "markdown",
   "id": "2ddd7082",
   "metadata": {},
   "source": [
    "### A. 0.999"
   ]
  },
  {
   "cell_type": "markdown",
   "id": "78e69013",
   "metadata": {},
   "source": [
    "---"
   ]
  },
  {
   "cell_type": "markdown",
   "id": "1aae533c",
   "metadata": {},
   "source": [
    "### Q3. 고객 이탈여부를 종속변수로 하는 모델을 만들어보고자 한다. 데이터 분할 후 정규화를 실시하여 로지스틱 회귀분석을 실시하고 해당 모델을 기준점 삼아 모델을 개선하고자 한다. 주어진 독립변수를 활용하여 F1-score로 모델을 평가하시오.\n",
    "\n",
    "<독립변수>\n",
    " - 시니어 여부  SeniorCitizen\n",
    " - 배우자 존재 여부 Partner\n",
    " - 부양가족 존재 여부 Dependents\n",
    " - 현 직장 근속 개월 수 tenure\n",
    " - 월별 청구 금액 MonthlyCharges\n",
    " - 누적 청구 금액 TotalCharges\n",
    " - 온라인 보안 서비스 OnlineSecurity\n",
    " - 온라인 백업 서비스 OnlineBackup\n",
    " - 기기 보호 서비스 DeviceProtection\n",
    " - 기술 지원 서비스 TechSupport\n",
    " - 영화 스트리밍 서비스 StreamingTV\n",
    " - 온라인 명세서 발급 서비스 PaperlessBilling\n",
    " \n",
    "<종속변수>\n",
    " - 고객 이탈여부 Churn\n",
    "\n",
    "※ 범주형 변수의 범주가 \"Yes\"인 경우 1로, \"No\"인 경우 0으로 치환하여 분석하시오.  \n",
    "※ 범주형 변수에서 \"Yes\"와 \"No\"가 아닌 나머지 범주는 -1로 치환하시오.  \n",
    "※ 학습 및 평가 데이터 세트 분할비는 7:3으로 하시오.  \n",
    "※ 정규화는 Min-Max 정규화를 실시하며 모든 변수를 대상으로 하시오.  \n",
    "※ 평가 데이터 세트는 학습 데이터 세트 기반으로 정규화 하시오.  \n",
    "※ seed는 123으로 고정하시오.  \n",
    "※ 정답은 반올림하여 소수점 둘째 자리까지 출력하시오.  \n",
    "(정답 예시: 0.12)"
   ]
  },
  {
   "cell_type": "code",
   "execution_count": 4,
   "id": "8a54b74b",
   "metadata": {},
   "outputs": [],
   "source": [
    "df3= df_origin.copy()"
   ]
  },
  {
   "cell_type": "code",
   "execution_count": 5,
   "id": "c461efa8",
   "metadata": {},
   "outputs": [],
   "source": [
    "text = '''시니어 여부 SeniorCitizen\n",
    "배우자 존재 여부 Partner\n",
    "부양가족 존재 여부 Dependents\n",
    "현 직장 근속 개월 수 tenure\n",
    "월별 청구 금액 MonthlyCharges\n",
    "누적 청구 금액 TotalCharges\n",
    "온라인 보안 서비스 OnlineSecurity\n",
    "온라인 백업 서비스 OnlineBackup\n",
    "기기 보호 서비스 DeviceProtection\n",
    "기술 지원 서비스 TechSupport\n",
    "영화 스트리밍 서비스 StreamingTV\n",
    "온라인 명세서 발급 서비스 PaperlessBilling'''"
   ]
  },
  {
   "cell_type": "code",
   "execution_count": 6,
   "id": "e9fa5f8f",
   "metadata": {},
   "outputs": [
    {
     "data": {
      "text/plain": [
       "['SeniorCitizen',\n",
       " 'Partner',\n",
       " 'Dependents',\n",
       " 'tenure',\n",
       " 'MonthlyCharges',\n",
       " 'TotalCharges',\n",
       " 'OnlineSecurity',\n",
       " 'OnlineBackup',\n",
       " 'DeviceProtection',\n",
       " 'TechSupport',\n",
       " 'StreamingTV',\n",
       " 'PaperlessBilling']"
      ]
     },
     "execution_count": 6,
     "metadata": {},
     "output_type": "execute_result"
    }
   ],
   "source": [
    "import re\n",
    "pattern=re.compile('[a-zA-Z]+')\n",
    "col_X = pattern.findall(text)\n",
    "col_X"
   ]
  },
  {
   "cell_type": "markdown",
   "id": "d3c1dd1f",
   "metadata": {},
   "source": [
    "※ 학습 및 평가 데이터 세트 분할비는 7:3으로 하시오.  \n",
    "※ seed는 123으로 고정하시오.  "
   ]
  },
  {
   "cell_type": "code",
   "execution_count": 7,
   "id": "92706d7a",
   "metadata": {},
   "outputs": [],
   "source": [
    "from sklearn.preprocessing import MinMaxScaler\n",
    "from sklearn.model_selection import train_test_split\n",
    "from sklearn.linear_model import LogisticRegression\n",
    "from sklearn.metrics import f1_score"
   ]
  },
  {
   "cell_type": "code",
   "execution_count": 8,
   "id": "65ca423b",
   "metadata": {},
   "outputs": [],
   "source": [
    "seed = 123"
   ]
  },
  {
   "cell_type": "code",
   "execution_count": 9,
   "id": "aac29395",
   "metadata": {},
   "outputs": [],
   "source": [
    "X=df3[col_X].copy()\n",
    "y=df3['Churn'].copy()"
   ]
  },
  {
   "cell_type": "code",
   "execution_count": 10,
   "id": "d264ed1e",
   "metadata": {},
   "outputs": [],
   "source": [
    "X_train, X_test, y_train, y_test = train_test_split(X, y, test_size=0.3, random_state=seed)"
   ]
  },
  {
   "cell_type": "markdown",
   "id": "8d0679dd",
   "metadata": {},
   "source": [
    "※ 범주형 변수의 범주가 \"Yes\"인 경우 1로, \"No\"인 경우 0으로 치환하여 분석하시오.  \n",
    "※ 범주형 변수에서 \"Yes\"와 \"No\"가 아닌 나머지 범주는 -1로 치환하시오.  "
   ]
  },
  {
   "cell_type": "markdown",
   "id": "b0995a04",
   "metadata": {},
   "source": [
    "- 데이터 타입이 제대로 읽혔는 지 확인"
   ]
  },
  {
   "cell_type": "code",
   "execution_count": 11,
   "id": "991ec554",
   "metadata": {},
   "outputs": [
    {
     "name": "stdout",
     "output_type": "stream",
     "text": [
      "<class 'pandas.core.frame.DataFrame'>\n",
      "Int64Index: 4922 entries, 463 to 3582\n",
      "Data columns (total 12 columns):\n",
      " #   Column            Non-Null Count  Dtype  \n",
      "---  ------            --------------  -----  \n",
      " 0   SeniorCitizen     4922 non-null   int64  \n",
      " 1   Partner           4922 non-null   object \n",
      " 2   Dependents        4922 non-null   object \n",
      " 3   tenure            4922 non-null   int64  \n",
      " 4   MonthlyCharges    4922 non-null   float64\n",
      " 5   TotalCharges      4922 non-null   float64\n",
      " 6   OnlineSecurity    4922 non-null   object \n",
      " 7   OnlineBackup      4922 non-null   object \n",
      " 8   DeviceProtection  4922 non-null   object \n",
      " 9   TechSupport       4922 non-null   object \n",
      " 10  StreamingTV       4922 non-null   object \n",
      " 11  PaperlessBilling  4922 non-null   object \n",
      "dtypes: float64(2), int64(2), object(8)\n",
      "memory usage: 499.9+ KB\n"
     ]
    }
   ],
   "source": [
    "X_train.info()"
   ]
  },
  {
   "cell_type": "code",
   "execution_count": 12,
   "id": "5c1743b4",
   "metadata": {},
   "outputs": [
    {
     "data": {
      "text/html": [
       "<div>\n",
       "<style scoped>\n",
       "    .dataframe tbody tr th:only-of-type {\n",
       "        vertical-align: middle;\n",
       "    }\n",
       "\n",
       "    .dataframe tbody tr th {\n",
       "        vertical-align: top;\n",
       "    }\n",
       "\n",
       "    .dataframe thead th {\n",
       "        text-align: right;\n",
       "    }\n",
       "</style>\n",
       "<table border=\"1\" class=\"dataframe\">\n",
       "  <thead>\n",
       "    <tr style=\"text-align: right;\">\n",
       "      <th></th>\n",
       "      <th>SeniorCitizen</th>\n",
       "      <th>Partner</th>\n",
       "      <th>Dependents</th>\n",
       "      <th>tenure</th>\n",
       "      <th>MonthlyCharges</th>\n",
       "      <th>TotalCharges</th>\n",
       "      <th>OnlineSecurity</th>\n",
       "      <th>OnlineBackup</th>\n",
       "      <th>DeviceProtection</th>\n",
       "      <th>TechSupport</th>\n",
       "      <th>StreamingTV</th>\n",
       "      <th>PaperlessBilling</th>\n",
       "    </tr>\n",
       "  </thead>\n",
       "  <tbody>\n",
       "    <tr>\n",
       "      <th>463</th>\n",
       "      <td>0</td>\n",
       "      <td>No</td>\n",
       "      <td>No</td>\n",
       "      <td>7</td>\n",
       "      <td>99.80</td>\n",
       "      <td>673.25</td>\n",
       "      <td>No</td>\n",
       "      <td>Yes</td>\n",
       "      <td>No</td>\n",
       "      <td>No</td>\n",
       "      <td>Yes</td>\n",
       "      <td>Yes</td>\n",
       "    </tr>\n",
       "    <tr>\n",
       "      <th>5817</th>\n",
       "      <td>0</td>\n",
       "      <td>Yes</td>\n",
       "      <td>No</td>\n",
       "      <td>1</td>\n",
       "      <td>79.35</td>\n",
       "      <td>79.35</td>\n",
       "      <td>No</td>\n",
       "      <td>No</td>\n",
       "      <td>No</td>\n",
       "      <td>No</td>\n",
       "      <td>Yes</td>\n",
       "      <td>Yes</td>\n",
       "    </tr>\n",
       "    <tr>\n",
       "      <th>1432</th>\n",
       "      <td>0</td>\n",
       "      <td>No</td>\n",
       "      <td>No</td>\n",
       "      <td>27</td>\n",
       "      <td>49.00</td>\n",
       "      <td>1291.35</td>\n",
       "      <td>No</td>\n",
       "      <td>No</td>\n",
       "      <td>No</td>\n",
       "      <td>No</td>\n",
       "      <td>No</td>\n",
       "      <td>No</td>\n",
       "    </tr>\n",
       "    <tr>\n",
       "      <th>2885</th>\n",
       "      <td>1</td>\n",
       "      <td>Yes</td>\n",
       "      <td>Yes</td>\n",
       "      <td>47</td>\n",
       "      <td>70.55</td>\n",
       "      <td>3309.25</td>\n",
       "      <td>No</td>\n",
       "      <td>No</td>\n",
       "      <td>No</td>\n",
       "      <td>No</td>\n",
       "      <td>No</td>\n",
       "      <td>No</td>\n",
       "    </tr>\n",
       "    <tr>\n",
       "      <th>3906</th>\n",
       "      <td>0</td>\n",
       "      <td>Yes</td>\n",
       "      <td>No</td>\n",
       "      <td>72</td>\n",
       "      <td>24.80</td>\n",
       "      <td>1874.30</td>\n",
       "      <td>No internet service</td>\n",
       "      <td>No internet service</td>\n",
       "      <td>No internet service</td>\n",
       "      <td>No internet service</td>\n",
       "      <td>No internet service</td>\n",
       "      <td>No</td>\n",
       "    </tr>\n",
       "  </tbody>\n",
       "</table>\n",
       "</div>"
      ],
      "text/plain": [
       "      SeniorCitizen Partner Dependents  tenure  MonthlyCharges  TotalCharges  \\\n",
       "463               0      No         No       7           99.80        673.25   \n",
       "5817              0     Yes         No       1           79.35         79.35   \n",
       "1432              0      No         No      27           49.00       1291.35   \n",
       "2885              1     Yes        Yes      47           70.55       3309.25   \n",
       "3906              0     Yes         No      72           24.80       1874.30   \n",
       "\n",
       "           OnlineSecurity         OnlineBackup     DeviceProtection  \\\n",
       "463                    No                  Yes                   No   \n",
       "5817                   No                   No                   No   \n",
       "1432                   No                   No                   No   \n",
       "2885                   No                   No                   No   \n",
       "3906  No internet service  No internet service  No internet service   \n",
       "\n",
       "              TechSupport          StreamingTV PaperlessBilling  \n",
       "463                    No                  Yes              Yes  \n",
       "5817                   No                  Yes              Yes  \n",
       "1432                   No                   No               No  \n",
       "2885                   No                   No               No  \n",
       "3906  No internet service  No internet service               No  "
      ]
     },
     "execution_count": 12,
     "metadata": {},
     "output_type": "execute_result"
    }
   ],
   "source": [
    "X_train.head()"
   ]
  },
  {
   "cell_type": "code",
   "execution_count": 16,
   "id": "a0890a1c",
   "metadata": {},
   "outputs": [],
   "source": [
    "def cate2int(data):\n",
    "    _df = data.select_dtypes(exclude='number').copy()\n",
    "    _colname=data.select_dtypes(exclude='number').columns\n",
    "    data[_colname] = _df[_colname].applymap(lambda x: 1 if x=='Yes' else (0 if x=='No' else -1)) \n",
    "    return data"
   ]
  },
  {
   "cell_type": "code",
   "execution_count": 19,
   "id": "955332bb",
   "metadata": {},
   "outputs": [
    {
     "ename": "NameError",
     "evalue": "name 'df' is not defined",
     "output_type": "error",
     "traceback": [
      "\u001b[1;31m---------------------------------------------------------------------------\u001b[0m",
      "\u001b[1;31mNameError\u001b[0m                                 Traceback (most recent call last)",
      "Input \u001b[1;32mIn [19]\u001b[0m, in \u001b[0;36m<cell line: 9>\u001b[1;34m()\u001b[0m\n\u001b[0;32m      7\u001b[0m     \u001b[38;5;28;01melse\u001b[39;00m:\n\u001b[0;32m      8\u001b[0m         \u001b[38;5;28;01mreturn\u001b[39;00m \u001b[38;5;241m-\u001b[39m\u001b[38;5;241m1\u001b[39m\n\u001b[1;32m----> 9\u001b[0m \u001b[43mdf\u001b[49m[col_service]\u001b[38;5;241m.\u001b[39mapplymap(\u001b[38;5;28;01mlambda\u001b[39;00m x: groups(x))\n\u001b[0;32m     10\u001b[0m df[col_service]\u001b[38;5;241m.\u001b[39mapplymap(groups)\n",
      "\u001b[1;31mNameError\u001b[0m: name 'df' is not defined"
     ]
    }
   ],
   "source": [
    "# 위에 람다식이랑 같음\n",
    "def groups(x):\n",
    "    if x=='Yes':\n",
    "        return 1\n",
    "    elif x=='No':\n",
    "        return 0\n",
    "    else:\n",
    "        return -1\n",
    "df[col_service].applymap(lambda x: groups(x))\n",
    "df[col_service].applymap(groups) #이렇게 해줘도 됨"
   ]
  },
  {
   "cell_type": "code",
   "execution_count": 18,
   "id": "e0911b64",
   "metadata": {},
   "outputs": [],
   "source": [
    "X_train=cate2int(X_train).copy()\n",
    "X_test=cate2int(X_test).copy()"
   ]
  },
  {
   "cell_type": "markdown",
   "id": "5df1ff54",
   "metadata": {},
   "source": [
    "※ 정규화는 Min-Max 정규화를 실시하며 모든 변수를 대상으로 하시오.  \n",
    "※ 정답은 반올림하여 소수점 둘째 자리까지 출력하시오.  \n",
    "(정답 예시: 0.12)"
   ]
  },
  {
   "cell_type": "code",
   "execution_count": 87,
   "id": "34111fbf",
   "metadata": {},
   "outputs": [],
   "source": [
    "scaler_mm = MinMaxScaler()"
   ]
  },
  {
   "cell_type": "code",
   "execution_count": 88,
   "id": "3fb383d6",
   "metadata": {},
   "outputs": [],
   "source": [
    "X_train=scaler_mm.fit_transform(X_train)"
   ]
  },
  {
   "cell_type": "code",
   "execution_count": 89,
   "id": "a1fca512",
   "metadata": {},
   "outputs": [],
   "source": [
    "X_test=scaler_mm.transform(X_test)"
   ]
  },
  {
   "cell_type": "code",
   "execution_count": 90,
   "id": "a64ca150",
   "metadata": {},
   "outputs": [
    {
     "data": {
      "text/html": [
       "<style>#sk-container-id-2 {color: black;background-color: white;}#sk-container-id-2 pre{padding: 0;}#sk-container-id-2 div.sk-toggleable {background-color: white;}#sk-container-id-2 label.sk-toggleable__label {cursor: pointer;display: block;width: 100%;margin-bottom: 0;padding: 0.3em;box-sizing: border-box;text-align: center;}#sk-container-id-2 label.sk-toggleable__label-arrow:before {content: \"▸\";float: left;margin-right: 0.25em;color: #696969;}#sk-container-id-2 label.sk-toggleable__label-arrow:hover:before {color: black;}#sk-container-id-2 div.sk-estimator:hover label.sk-toggleable__label-arrow:before {color: black;}#sk-container-id-2 div.sk-toggleable__content {max-height: 0;max-width: 0;overflow: hidden;text-align: left;background-color: #f0f8ff;}#sk-container-id-2 div.sk-toggleable__content pre {margin: 0.2em;color: black;border-radius: 0.25em;background-color: #f0f8ff;}#sk-container-id-2 input.sk-toggleable__control:checked~div.sk-toggleable__content {max-height: 200px;max-width: 100%;overflow: auto;}#sk-container-id-2 input.sk-toggleable__control:checked~label.sk-toggleable__label-arrow:before {content: \"▾\";}#sk-container-id-2 div.sk-estimator input.sk-toggleable__control:checked~label.sk-toggleable__label {background-color: #d4ebff;}#sk-container-id-2 div.sk-label input.sk-toggleable__control:checked~label.sk-toggleable__label {background-color: #d4ebff;}#sk-container-id-2 input.sk-hidden--visually {border: 0;clip: rect(1px 1px 1px 1px);clip: rect(1px, 1px, 1px, 1px);height: 1px;margin: -1px;overflow: hidden;padding: 0;position: absolute;width: 1px;}#sk-container-id-2 div.sk-estimator {font-family: monospace;background-color: #f0f8ff;border: 1px dotted black;border-radius: 0.25em;box-sizing: border-box;margin-bottom: 0.5em;}#sk-container-id-2 div.sk-estimator:hover {background-color: #d4ebff;}#sk-container-id-2 div.sk-parallel-item::after {content: \"\";width: 100%;border-bottom: 1px solid gray;flex-grow: 1;}#sk-container-id-2 div.sk-label:hover label.sk-toggleable__label {background-color: #d4ebff;}#sk-container-id-2 div.sk-serial::before {content: \"\";position: absolute;border-left: 1px solid gray;box-sizing: border-box;top: 0;bottom: 0;left: 50%;z-index: 0;}#sk-container-id-2 div.sk-serial {display: flex;flex-direction: column;align-items: center;background-color: white;padding-right: 0.2em;padding-left: 0.2em;position: relative;}#sk-container-id-2 div.sk-item {position: relative;z-index: 1;}#sk-container-id-2 div.sk-parallel {display: flex;align-items: stretch;justify-content: center;background-color: white;position: relative;}#sk-container-id-2 div.sk-item::before, #sk-container-id-2 div.sk-parallel-item::before {content: \"\";position: absolute;border-left: 1px solid gray;box-sizing: border-box;top: 0;bottom: 0;left: 50%;z-index: -1;}#sk-container-id-2 div.sk-parallel-item {display: flex;flex-direction: column;z-index: 1;position: relative;background-color: white;}#sk-container-id-2 div.sk-parallel-item:first-child::after {align-self: flex-end;width: 50%;}#sk-container-id-2 div.sk-parallel-item:last-child::after {align-self: flex-start;width: 50%;}#sk-container-id-2 div.sk-parallel-item:only-child::after {width: 0;}#sk-container-id-2 div.sk-dashed-wrapped {border: 1px dashed gray;margin: 0 0.4em 0.5em 0.4em;box-sizing: border-box;padding-bottom: 0.4em;background-color: white;}#sk-container-id-2 div.sk-label label {font-family: monospace;font-weight: bold;display: inline-block;line-height: 1.2em;}#sk-container-id-2 div.sk-label-container {text-align: center;}#sk-container-id-2 div.sk-container {/* jupyter's `normalize.less` sets `[hidden] { display: none; }` but bootstrap.min.css set `[hidden] { display: none !important; }` so we also need the `!important` here to be able to override the default hidden behavior on the sphinx rendered scikit-learn.org. See: https://github.com/scikit-learn/scikit-learn/issues/21755 */display: inline-block !important;position: relative;}#sk-container-id-2 div.sk-text-repr-fallback {display: none;}</style><div id=\"sk-container-id-2\" class=\"sk-top-container\"><div class=\"sk-text-repr-fallback\"><pre>LogisticRegression(random_state=123)</pre><b>In a Jupyter environment, please rerun this cell to show the HTML representation or trust the notebook. <br />On GitHub, the HTML representation is unable to render, please try loading this page with nbviewer.org.</b></div><div class=\"sk-container\" hidden><div class=\"sk-item\"><div class=\"sk-estimator sk-toggleable\"><input class=\"sk-toggleable__control sk-hidden--visually\" id=\"sk-estimator-id-2\" type=\"checkbox\" checked><label for=\"sk-estimator-id-2\" class=\"sk-toggleable__label sk-toggleable__label-arrow\">LogisticRegression</label><div class=\"sk-toggleable__content\"><pre>LogisticRegression(random_state=123)</pre></div></div></div></div></div>"
      ],
      "text/plain": [
       "LogisticRegression(random_state=123)"
      ]
     },
     "execution_count": 90,
     "metadata": {},
     "output_type": "execute_result"
    }
   ],
   "source": [
    "model_lr = LogisticRegression(random_state = seed)\n",
    "model_lr.fit(X = X_train,\n",
    "             y = y_train)"
   ]
  },
  {
   "cell_type": "code",
   "execution_count": 91,
   "id": "901012c9",
   "metadata": {},
   "outputs": [],
   "source": [
    "y_pred=model_lr.predict(X_test)"
   ]
  },
  {
   "cell_type": "code",
   "execution_count": 97,
   "id": "8b40d1ac",
   "metadata": {
    "scrolled": true
   },
   "outputs": [
    {
     "data": {
      "text/plain": [
       "array([[1376,  108],\n",
       "       [ 347,  279]], dtype=int64)"
      ]
     },
     "execution_count": 97,
     "metadata": {},
     "output_type": "execute_result"
    }
   ],
   "source": [
    "from sklearn.metrics import confusion_matrix\n",
    "confusion_matrix(y_test, y_pred)"
   ]
  },
  {
   "cell_type": "markdown",
   "id": "85265d50",
   "metadata": {},
   "source": [
    "Q. 재현율(민감도)를 구하라"
   ]
  },
  {
   "cell_type": "code",
   "execution_count": 105,
   "id": "b520ef97",
   "metadata": {
    "scrolled": true
   },
   "outputs": [
    {
     "data": {
      "text/plain": [
       "0.44568690095846647"
      ]
     },
     "execution_count": 105,
     "metadata": {},
     "output_type": "execute_result"
    }
   ],
   "source": [
    "279/(347+279)"
   ]
  },
  {
   "cell_type": "markdown",
   "id": "0f864895",
   "metadata": {},
   "source": [
    "Q. f1 구하라"
   ]
  },
  {
   "cell_type": "code",
   "execution_count": 95,
   "id": "e3d466e8",
   "metadata": {
    "scrolled": false
   },
   "outputs": [
    {
     "data": {
      "text/plain": [
       "0.55"
      ]
     },
     "execution_count": 95,
     "metadata": {},
     "output_type": "execute_result"
    }
   ],
   "source": [
    "round(f1_score(y_test, y_pred, pos_label='Yes'),2)"
   ]
  },
  {
   "cell_type": "code",
   "execution_count": 103,
   "id": "5aab3f4c",
   "metadata": {},
   "outputs": [
    {
     "name": "stdout",
     "output_type": "stream",
     "text": [
      "              precision    recall  f1-score   support\n",
      "\n",
      "          No       0.80      0.93      0.86      1484\n",
      "         Yes       0.72      0.45      0.55       626\n",
      "\n",
      "    accuracy                           0.78      2110\n",
      "   macro avg       0.76      0.69      0.70      2110\n",
      "weighted avg       0.78      0.78      0.77      2110\n",
      "\n"
     ]
    }
   ],
   "source": [
    "from sklearn.metrics import classification_report\n",
    "print(classification_report(y_test, y_pred))"
   ]
  },
  {
   "cell_type": "markdown",
   "id": "06d4b43e",
   "metadata": {},
   "source": [
    "### A3. 0.55"
   ]
  }
 ],
 "metadata": {
  "kernelspec": {
   "display_name": "Python 3 (ipykernel)",
   "language": "python",
   "name": "python3"
  },
  "language_info": {
   "codemirror_mode": {
    "name": "ipython",
    "version": 3
   },
   "file_extension": ".py",
   "mimetype": "text/x-python",
   "name": "python",
   "nbconvert_exporter": "python",
   "pygments_lexer": "ipython3",
   "version": "3.9.7"
  },
  "toc": {
   "base_numbering": 1,
   "nav_menu": {},
   "number_sections": false,
   "sideBar": true,
   "skip_h1_title": false,
   "title_cell": "Table of Contents",
   "title_sidebar": "Contents",
   "toc_cell": false,
   "toc_position": {
    "height": "calc(100% - 180px)",
    "left": "10px",
    "top": "150px",
    "width": "152.15px"
   },
   "toc_section_display": true,
   "toc_window_display": false
  }
 },
 "nbformat": 4,
 "nbformat_minor": 5
}
