{
 "cells": [
  {
   "cell_type": "markdown",
   "id": "e5548f14",
   "metadata": {},
   "source": [
    "> Q3  ※ 정답은 반올림하여 소수점 둘째 자리까지 출력하시오.   <- 삭제"
   ]
  },
  {
   "cell_type": "markdown",
   "id": "4f602fa3",
   "metadata": {},
   "source": [
    "갓 입사한 신입사원 김모씨는 기획 부서에 배치되었다. 첫 프로젝트로 신규 스마트폰 스팩 기획 업무를 보조하게 되었다. 장고 끝에 김씨는 온라인 디지털 마켓 사이트 \"디판다요\"에서 판매중인 스마트폰 데이터를 수집하여 이를 분석하고 향후 프로젝트의 백데이터로 활용하기로 결심하였다."
   ]
  },
  {
   "cell_type": "code",
   "execution_count": 1,
   "id": "409f0f86",
   "metadata": {},
   "outputs": [],
   "source": [
    "from sklearn.preprocessing import MinMaxScaler\n",
    "from sklearn.model_selection import train_test_split\n",
    "from sklearn.neighbors import KNeighborsRegressor\n",
    "from sklearn.metrics import mean_squared_error\n",
    "import pandas as pd"
   ]
  },
  {
   "cell_type": "code",
   "execution_count": 2,
   "id": "ce8635b8",
   "metadata": {
    "scrolled": true
   },
   "outputs": [
    {
     "data": {
      "text/html": [
       "<div>\n",
       "<style scoped>\n",
       "    .dataframe tbody tr th:only-of-type {\n",
       "        vertical-align: middle;\n",
       "    }\n",
       "\n",
       "    .dataframe tbody tr th {\n",
       "        vertical-align: top;\n",
       "    }\n",
       "\n",
       "    .dataframe thead th {\n",
       "        text-align: right;\n",
       "    }\n",
       "</style>\n",
       "<table border=\"1\" class=\"dataframe\">\n",
       "  <thead>\n",
       "    <tr style=\"text-align: right;\">\n",
       "      <th></th>\n",
       "      <th>screen_size</th>\n",
       "      <th>ROM</th>\n",
       "      <th>RAM</th>\n",
       "      <th>num_rear_camera</th>\n",
       "      <th>num_front_camera</th>\n",
       "      <th>battery_capacity</th>\n",
       "      <th>ratings</th>\n",
       "      <th>num_of_ratings</th>\n",
       "      <th>sales_price</th>\n",
       "      <th>discount_percent</th>\n",
       "      <th>sales</th>\n",
       "    </tr>\n",
       "  </thead>\n",
       "  <tbody>\n",
       "    <tr>\n",
       "      <th>0</th>\n",
       "      <td>Very Small</td>\n",
       "      <td>64</td>\n",
       "      <td>2</td>\n",
       "      <td>1</td>\n",
       "      <td>1</td>\n",
       "      <td>1800</td>\n",
       "      <td>4.5</td>\n",
       "      <td>38645</td>\n",
       "      <td>32999</td>\n",
       "      <td>0.17</td>\n",
       "      <td>127.52</td>\n",
       "    </tr>\n",
       "    <tr>\n",
       "      <th>1</th>\n",
       "      <td>Small</td>\n",
       "      <td>64</td>\n",
       "      <td>4</td>\n",
       "      <td>2</td>\n",
       "      <td>1</td>\n",
       "      <td>2815</td>\n",
       "      <td>4.5</td>\n",
       "      <td>244</td>\n",
       "      <td>57149</td>\n",
       "      <td>0.04</td>\n",
       "      <td>1.39</td>\n",
       "    </tr>\n",
       "  </tbody>\n",
       "</table>\n",
       "</div>"
      ],
      "text/plain": [
       "  screen_size  ROM  RAM  num_rear_camera  num_front_camera  battery_capacity  \\\n",
       "0  Very Small   64    2                1                 1              1800   \n",
       "1       Small   64    4                2                 1              2815   \n",
       "\n",
       "   ratings  num_of_ratings  sales_price  discount_percent   sales  \n",
       "0      4.5           38645        32999              0.17  127.52  \n",
       "1      4.5             244        57149              0.04    1.39  "
      ]
     },
     "execution_count": 2,
     "metadata": {},
     "output_type": "execute_result"
    }
   ],
   "source": [
    "import pandas as pd\n",
    "df_origin = pd.read_csv(\"../Datasets/mobiles.csv\")\n",
    "df_origin.head(2)"
   ]
  },
  {
   "cell_type": "markdown",
   "id": "de352a90",
   "metadata": {},
   "source": [
    "### Q1. 스마트폰의 경우 많은 제품이 출시되지만 정작 주목받는 제품은 극히 적다고 한다. 판매 지수(sales)를 기준으로 이상치라고 판단되는 제품을 주목받는 제품이라고 판단하고 해당 제품들의 성능지표를 산출하시오. 산출된 성능지표의 평균은 얼마인가?\n",
    "\n",
    "<성능지표 계산식>\n",
    "$$성능지표 = \\frac{ROM}{32} + \\frac{RAM}{2} + 카메라 개수 + \\frac{배터리 용량}{1000}$$\n",
    "\n",
    "※ 카메라 개수  : num_rear_camera + num_front_camera  \n",
    "※ 이상치는 평균으로 부터 2 표준편차보다 큰 값으로 정의한다.  \n",
    "※ 결과는 반올림하여 소수점 둘째 자리까지 계산하시오.  \n",
    "(정답 예시: 0.12) "
   ]
  },
  {
   "cell_type": "code",
   "execution_count": 3,
   "id": "9063a7dc",
   "metadata": {},
   "outputs": [],
   "source": [
    "df1 = df_origin.copy()"
   ]
  },
  {
   "cell_type": "markdown",
   "id": "3b90081e",
   "metadata": {},
   "source": [
    "---"
   ]
  },
  {
   "cell_type": "markdown",
   "id": "f1291e24",
   "metadata": {},
   "source": [
    "판매 지수(sales)를 기준으로 이상치  \n",
    "※ 이상치는 평균으로 부터 2 표준편차보다 큰 값으로 정의한다.  "
   ]
  },
  {
   "cell_type": "code",
   "execution_count": 4,
   "id": "d1b4d55a",
   "metadata": {},
   "outputs": [],
   "source": [
    "df1=df1[[\"ROM\", \"RAM\", \"num_rear_camera\", \"num_front_camera\", \"battery_capacity\", \"sales\"]].copy()"
   ]
  },
  {
   "cell_type": "markdown",
   "id": "1b4ffec8",
   "metadata": {},
   "source": [
    "Q. sales 어떻게 생겼길래 아웃라이어 처리하라는 거지?"
   ]
  },
  {
   "cell_type": "code",
   "execution_count": 5,
   "id": "cb438eee",
   "metadata": {},
   "outputs": [
    {
     "data": {
      "image/png": "[encoded data removed]",
      "text/plain": [
       "<Figure size 640x480 with 1 Axes>"
      ]
     },
     "metadata": {},
     "output_type": "display_data"
    }
   ],
   "source": [
    "df1['sales'].hist();"
   ]
  },
  {
   "cell_type": "markdown",
   "id": "659c2982",
   "metadata": {},
   "source": [
    "> 400 이상인 애들이 보이네"
   ]
  },
  {
   "cell_type": "code",
   "execution_count": 6,
   "id": "a4e59320",
   "metadata": {},
   "outputs": [
    {
     "data": {
      "text/plain": [
       "146.55150129273218"
      ]
     },
     "execution_count": 6,
     "metadata": {},
     "output_type": "execute_result"
    }
   ],
   "source": [
    "stat_outlier=df1['sales'].mean() +  df1['sales'].std()*2\n",
    "stat_outlier"
   ]
  },
  {
   "cell_type": "markdown",
   "id": "d7a5ea84",
   "metadata": {},
   "source": [
    "이상치라고 판단되는 제품을 주목받는 제품이라고 판단하고 해당 제품들의 성능지표"
   ]
  },
  {
   "cell_type": "code",
   "execution_count": 7,
   "id": "6a0d6209",
   "metadata": {},
   "outputs": [],
   "source": [
    "df1=df1.loc[df1['sales']>stat_outlier]"
   ]
  },
  {
   "cell_type": "markdown",
   "id": "1ffeaa85",
   "metadata": {},
   "source": [
    "성능지표  \n",
    "<성능지표 계산식>\n",
    "$$성능지표 = \\frac{ROM}{32} + \\frac{RAM}{2} + 카메라 개수 + \\frac{배터리 용량}{1000}$$\n",
    " \n",
    "※ 카메라 개수  : num_rear_camera + num_front_camera  \n"
   ]
  },
  {
   "cell_type": "code",
   "execution_count": 8,
   "id": "36c8c9a3",
   "metadata": {},
   "outputs": [],
   "source": [
    "idx = (df1[\"ROM\"] / 32) + (df1[\"RAM\"] / 2) \\\n",
    "                    + df1[\"num_front_camera\"] + df1[\"num_rear_camera\"] \\\n",
    "                    + (df1[\"battery_capacity\"] / 1000)"
   ]
  },
  {
   "cell_type": "markdown",
   "id": "02368568",
   "metadata": {},
   "source": [
    "※ 결과는 반올림하여 소수점 둘째 자리까지 계산하시오.  "
   ]
  },
  {
   "cell_type": "code",
   "execution_count": 9,
   "id": "0c6dc873",
   "metadata": {},
   "outputs": [
    {
     "data": {
      "text/plain": [
       "98     14.00\n",
       "110    17.50\n",
       "158    10.00\n",
       "159    10.00\n",
       "193     8.50\n",
       "198     9.00\n",
       "243     8.50\n",
       "381    12.00\n",
       "382    12.00\n",
       "395     8.60\n",
       "396    10.00\n",
       "402    11.00\n",
       "404    12.00\n",
       "407    12.00\n",
       "412    11.00\n",
       "418    10.08\n",
       "dtype: float64"
      ]
     },
     "execution_count": 9,
     "metadata": {},
     "output_type": "execute_result"
    }
   ],
   "source": [
    "idx"
   ]
  },
  {
   "cell_type": "code",
   "execution_count": 10,
   "id": "8bf6fb4c",
   "metadata": {},
   "outputs": [
    {
     "data": {
      "text/plain": [
       "11.01"
      ]
     },
     "execution_count": 10,
     "metadata": {},
     "output_type": "execute_result"
    }
   ],
   "source": [
    "round(idx.mean(), 2)"
   ]
  },
  {
   "cell_type": "markdown",
   "id": "11543734",
   "metadata": {},
   "source": [
    "### Q2. 판매 지수와 가장 상관관계가 높은 변수를 찾고자 한다. 배터리 용량, 평가 점수 평균, 평가 개수, 판매 가격, 할인율 변수와 판매 지수를 피어슨 상관분석을 실시하였을 때 상관계수의 절대값이 가장 큰 변수의 상관계수는 얼마인가?\n",
    "※ 후면 카메라가 1개인 제품은 제외하시오.  \n",
    "※ 통계적 유의성은 고려하지 않음  \n",
    "※ 결과는 반올림하여 소수점 둘째 자리까지 출력하시오.  \n",
    "(정답 예시: 0.12)"
   ]
  },
  {
   "cell_type": "code",
   "execution_count": 11,
   "id": "c80c9c9b",
   "metadata": {},
   "outputs": [],
   "source": [
    "df2 = df_origin.copy()"
   ]
  },
  {
   "cell_type": "markdown",
   "id": "a68eb312",
   "metadata": {},
   "source": [
    "※ 후면 카메라가 1개인 제품은 제외하시오.  "
   ]
  },
  {
   "cell_type": "code",
   "execution_count": 12,
   "id": "02983625",
   "metadata": {
    "scrolled": true
   },
   "outputs": [
    {
     "data": {
      "text/plain": [
       "Index(['screen_size', 'ROM', 'RAM', 'num_rear_camera', 'num_front_camera',\n",
       "       'battery_capacity', 'ratings', 'num_of_ratings', 'sales_price',\n",
       "       'discount_percent', 'sales'],\n",
       "      dtype='object')"
      ]
     },
     "execution_count": 12,
     "metadata": {},
     "output_type": "execute_result"
    }
   ],
   "source": [
    "df2.columns"
   ]
  },
  {
   "cell_type": "code",
   "execution_count": 13,
   "id": "b607be57",
   "metadata": {},
   "outputs": [],
   "source": [
    "df2=df2.loc[df2.num_rear_camera!=1]"
   ]
  },
  {
   "cell_type": "markdown",
   "id": "bc735f9d",
   "metadata": {},
   "source": [
    "판매 지수와 가장 상관관계가 높은 변수\n",
    "배터리 용량, 평가 점수 평균, 평가 개수, 판매 가격, 할인율 변수와 판매 지수\n",
    "\n",
    "절대값 가장 큰 거"
   ]
  },
  {
   "cell_type": "markdown",
   "id": "f477a36d",
   "metadata": {},
   "source": [
    "※ 결과는 반올림하여 소수점 둘째 자리까지 출력하시오.  "
   ]
  },
  {
   "cell_type": "code",
   "execution_count": 14,
   "id": "48f372c7",
   "metadata": {},
   "outputs": [],
   "source": [
    "df2=df2.loc[:, 'battery_capacity':]"
   ]
  },
  {
   "cell_type": "code",
   "execution_count": 15,
   "id": "46725732",
   "metadata": {},
   "outputs": [
    {
     "data": {
      "text/plain": [
       "0.9491139794930513"
      ]
     },
     "execution_count": 15,
     "metadata": {},
     "output_type": "execute_result"
    }
   ],
   "source": [
    "df2.corr()['sales'][:-1].abs().max()"
   ]
  },
  {
   "cell_type": "code",
   "execution_count": 16,
   "id": "21f6bf6f",
   "metadata": {
    "scrolled": true
   },
   "outputs": [
    {
     "data": {
      "text/plain": [
       "0.95"
      ]
     },
     "execution_count": 16,
     "metadata": {},
     "output_type": "execute_result"
    }
   ],
   "source": [
    "round(df2.corr()['sales'][:-1].abs().max(), 2)"
   ]
  },
  {
   "cell_type": "markdown",
   "id": "c1dfacad",
   "metadata": {},
   "source": [
    "### Q3. 판매지수를 예측하기 위해 머신러닝 모델을 활용하고자 한다. k-NN 알고리즘을 사용하고 연산에 사용하는 이웃의 개수를 변화하면서 가장 성능이 좋은 모델을 확보하려 한다. RMSE(Root Mean Squared Error)를 기준으로 가장 성능이 좋은 모델의 군집개수 k를 구하라\n",
    "\n",
    "<독립 변수>\n",
    "- 판매 지수를 제외한 모든 변수\n",
    "\n",
    "<종속변수>\n",
    " - 판매 지수\n",
    "\n",
    "※ 명목형 독립변수의 경우 One Hot Encoding을 실시한 결과를 모델에 사용하시오.  \n",
    "※ 학습에 사용하는 독립변수의 개수는 총 14개 이다.  \n",
    "※ 학습 및 평가 데이터 세트 분할비는 8:2으로 하시오.  \n",
    "※ 정규화는 Min-Max 정규화를 실시하며 평가 데이터 세트는 학습 데이터 세트 기반으로 정규화 하시오.  \n",
    "※ seed는 123으로 고정하시오.  \n",
    "※ 최근접 이웃은 3, 5, 7, 9, 11개를 사용하시오.  \n",
    "(정답 예시: 9)"
   ]
  },
  {
   "cell_type": "code",
   "execution_count": 17,
   "id": "a266a230",
   "metadata": {
    "scrolled": true
   },
   "outputs": [],
   "source": [
    "df3= df_origin.copy()"
   ]
  },
  {
   "cell_type": "markdown",
   "id": "1af76336",
   "metadata": {},
   "source": [
    "※ seed는 123으로 고정하시오.  "
   ]
  },
  {
   "cell_type": "code",
   "execution_count": 18,
   "id": "6ced49bf",
   "metadata": {},
   "outputs": [],
   "source": [
    "seed = 123"
   ]
  },
  {
   "cell_type": "markdown",
   "id": "d91fed96",
   "metadata": {},
   "source": [
    "※ 학습 및 평가 데이터 세트 분할비는 8:2으로 하시오.  "
   ]
  },
  {
   "cell_type": "code",
   "execution_count": 19,
   "id": "fc09673c",
   "metadata": {},
   "outputs": [],
   "source": [
    "X=df3.drop(columns='sales').copy()\n",
    "y=df3['sales'].copy()"
   ]
  },
  {
   "cell_type": "code",
   "execution_count": 20,
   "id": "9139709b",
   "metadata": {},
   "outputs": [],
   "source": [
    "X_train, X_test, y_train, y_test = train_test_split(X, y, test_size=0.2, random_state=seed)"
   ]
  },
  {
   "cell_type": "markdown",
   "id": "3684282e",
   "metadata": {},
   "source": [
    "※ 정규화는 Min-Max 정규화를 실시하며 평가 데이터 세트는 학습 데이터 세트 기반으로 정규화 하시오.  "
   ]
  },
  {
   "cell_type": "code",
   "execution_count": 21,
   "id": "138f1487",
   "metadata": {},
   "outputs": [
    {
     "name": "stdout",
     "output_type": "stream",
     "text": [
      "<class 'pandas.core.frame.DataFrame'>\n",
      "RangeIndex: 430 entries, 0 to 429\n",
      "Data columns (total 11 columns):\n",
      " #   Column            Non-Null Count  Dtype  \n",
      "---  ------            --------------  -----  \n",
      " 0   screen_size       430 non-null    object \n",
      " 1   ROM               430 non-null    int64  \n",
      " 2   RAM               430 non-null    int64  \n",
      " 3   num_rear_camera   430 non-null    int64  \n",
      " 4   num_front_camera  430 non-null    int64  \n",
      " 5   battery_capacity  430 non-null    int64  \n",
      " 6   ratings           430 non-null    float64\n",
      " 7   num_of_ratings    430 non-null    int64  \n",
      " 8   sales_price       430 non-null    int64  \n",
      " 9   discount_percent  430 non-null    float64\n",
      " 10  sales             430 non-null    float64\n",
      "dtypes: float64(3), int64(7), object(1)\n",
      "memory usage: 37.1+ KB\n"
     ]
    }
   ],
   "source": [
    "df3.info()"
   ]
  },
  {
   "cell_type": "code",
   "execution_count": 22,
   "id": "7b1a3502",
   "metadata": {},
   "outputs": [],
   "source": [
    "col_cate = X_train.select_dtypes(exclude='number').columns\n",
    "col_num = X_train.select_dtypes(include='number').columns"
   ]
  },
  {
   "cell_type": "code",
   "execution_count": 23,
   "id": "89ab18d5",
   "metadata": {},
   "outputs": [],
   "source": [
    "scaler_mm=MinMaxScaler()"
   ]
  },
  {
   "cell_type": "code",
   "execution_count": 24,
   "id": "03f074d3",
   "metadata": {},
   "outputs": [],
   "source": [
    "X_train_num = scaler_mm.fit_transform(X_train[col_num])\n",
    "X_test_num = scaler_mm.transform(X_test[col_num])"
   ]
  },
  {
   "cell_type": "code",
   "execution_count": 25,
   "id": "7848030d",
   "metadata": {},
   "outputs": [],
   "source": [
    "# y도 스케일링 해도 괜찮다 어차피 모델 간 성능 비교를 rmse로 성능판단을 할 거니깐 \n",
    "# X_test_num = minmax_scaler.transform(pd.concat([X_test[col_num], y_test], axis=1))\n",
    "# y_test_minmax=X_test_num[:,-1]\n",
    "# X_test_num=X_test_num[:,:-1]"
   ]
  },
  {
   "cell_type": "markdown",
   "id": "c13157cc",
   "metadata": {},
   "source": [
    "※ 명목형 독립변수의 경우 One Hot Encoding을 실시한 결과를 모델에 사용하시오.  "
   ]
  },
  {
   "cell_type": "code",
   "execution_count": 26,
   "id": "0ee98d3d",
   "metadata": {},
   "outputs": [],
   "source": [
    "from sklearn.preprocessing import OneHotEncoder"
   ]
  },
  {
   "cell_type": "code",
   "execution_count": 27,
   "id": "b7ff6183",
   "metadata": {},
   "outputs": [],
   "source": [
    "ohe=OneHotEncoder(handle_unknown='ignore', sparse_output=True)"
   ]
  },
  {
   "cell_type": "markdown",
   "id": "2bb10daf",
   "metadata": {},
   "source": [
    "> 지금은 테스트셋이 하나의 데이터셋에서 나눴는데 만약 테스트셋을 따로 제공했을 때 테스트셋의 범주형 컬럼개수가 더 많다면 판다스 겟더미함수는 오류발생"
   ]
  },
  {
   "cell_type": "code",
   "execution_count": 28,
   "id": "6bd9fd7e",
   "metadata": {},
   "outputs": [],
   "source": [
    "X_train_cate = ohe.fit_transform(X_train[col_cate])\n",
    "X_test_cate = ohe.transform(X_test[col_cate])"
   ]
  },
  {
   "cell_type": "code",
   "execution_count": 29,
   "id": "f6e17a58",
   "metadata": {},
   "outputs": [
    {
     "data": {
      "text/plain": [
       "<344x5 sparse matrix of type '<class 'numpy.float64'>'\n",
       "\twith 344 stored elements in Compressed Sparse Row format>"
      ]
     },
     "execution_count": 29,
     "metadata": {},
     "output_type": "execute_result"
    }
   ],
   "source": [
    "X_train_cate"
   ]
  },
  {
   "cell_type": "markdown",
   "id": "149e07ab",
   "metadata": {},
   "source": [
    "> 희소행렬(Sparse Matrix, 0이 너무 많은 행렬)을 Dense Matrix(우리가 일반적으로 보고 있는 테이블형태)하게 저장할 필요없이 메모리 효율적으로 숫자가 있는 위치만 저장함)\n",
    "\n",
    "> 지금은 카테고리가 컬럼하나 밖에 없고 그 컬럼의 유니크 범주가 몇 개 없어서 사용할 필요는 없다."
   ]
  },
  {
   "cell_type": "markdown",
   "id": "509a1a67",
   "metadata": {},
   "source": [
    "※ 학습에 사용하는 독립변수의 개수는 총 14개 이다.  "
   ]
  },
  {
   "cell_type": "code",
   "execution_count": 30,
   "id": "bcbe96fb",
   "metadata": {},
   "outputs": [],
   "source": [
    "num_depend = X_train_cate.shape[1]+X_train_num.shape[1]"
   ]
  },
  {
   "cell_type": "code",
   "execution_count": 31,
   "id": "f13877fc",
   "metadata": {},
   "outputs": [],
   "source": [
    "assert num_depend == 14"
   ]
  },
  {
   "cell_type": "markdown",
   "id": "b62aaaf5",
   "metadata": {},
   "source": [
    "- 데이터 합치기"
   ]
  },
  {
   "cell_type": "code",
   "execution_count": 32,
   "id": "a6f174bc",
   "metadata": {},
   "outputs": [],
   "source": [
    "from scipy import sparse"
   ]
  },
  {
   "cell_type": "code",
   "execution_count": 33,
   "id": "a045df6e",
   "metadata": {},
   "outputs": [],
   "source": [
    "X_train=sparse.hstack([X_train_cate, X_train_num])\n",
    "X_test=sparse.hstack([X_test_cate, X_test_num])"
   ]
  },
  {
   "cell_type": "markdown",
   "id": "fee01378",
   "metadata": {},
   "source": [
    "※ 최근접 이웃은 3, 5, 7, 9, 11개를 사용하시오.  "
   ]
  },
  {
   "cell_type": "code",
   "execution_count": 34,
   "id": "41f3b13f",
   "metadata": {},
   "outputs": [],
   "source": [
    "k_values = [3,5,7,9,11]"
   ]
  },
  {
   "cell_type": "markdown",
   "id": "8104cba6",
   "metadata": {},
   "source": [
    "RMSE(Root Mean Squared Error)를 기준 k를 구하라"
   ]
  },
  {
   "cell_type": "markdown",
   "id": "e300bf14",
   "metadata": {},
   "source": [
    "- 3으로 일단 테스트 보여드릴게요"
   ]
  },
  {
   "cell_type": "code",
   "execution_count": 35,
   "id": "f7508da6",
   "metadata": {},
   "outputs": [],
   "source": [
    "model_knnr=KNeighborsRegressor(n_neighbors=k_values[0])"
   ]
  },
  {
   "cell_type": "code",
   "execution_count": 36,
   "id": "08e417d9",
   "metadata": {},
   "outputs": [
    {
     "data": {
      "text/html": [
       "<style>#sk-container-id-1 {color: black;background-color: white;}#sk-container-id-1 pre{padding: 0;}#sk-container-id-1 div.sk-toggleable {background-color: white;}#sk-container-id-1 label.sk-toggleable__label {cursor: pointer;display: block;width: 100%;margin-bottom: 0;padding: 0.3em;box-sizing: border-box;text-align: center;}#sk-container-id-1 label.sk-toggleable__label-arrow:before {content: \"▸\";float: left;margin-right: 0.25em;color: #696969;}#sk-container-id-1 label.sk-toggleable__label-arrow:hover:before {color: black;}#sk-container-id-1 div.sk-estimator:hover label.sk-toggleable__label-arrow:before {color: black;}#sk-container-id-1 div.sk-toggleable__content {max-height: 0;max-width: 0;overflow: hidden;text-align: left;background-color: #f0f8ff;}#sk-container-id-1 div.sk-toggleable__content pre {margin: 0.2em;color: black;border-radius: 0.25em;background-color: #f0f8ff;}#sk-container-id-1 input.sk-toggleable__control:checked~div.sk-toggleable__content {max-height: 200px;max-width: 100%;overflow: auto;}#sk-container-id-1 input.sk-toggleable__control:checked~label.sk-toggleable__label-arrow:before {content: \"▾\";}#sk-container-id-1 div.sk-estimator input.sk-toggleable__control:checked~label.sk-toggleable__label {background-color: #d4ebff;}#sk-container-id-1 div.sk-label input.sk-toggleable__control:checked~label.sk-toggleable__label {background-color: #d4ebff;}#sk-container-id-1 input.sk-hidden--visually {border: 0;clip: rect(1px 1px 1px 1px);clip: rect(1px, 1px, 1px, 1px);height: 1px;margin: -1px;overflow: hidden;padding: 0;position: absolute;width: 1px;}#sk-container-id-1 div.sk-estimator {font-family: monospace;background-color: #f0f8ff;border: 1px dotted black;border-radius: 0.25em;box-sizing: border-box;margin-bottom: 0.5em;}#sk-container-id-1 div.sk-estimator:hover {background-color: #d4ebff;}#sk-container-id-1 div.sk-parallel-item::after {content: \"\";width: 100%;border-bottom: 1px solid gray;flex-grow: 1;}#sk-container-id-1 div.sk-label:hover label.sk-toggleable__label {background-color: #d4ebff;}#sk-container-id-1 div.sk-serial::before {content: \"\";position: absolute;border-left: 1px solid gray;box-sizing: border-box;top: 0;bottom: 0;left: 50%;z-index: 0;}#sk-container-id-1 div.sk-serial {display: flex;flex-direction: column;align-items: center;background-color: white;padding-right: 0.2em;padding-left: 0.2em;position: relative;}#sk-container-id-1 div.sk-item {position: relative;z-index: 1;}#sk-container-id-1 div.sk-parallel {display: flex;align-items: stretch;justify-content: center;background-color: white;position: relative;}#sk-container-id-1 div.sk-item::before, #sk-container-id-1 div.sk-parallel-item::before {content: \"\";position: absolute;border-left: 1px solid gray;box-sizing: border-box;top: 0;bottom: 0;left: 50%;z-index: -1;}#sk-container-id-1 div.sk-parallel-item {display: flex;flex-direction: column;z-index: 1;position: relative;background-color: white;}#sk-container-id-1 div.sk-parallel-item:first-child::after {align-self: flex-end;width: 50%;}#sk-container-id-1 div.sk-parallel-item:last-child::after {align-self: flex-start;width: 50%;}#sk-container-id-1 div.sk-parallel-item:only-child::after {width: 0;}#sk-container-id-1 div.sk-dashed-wrapped {border: 1px dashed gray;margin: 0 0.4em 0.5em 0.4em;box-sizing: border-box;padding-bottom: 0.4em;background-color: white;}#sk-container-id-1 div.sk-label label {font-family: monospace;font-weight: bold;display: inline-block;line-height: 1.2em;}#sk-container-id-1 div.sk-label-container {text-align: center;}#sk-container-id-1 div.sk-container {/* jupyter's `normalize.less` sets `[hidden] { display: none; }` but bootstrap.min.css set `[hidden] { display: none !important; }` so we also need the `!important` here to be able to override the default hidden behavior on the sphinx rendered scikit-learn.org. See: https://github.com/scikit-learn/scikit-learn/issues/21755 */display: inline-block !important;position: relative;}#sk-container-id-1 div.sk-text-repr-fallback {display: none;}</style><div id=\"sk-container-id-1\" class=\"sk-top-container\"><div class=\"sk-text-repr-fallback\"><pre>KNeighborsRegressor(n_neighbors=3)</pre><b>In a Jupyter environment, please rerun this cell to show the HTML representation or trust the notebook. <br />On GitHub, the HTML representation is unable to render, please try loading this page with nbviewer.org.</b></div><div class=\"sk-container\" hidden><div class=\"sk-item\"><div class=\"sk-estimator sk-toggleable\"><input class=\"sk-toggleable__control sk-hidden--visually\" id=\"sk-estimator-id-1\" type=\"checkbox\" checked><label for=\"sk-estimator-id-1\" class=\"sk-toggleable__label sk-toggleable__label-arrow\">KNeighborsRegressor</label><div class=\"sk-toggleable__content\"><pre>KNeighborsRegressor(n_neighbors=3)</pre></div></div></div></div></div>"
      ],
      "text/plain": [
       "KNeighborsRegressor(n_neighbors=3)"
      ]
     },
     "execution_count": 36,
     "metadata": {},
     "output_type": "execute_result"
    }
   ],
   "source": [
    "model_knnr.fit(X=X_train,y=y_train)"
   ]
  },
  {
   "cell_type": "markdown",
   "id": "5f734757",
   "metadata": {},
   "source": [
    "Q. 모델이 일반적인으로 말하는 학습을 했을까요? 안했을까요?"
   ]
  },
  {
   "cell_type": "markdown",
   "id": "2e8c7677",
   "metadata": {},
   "source": [
    "> A. KNN은 instance based model! test들어오기 전까지 대기! lazy learner!"
   ]
  },
  {
   "cell_type": "code",
   "execution_count": 37,
   "id": "4e676c5b",
   "metadata": {},
   "outputs": [],
   "source": [
    "y_pred = model_knnr.predict(X_test)"
   ]
  },
  {
   "cell_type": "code",
   "execution_count": 38,
   "id": "ba88f784",
   "metadata": {},
   "outputs": [
    {
     "data": {
      "text/plain": [
       "1635.4379954780363"
      ]
     },
     "execution_count": 38,
     "metadata": {},
     "output_type": "execute_result"
    }
   ],
   "source": [
    "mean_squared_error(y_test,y_pred)"
   ]
  },
  {
   "cell_type": "markdown",
   "id": "8b38ca9c",
   "metadata": {},
   "source": [
    "- 반복문 잠깐"
   ]
  },
  {
   "cell_type": "code",
   "execution_count": 39,
   "id": "247e45f7",
   "metadata": {},
   "outputs": [
    {
     "name": "stdout",
     "output_type": "stream",
     "text": [
      "3\n",
      "5\n",
      "7\n",
      "9\n",
      "11\n"
     ]
    }
   ],
   "source": [
    "for k in k_values:\n",
    "    print(k)"
   ]
  },
  {
   "cell_type": "code",
   "execution_count": 40,
   "id": "010d001b",
   "metadata": {},
   "outputs": [
    {
     "name": "stdout",
     "output_type": "stream",
     "text": [
      "3\n",
      "5\n",
      "7\n",
      "9\n",
      "11\n"
     ]
    }
   ],
   "source": [
    "for k in k_values:\n",
    "    model_knnr=KNeighborsRegressor(n_neighbors=k)\n",
    "    print(model_knnr.n_neighbors)"
   ]
  },
  {
   "cell_type": "code",
   "execution_count": 41,
   "id": "9efadb5e",
   "metadata": {},
   "outputs": [],
   "source": [
    "scores = {}\n",
    "for k in k_values:\n",
    "    model_knnr=KNeighborsRegressor(n_neighbors=k)\n",
    "    model_knnr.fit(X_train,y_train)\n",
    "    y_pred=model_knnr.predict(X_test)\n",
    "    scores[k] = mean_squared_error(y_test, y_pred)"
   ]
  },
  {
   "cell_type": "code",
   "execution_count": 42,
   "id": "6b99f4c3",
   "metadata": {
    "scrolled": true
   },
   "outputs": [
    {
     "data": {
      "text/plain": [
       "{3: 1635.4379954780363,\n",
       " 5: 2381.520687627907,\n",
       " 7: 2828.8309384907457,\n",
       " 9: 3078.5168532443304,\n",
       " 11: 3154.0245733999623}"
      ]
     },
     "execution_count": 42,
     "metadata": {},
     "output_type": "execute_result"
    }
   ],
   "source": [
    "scores"
   ]
  },
  {
   "cell_type": "markdown",
   "id": "7f0abfc5",
   "metadata": {},
   "source": [
    "Q. 딕셔너리 정렬하시오"
   ]
  },
  {
   "cell_type": "code",
   "execution_count": 44,
   "id": "ec06704d",
   "metadata": {
    "scrolled": true
   },
   "outputs": [
    {
     "data": {
      "text/plain": [
       "(3, 1635.4379954780363)"
      ]
     },
     "execution_count": 44,
     "metadata": {},
     "output_type": "execute_result"
    }
   ],
   "source": [
    "sorted(scores.items(), key=lambda x:x[1])[0]\n",
    "# sorted(scores.items(), key=lambda x:x[1], reverse=True)"
   ]
  },
  {
   "cell_type": "code",
   "execution_count": 74,
   "id": "82eec4e9",
   "metadata": {
    "scrolled": false
   },
   "outputs": [
    {
     "data": {
      "text/plain": [
       "MSE    3\n",
       "dtype: int64"
      ]
     },
     "execution_count": 74,
     "metadata": {},
     "output_type": "execute_result"
    }
   ],
   "source": [
    "pd.DataFrame(index=scores.keys(), data=scores.values(), columns=['MSE']).sort_values(by='MSE').idxmin()"
   ]
  },
  {
   "cell_type": "markdown",
   "id": "950450ac",
   "metadata": {},
   "source": [
    "---"
   ]
  },
  {
   "cell_type": "markdown",
   "id": "719f4cf3",
   "metadata": {},
   "source": [
    "- train과 test가 하나의 데이터셋에서 분리할 경우, k값을 구한다고 하면 문제 빨리 풀기"
   ]
  },
  {
   "cell_type": "code",
   "execution_count": 45,
   "id": "9059c4ce",
   "metadata": {},
   "outputs": [],
   "source": [
    "df_dum=pd.get_dummies(df3)"
   ]
  },
  {
   "cell_type": "code",
   "execution_count": 46,
   "id": "100c7ef1",
   "metadata": {},
   "outputs": [],
   "source": [
    "y=df_dum['sales']\n",
    "X=df_dum.drop(columns='sales').copy()"
   ]
  },
  {
   "cell_type": "code",
   "execution_count": 47,
   "id": "72f7eddc",
   "metadata": {
    "scrolled": false
   },
   "outputs": [
    {
     "data": {
      "text/plain": [
       "{3: 104.86329534883724,\n",
       " 5: 215.63105646511625,\n",
       " 7: 353.60899590412913,\n",
       " 9: 468.67858230261265,\n",
       " 11: 562.001371330002}"
      ]
     },
     "execution_count": 47,
     "metadata": {},
     "output_type": "execute_result"
    }
   ],
   "source": [
    "scores = {}\n",
    "for k in k_values:\n",
    "    model_knnr=KNeighborsRegressor(n_neighbors=k)\n",
    "    model_knnr.fit(X,y)\n",
    "    y_pred=model_knnr.predict(X)\n",
    "    scores[k]=mean_squared_error(y, y_pred)\n",
    "scores"
   ]
  },
  {
   "cell_type": "code",
   "execution_count": 48,
   "id": "a8196881",
   "metadata": {},
   "outputs": [
    {
     "data": {
      "text/plain": [
       "(3, 104.86329534883724)"
      ]
     },
     "execution_count": 48,
     "metadata": {},
     "output_type": "execute_result"
    }
   ],
   "source": [
    "sorted(scores.items(),  key=lambda x:x[1])[0]"
   ]
  }
 ],
 "metadata": {
  "kernelspec": {
   "display_name": "Python 3 (ipykernel)",
   "language": "python",
   "name": "python3"
  },
  "language_info": {
   "codemirror_mode": {
    "name": "ipython",
    "version": 3
   },
   "file_extension": ".py",
   "mimetype": "text/x-python",
   "name": "python",
   "nbconvert_exporter": "python",
   "pygments_lexer": "ipython3",
   "version": "3.9.7"
  },
  "toc": {
   "base_numbering": 1,
   "nav_menu": {},
   "number_sections": true,
   "sideBar": true,
   "skip_h1_title": false,
   "title_cell": "Table of Contents",
   "title_sidebar": "Contents",
   "toc_cell": false,
   "toc_position": {},
   "toc_section_display": true,
   "toc_window_display": false
  }
 },
 "nbformat": 4,
 "nbformat_minor": 5
}
