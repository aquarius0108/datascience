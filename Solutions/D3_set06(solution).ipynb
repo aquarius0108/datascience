{
 "cells": [
  {
   "cell_type": "markdown",
   "metadata": {},
   "source": [
    "> 2번 문제 풀면서 만들어진 df가 3번 문제 풀 때 영향을 미칩니다"
   ]
  },
  {
   "cell_type": "code",
   "execution_count": 29,
   "metadata": {},
   "outputs": [],
   "source": [
    "from sklearn.linear_model import LogisticRegression\n",
    "from sklearn.neighbors import KNeighborsClassifier\n",
    "import pandas as pd\n",
    "df_origin = pd.read_csv(\"../Datasets/edu_enrollees.csv\")"
   ]
  },
  {
   "cell_type": "markdown",
   "metadata": {},
   "source": [
    "삼성전자 임직원의 체계적인 커리어 패스 설계를 위해 데이터 분석과 같은 Hard Skill 역량과 Soft Skill 역량을 조화롭게 함양하기 위해 HRD 부서의 조프로는 전산팀의 협조를 받아 데이터를 확보하였다.  \n",
    "  \n",
    "※ 분석을 수행하기 전, 상기 데이터를 이용하여 아래의 전처리를 수행하시오.  \n",
    "  \n",
    "* 단계 1: 분석에 사용하지 않을 city, company_size, company_type 컬럼을 제거하시오.  \n",
    "* 단계 2: 각 문자형 변수에 결측치(null/empty space)가 하나라도 존재하는 행은 모두 제거하시오.  \n",
    "* 단계 3: experience 변수 값이 ‘>20’ 또는 ‘<1’인 값을 제거하고 experience 컬럼의 타입을 정수형으로 변환하시오.  \n",
    "* 단계 4: last_new_job 변수의 값이 ‘>4’ 또는 ‘never’인 값을 제거하고 해당변수의 타입을 정수형으로 변환하시오.  \n",
    "  \n",
    "전처리 수행 이후 행 개수는 7,522이며 전처리가 완료된 데이터를 base 객체로 지정하고 이를 사용하여 문제를 풀이하시오.  \n",
    "  "
   ]
  },
  {
   "cell_type": "markdown",
   "metadata": {},
   "source": [
    "* 단계 1: 분석에 사용하지 않을 city, company_size, company_type 컬럼을 제거하시오.  "
   ]
  },
  {
   "cell_type": "code",
   "execution_count": 30,
   "metadata": {},
   "outputs": [],
   "source": [
    "df_origin = df_origin.drop([\"city\", \"company_size\", \"company_type\"], axis = 1)"
   ]
  },
  {
   "cell_type": "markdown",
   "metadata": {},
   "source": [
    "* 단계 2: 각 문자형 변수에 결측치(null/empty space)가 하나라도 존재하는 행은 모두 제거하시오.  "
   ]
  },
  {
   "cell_type": "code",
   "execution_count": 31,
   "metadata": {},
   "outputs": [],
   "source": [
    "df_origin = df_origin.dropna()"
   ]
  },
  {
   "cell_type": "markdown",
   "metadata": {},
   "source": [
    "> empty space가 있을 때가 있다!"
   ]
  },
  {
   "cell_type": "code",
   "execution_count": 32,
   "metadata": {},
   "outputs": [
    {
     "data": {
      "text/plain": [
       "enrollee_id               0\n",
       "city_development_index    0\n",
       "gender                    0\n",
       "relevant_experience       0\n",
       "enrolled_university       0\n",
       "education_level           0\n",
       "major_discipline          0\n",
       "experience                0\n",
       "last_new_job              0\n",
       "training_hours            0\n",
       "target                    0\n",
       "Xgrp                      0\n",
       "dtype: int64"
      ]
     },
     "execution_count": 32,
     "metadata": {},
     "output_type": "execute_result"
    }
   ],
   "source": [
    "df_origin.apply(lambda x: x=='').sum(axis=0)"
   ]
  },
  {
   "cell_type": "code",
   "execution_count": 33,
   "metadata": {},
   "outputs": [
    {
     "data": {
      "text/plain": [
       "enrollee_id               0\n",
       "city_development_index    0\n",
       "gender                    0\n",
       "relevant_experience       0\n",
       "enrolled_university       0\n",
       "education_level           0\n",
       "major_discipline          0\n",
       "experience                0\n",
       "last_new_job              0\n",
       "training_hours            0\n",
       "target                    0\n",
       "Xgrp                      0\n",
       "dtype: int64"
      ]
     },
     "execution_count": 33,
     "metadata": {},
     "output_type": "execute_result"
    }
   ],
   "source": [
    "(df_origin=='').sum()"
   ]
  },
  {
   "cell_type": "markdown",
   "metadata": {},
   "source": [
    "* 단계 3: experience 변수 값이 ‘>20’ 또는 ‘<1’인 값을 제거하고 experience 컬럼의 타입을 정수형으로 변환하시오.  "
   ]
  },
  {
   "cell_type": "code",
   "execution_count": 34,
   "metadata": {},
   "outputs": [],
   "source": [
    "df_origin = df_origin.loc[~(df_origin[\"experience\"].isin([\">20\", \"<1\"])), ]"
   ]
  },
  {
   "cell_type": "code",
   "execution_count": 35,
   "metadata": {},
   "outputs": [],
   "source": [
    "df_origin['experience']=df_origin['experience'].astype('int')"
   ]
  },
  {
   "cell_type": "markdown",
   "metadata": {},
   "source": [
    "* 단계 4: last_new_job 변수의 값이 ‘>4’ 또는 ‘never’인 값을 제거하고 해당변수의 타입을 정수형으로 변환하시오.  "
   ]
  },
  {
   "cell_type": "code",
   "execution_count": 36,
   "metadata": {},
   "outputs": [],
   "source": [
    "df_origin = df_origin.loc[~df_origin[\"last_new_job\"].isin([\">4\", \"never\"]), ]\n",
    "df_origin[\"last_new_job\"] = df_origin[\"last_new_job\"].astype(\"int\")"
   ]
  },
  {
   "cell_type": "markdown",
   "metadata": {},
   "source": [
    "  \n",
    "전처리 수행 이후 행 개수는 7,522이며 전처리가 완료된 데이터를 base 객체로 지정하고 이를 사용하여 문제를 풀이하시오.  "
   ]
  },
  {
   "cell_type": "code",
   "execution_count": 37,
   "metadata": {},
   "outputs": [
    {
     "data": {
      "text/plain": [
       "7522"
      ]
     },
     "execution_count": 37,
     "metadata": {},
     "output_type": "execute_result"
    }
   ],
   "source": [
    "len(df_origin)"
   ]
  },
  {
   "cell_type": "markdown",
   "metadata": {},
   "source": [
    "#### Q1. (base를 사용하여)관련 분야 경험 여부(relevant_experience)에 따른 전배 희망 여부(target)를 기술통계량으로 확인하고자 한다. 관련 분야 경험이 없는 수료자 중 전배를 희망하는 수료자의 비율을 A, 관련 분야 경험이 있는 수료자 중 전배를 희망하는 수료자의 비율을 B라 할 때, A/B를 구하시오.\n",
    "※ 관련 경험이 없는 사람은 relevant_experience변수의 값이 ‘No relevant experience’인 사람으로 정의한다.  \n",
    "※ 관련 경험이 있는 사람은 relevant_experience변수의 값이 ‘Has relevant experience’인 사람으로 정의한다.  \n",
    "※ 정답은 반올림하여 소수점 둘째 자리까지 출력하시오.  \n",
    "(정답 예시: 0.12)"
   ]
  },
  {
   "cell_type": "code",
   "execution_count": 38,
   "metadata": {},
   "outputs": [],
   "source": [
    "df = df_origin.copy()"
   ]
  },
  {
   "cell_type": "code",
   "execution_count": 39,
   "metadata": {},
   "outputs": [
    {
     "data": {
      "text/plain": [
       "array(['Has relevant experience', 'No relevant experience'], dtype=object)"
      ]
     },
     "execution_count": 39,
     "metadata": {},
     "output_type": "execute_result"
    }
   ],
   "source": [
    "df[\"relevant_experience\"].unique()"
   ]
  },
  {
   "cell_type": "code",
   "execution_count": 40,
   "metadata": {},
   "outputs": [
    {
     "data": {
      "text/plain": [
       "array([1., 0.])"
      ]
     },
     "execution_count": 40,
     "metadata": {},
     "output_type": "execute_result"
    }
   ],
   "source": [
    "df[\"target\"].unique()"
   ]
  },
  {
   "cell_type": "code",
   "execution_count": 41,
   "metadata": {},
   "outputs": [],
   "source": [
    "df_no  = df.loc[df[\"relevant_experience\"] == \"No relevant experience\"]\n",
    "df_has = df.loc[df[\"relevant_experience\"] == \"Has relevant experience\"]"
   ]
  },
  {
   "cell_type": "code",
   "execution_count": 42,
   "metadata": {},
   "outputs": [
    {
     "data": {
      "text/plain": [
       "0.0    872\n",
       "1.0    541\n",
       "Name: target, dtype: int64"
      ]
     },
     "execution_count": 42,
     "metadata": {},
     "output_type": "execute_result"
    }
   ],
   "source": [
    "df_no[\"target\"].value_counts()"
   ]
  },
  {
   "cell_type": "code",
   "execution_count": 43,
   "metadata": {},
   "outputs": [
    {
     "data": {
      "text/plain": [
       "0.0    0.617127\n",
       "1.0    0.382873\n",
       "Name: target, dtype: float64"
      ]
     },
     "execution_count": 43,
     "metadata": {},
     "output_type": "execute_result"
    }
   ],
   "source": [
    "df_no[\"target\"].value_counts(normalize = True)"
   ]
  },
  {
   "cell_type": "markdown",
   "metadata": {},
   "source": [
    "> 비율을 구하는 거니깐 이렇게 풀면 된다"
   ]
  },
  {
   "cell_type": "code",
   "execution_count": 44,
   "metadata": {},
   "outputs": [
    {
     "data": {
      "text/plain": [
       "0.38287331917905165"
      ]
     },
     "execution_count": 44,
     "metadata": {},
     "output_type": "execute_result"
    }
   ],
   "source": [
    "stat_no = df_no[\"target\"].value_counts(normalize = True)[1]\n",
    "stat_no"
   ]
  },
  {
   "cell_type": "code",
   "execution_count": 45,
   "metadata": {},
   "outputs": [
    {
     "data": {
      "text/plain": [
       "0.21591095105581928"
      ]
     },
     "execution_count": 45,
     "metadata": {},
     "output_type": "execute_result"
    }
   ],
   "source": [
    "stat_has = df_has[\"target\"].value_counts(normalize = True)[1]\n",
    "stat_has"
   ]
  },
  {
   "cell_type": "code",
   "execution_count": 46,
   "metadata": {},
   "outputs": [
    {
     "data": {
      "text/plain": [
       "1.77"
      ]
     },
     "execution_count": 46,
     "metadata": {},
     "output_type": "execute_result"
    }
   ],
   "source": [
    "round(stat_no / stat_has, 2)"
   ]
  },
  {
   "cell_type": "markdown",
   "metadata": {},
   "source": [
    "#### Q2. (base를 사용하여) 전배 희망 여부(target)에 영향을 주는 변수들을 확인하고자 한다. 다음 절차에 따라 로지스틱 회귀분석을 수행하고 질문에 답하시오.\n",
    "* 단계 1: gender, relevant_experience, enrolled_university, education_level, major_discipline 변수로부터 더미 변수들을 생성한다. 단, 각 변수로부터 더미 변수를 생성할 때 마지막으로 등장하는 범주는 제외하도록 한다. (여기서 마지막으로 등장하는 범주란, 각 컬럼의 값을 사전 순으로 나열하였을 때 마지막으로 등장하는 값이다. 예를 들어, ‘col’ 변수의 범주가 \\[‘A’,’C’,’B’,’B’,’C’,’A’\\]의 값을 가진다면 사전 상의 마지막 값인 C가 제외된다)\n",
    "* 단계 2: 단계 1에서 생성한 더미 변수와 city_development_index, experience, last_new_job, training_hours, target, Xgrp 변수를 결합하여 새로운 데이터셋(데이터셋명: job2, 이 데이터셋은 문제 3에서도 활용)을 구성한다. 이 때, target, Xgrp를 제외한 데이터셋의 컬럼은 아래 순서에 따르도록 한다.  \n",
    "\\- city_development_index  \n",
    "\\- experience  \n",
    "\\- last_new_job  \n",
    "\\- training_hours  \n",
    "\\- gender의 더미 변수  \n",
    "\\- relevant_experience의 더미 변수  \n",
    "\\- enrolled_university의 더미 변수  \n",
    "\\- education_level의 더미 변수  \n",
    "\\- major_discipline의 더미 변수  \n",
    "\n",
    "* 단계 3. 단계 2에서 구성한 데이터셋 job2로 다음 조건에 따라 상수항(Intercept)이 포함된 로지스틱 회귀분석을 수행한다.  \n",
    "\\- 종속 변수 : target  \n",
    "\\- 독립 변수(총 16개) : target과 Xgrp를 제외한 나머지 변수  \n",
    "\\- 회귀식에 포함되는 독립 변수의 순서를 컬럼의 순서와 일치시킨다.  \n",
    "\n",
    "상수항을 제외한 나머지 변수들에 대한 Odds Ratio중 가장 큰 값을 기술하시오.  \n",
    "\n",
    "$$ x_i 의\\: Odds Ratio = \\frac{odds(P(Y=1|x_1,\\: \\dots, \\: x_i + 1,\\: \\dots ,\\: x_n))}{odds(P(Y=1|x_1,\\: \\dots ,\\:  x_i,\\: \\dots ,\\: x_n)} $$\n",
    "\n",
    "※ LogisticRegression() 클래스의 인자 C는 100000으로 지정하시오.  \n",
    "※ LogisticRegression() 클래스의 인자 random_state는 123으로 지정하시오.  \n",
    "※ 정답은 소수점 셋째 자리에서 버림하여 둘째 자리까지 출력하시오.  \n",
    "(정답 예시: 0.123)"
   ]
  },
  {
   "cell_type": "markdown",
   "metadata": {},
   "source": [
    "---"
   ]
  },
  {
   "cell_type": "code",
   "execution_count": 47,
   "metadata": {},
   "outputs": [],
   "source": [
    "df=df_origin.copy()"
   ]
  },
  {
   "cell_type": "markdown",
   "metadata": {},
   "source": [
    "※ LogisticRegression() 클래스의 인자 C는 100000, solver='liblinear', max_iter=1000  으로 지정하시오.  \n",
    "※ LogisticRegression() 클래스의 인자 random_state는 123으로 지정하시오.  "
   ]
  },
  {
   "cell_type": "markdown",
   "metadata": {},
   "source": [
    "### params"
   ]
  },
  {
   "cell_type": "code",
   "execution_count": 48,
   "metadata": {},
   "outputs": [],
   "source": [
    "C = 100_000\n",
    "random_state = 123\n",
    "solver='liblinear'\n",
    "max_iter=1000"
   ]
  },
  {
   "cell_type": "markdown",
   "metadata": {},
   "source": [
    "* 단계 1: gender, relevant_experience, enrolled_university, education_level, major_discipline 변수로부터 더미 변수들을 생성한다. 단, 각 변수로부터 더미 변수를 생성할 때 마지막으로 등장하는 범주는 제외하도록 한다. (여기서 마지막으로 등장하는 범주란, 각 컬럼의 값을 사전 순으로 나열하였을 때 마지막으로 등장하는 값이다. 예를 들어, ‘col’ 변수의 범주가 \\[‘A’,’C’,’B’,’B’,’C’,’A’\\]의 값을 가진다면 사전 상의 마지막 값인 C가 제외된다)"
   ]
  },
  {
   "cell_type": "code",
   "execution_count": 49,
   "metadata": {},
   "outputs": [
    {
     "data": {
      "text/html": [
       "<div>\n",
       "<style scoped>\n",
       "    .dataframe tbody tr th:only-of-type {\n",
       "        vertical-align: middle;\n",
       "    }\n",
       "\n",
       "    .dataframe tbody tr th {\n",
       "        vertical-align: top;\n",
       "    }\n",
       "\n",
       "    .dataframe thead th {\n",
       "        text-align: right;\n",
       "    }\n",
       "</style>\n",
       "<table border=\"1\" class=\"dataframe\">\n",
       "  <thead>\n",
       "    <tr style=\"text-align: right;\">\n",
       "      <th></th>\n",
       "      <th>aa_A</th>\n",
       "      <th>aa_C</th>\n",
       "      <th>aa_D</th>\n",
       "      <th>aa_a</th>\n",
       "    </tr>\n",
       "  </thead>\n",
       "  <tbody>\n",
       "    <tr>\n",
       "      <th>0</th>\n",
       "      <td>0</td>\n",
       "      <td>0</td>\n",
       "      <td>0</td>\n",
       "      <td>1</td>\n",
       "    </tr>\n",
       "    <tr>\n",
       "      <th>1</th>\n",
       "      <td>1</td>\n",
       "      <td>0</td>\n",
       "      <td>0</td>\n",
       "      <td>0</td>\n",
       "    </tr>\n",
       "    <tr>\n",
       "      <th>2</th>\n",
       "      <td>0</td>\n",
       "      <td>1</td>\n",
       "      <td>0</td>\n",
       "      <td>0</td>\n",
       "    </tr>\n",
       "    <tr>\n",
       "      <th>3</th>\n",
       "      <td>0</td>\n",
       "      <td>0</td>\n",
       "      <td>1</td>\n",
       "      <td>0</td>\n",
       "    </tr>\n",
       "  </tbody>\n",
       "</table>\n",
       "</div>"
      ],
      "text/plain": [
       "   aa_A  aa_C  aa_D  aa_a\n",
       "0     0     0     0     1\n",
       "1     1     0     0     0\n",
       "2     0     1     0     0\n",
       "3     0     0     1     0"
      ]
     },
     "execution_count": 49,
     "metadata": {},
     "output_type": "execute_result"
    }
   ],
   "source": [
    "df_t = pd.DataFrame(dict(aa = [\"a\", \"A\", \"C\", \"D\"]))\n",
    "pd.get_dummies(df_t)"
   ]
  },
  {
   "cell_type": "markdown",
   "metadata": {},
   "source": [
    "> aa_a를 삭제하란 말이네"
   ]
  },
  {
   "cell_type": "code",
   "execution_count": 50,
   "metadata": {},
   "outputs": [],
   "source": [
    "df_cat = df[[\"gender\", \"relevant_experience\", \"enrolled_university\", \"education_level\", \"major_discipline\"]]\n",
    "df_cat_dum = pd.get_dummies(df_cat)"
   ]
  },
  {
   "cell_type": "code",
   "execution_count": 51,
   "metadata": {},
   "outputs": [
    {
     "data": {
      "text/html": [
       "<div>\n",
       "<style scoped>\n",
       "    .dataframe tbody tr th:only-of-type {\n",
       "        vertical-align: middle;\n",
       "    }\n",
       "\n",
       "    .dataframe tbody tr th {\n",
       "        vertical-align: top;\n",
       "    }\n",
       "\n",
       "    .dataframe thead th {\n",
       "        text-align: right;\n",
       "    }\n",
       "</style>\n",
       "<table border=\"1\" class=\"dataframe\">\n",
       "  <thead>\n",
       "    <tr style=\"text-align: right;\">\n",
       "      <th></th>\n",
       "      <th>gender_Female</th>\n",
       "      <th>gender_Male</th>\n",
       "      <th>gender_Other</th>\n",
       "      <th>relevant_experience_Has relevant experience</th>\n",
       "      <th>relevant_experience_No relevant experience</th>\n",
       "      <th>enrolled_university_Full time course</th>\n",
       "      <th>enrolled_university_Part time course</th>\n",
       "      <th>enrolled_university_no_enrollment</th>\n",
       "      <th>education_level_Graduate</th>\n",
       "      <th>education_level_Masters</th>\n",
       "      <th>education_level_Phd</th>\n",
       "      <th>major_discipline_Arts</th>\n",
       "      <th>major_discipline_Business Degree</th>\n",
       "      <th>major_discipline_Humanities</th>\n",
       "      <th>major_discipline_No Major</th>\n",
       "      <th>major_discipline_Other</th>\n",
       "      <th>major_discipline_STEM</th>\n",
       "    </tr>\n",
       "  </thead>\n",
       "  <tbody>\n",
       "    <tr>\n",
       "      <th>8</th>\n",
       "      <td>0</td>\n",
       "      <td>1</td>\n",
       "      <td>0</td>\n",
       "      <td>1</td>\n",
       "      <td>0</td>\n",
       "      <td>0</td>\n",
       "      <td>0</td>\n",
       "      <td>1</td>\n",
       "      <td>1</td>\n",
       "      <td>0</td>\n",
       "      <td>0</td>\n",
       "      <td>0</td>\n",
       "      <td>0</td>\n",
       "      <td>0</td>\n",
       "      <td>0</td>\n",
       "      <td>0</td>\n",
       "      <td>1</td>\n",
       "    </tr>\n",
       "    <tr>\n",
       "      <th>11</th>\n",
       "      <td>0</td>\n",
       "      <td>1</td>\n",
       "      <td>0</td>\n",
       "      <td>1</td>\n",
       "      <td>0</td>\n",
       "      <td>0</td>\n",
       "      <td>0</td>\n",
       "      <td>1</td>\n",
       "      <td>1</td>\n",
       "      <td>0</td>\n",
       "      <td>0</td>\n",
       "      <td>0</td>\n",
       "      <td>0</td>\n",
       "      <td>0</td>\n",
       "      <td>0</td>\n",
       "      <td>0</td>\n",
       "      <td>1</td>\n",
       "    </tr>\n",
       "    <tr>\n",
       "      <th>19</th>\n",
       "      <td>1</td>\n",
       "      <td>0</td>\n",
       "      <td>0</td>\n",
       "      <td>1</td>\n",
       "      <td>0</td>\n",
       "      <td>0</td>\n",
       "      <td>0</td>\n",
       "      <td>1</td>\n",
       "      <td>1</td>\n",
       "      <td>0</td>\n",
       "      <td>0</td>\n",
       "      <td>1</td>\n",
       "      <td>0</td>\n",
       "      <td>0</td>\n",
       "      <td>0</td>\n",
       "      <td>0</td>\n",
       "      <td>0</td>\n",
       "    </tr>\n",
       "    <tr>\n",
       "      <th>20</th>\n",
       "      <td>0</td>\n",
       "      <td>1</td>\n",
       "      <td>0</td>\n",
       "      <td>1</td>\n",
       "      <td>0</td>\n",
       "      <td>0</td>\n",
       "      <td>0</td>\n",
       "      <td>1</td>\n",
       "      <td>0</td>\n",
       "      <td>1</td>\n",
       "      <td>0</td>\n",
       "      <td>0</td>\n",
       "      <td>0</td>\n",
       "      <td>0</td>\n",
       "      <td>0</td>\n",
       "      <td>0</td>\n",
       "      <td>1</td>\n",
       "    </tr>\n",
       "    <tr>\n",
       "      <th>21</th>\n",
       "      <td>0</td>\n",
       "      <td>1</td>\n",
       "      <td>0</td>\n",
       "      <td>1</td>\n",
       "      <td>0</td>\n",
       "      <td>0</td>\n",
       "      <td>0</td>\n",
       "      <td>1</td>\n",
       "      <td>0</td>\n",
       "      <td>1</td>\n",
       "      <td>0</td>\n",
       "      <td>0</td>\n",
       "      <td>0</td>\n",
       "      <td>0</td>\n",
       "      <td>0</td>\n",
       "      <td>0</td>\n",
       "      <td>1</td>\n",
       "    </tr>\n",
       "    <tr>\n",
       "      <th>...</th>\n",
       "      <td>...</td>\n",
       "      <td>...</td>\n",
       "      <td>...</td>\n",
       "      <td>...</td>\n",
       "      <td>...</td>\n",
       "      <td>...</td>\n",
       "      <td>...</td>\n",
       "      <td>...</td>\n",
       "      <td>...</td>\n",
       "      <td>...</td>\n",
       "      <td>...</td>\n",
       "      <td>...</td>\n",
       "      <td>...</td>\n",
       "      <td>...</td>\n",
       "      <td>...</td>\n",
       "      <td>...</td>\n",
       "      <td>...</td>\n",
       "    </tr>\n",
       "    <tr>\n",
       "      <th>19149</th>\n",
       "      <td>0</td>\n",
       "      <td>1</td>\n",
       "      <td>0</td>\n",
       "      <td>1</td>\n",
       "      <td>0</td>\n",
       "      <td>0</td>\n",
       "      <td>0</td>\n",
       "      <td>1</td>\n",
       "      <td>0</td>\n",
       "      <td>1</td>\n",
       "      <td>0</td>\n",
       "      <td>0</td>\n",
       "      <td>0</td>\n",
       "      <td>0</td>\n",
       "      <td>0</td>\n",
       "      <td>0</td>\n",
       "      <td>1</td>\n",
       "    </tr>\n",
       "    <tr>\n",
       "      <th>19150</th>\n",
       "      <td>1</td>\n",
       "      <td>0</td>\n",
       "      <td>0</td>\n",
       "      <td>1</td>\n",
       "      <td>0</td>\n",
       "      <td>0</td>\n",
       "      <td>0</td>\n",
       "      <td>1</td>\n",
       "      <td>1</td>\n",
       "      <td>0</td>\n",
       "      <td>0</td>\n",
       "      <td>0</td>\n",
       "      <td>0</td>\n",
       "      <td>0</td>\n",
       "      <td>0</td>\n",
       "      <td>0</td>\n",
       "      <td>1</td>\n",
       "    </tr>\n",
       "    <tr>\n",
       "      <th>19152</th>\n",
       "      <td>1</td>\n",
       "      <td>0</td>\n",
       "      <td>0</td>\n",
       "      <td>1</td>\n",
       "      <td>0</td>\n",
       "      <td>0</td>\n",
       "      <td>0</td>\n",
       "      <td>1</td>\n",
       "      <td>1</td>\n",
       "      <td>0</td>\n",
       "      <td>0</td>\n",
       "      <td>0</td>\n",
       "      <td>0</td>\n",
       "      <td>1</td>\n",
       "      <td>0</td>\n",
       "      <td>0</td>\n",
       "      <td>0</td>\n",
       "    </tr>\n",
       "    <tr>\n",
       "      <th>19153</th>\n",
       "      <td>0</td>\n",
       "      <td>1</td>\n",
       "      <td>0</td>\n",
       "      <td>0</td>\n",
       "      <td>1</td>\n",
       "      <td>0</td>\n",
       "      <td>0</td>\n",
       "      <td>1</td>\n",
       "      <td>1</td>\n",
       "      <td>0</td>\n",
       "      <td>0</td>\n",
       "      <td>0</td>\n",
       "      <td>0</td>\n",
       "      <td>1</td>\n",
       "      <td>0</td>\n",
       "      <td>0</td>\n",
       "      <td>0</td>\n",
       "    </tr>\n",
       "    <tr>\n",
       "      <th>19154</th>\n",
       "      <td>0</td>\n",
       "      <td>1</td>\n",
       "      <td>0</td>\n",
       "      <td>1</td>\n",
       "      <td>0</td>\n",
       "      <td>0</td>\n",
       "      <td>0</td>\n",
       "      <td>1</td>\n",
       "      <td>1</td>\n",
       "      <td>0</td>\n",
       "      <td>0</td>\n",
       "      <td>0</td>\n",
       "      <td>0</td>\n",
       "      <td>0</td>\n",
       "      <td>0</td>\n",
       "      <td>0</td>\n",
       "      <td>1</td>\n",
       "    </tr>\n",
       "  </tbody>\n",
       "</table>\n",
       "<p>7522 rows × 17 columns</p>\n",
       "</div>"
      ],
      "text/plain": [
       "       gender_Female  gender_Male  gender_Other  \\\n",
       "8                  0            1             0   \n",
       "11                 0            1             0   \n",
       "19                 1            0             0   \n",
       "20                 0            1             0   \n",
       "21                 0            1             0   \n",
       "...              ...          ...           ...   \n",
       "19149              0            1             0   \n",
       "19150              1            0             0   \n",
       "19152              1            0             0   \n",
       "19153              0            1             0   \n",
       "19154              0            1             0   \n",
       "\n",
       "       relevant_experience_Has relevant experience  \\\n",
       "8                                                1   \n",
       "11                                               1   \n",
       "19                                               1   \n",
       "20                                               1   \n",
       "21                                               1   \n",
       "...                                            ...   \n",
       "19149                                            1   \n",
       "19150                                            1   \n",
       "19152                                            1   \n",
       "19153                                            0   \n",
       "19154                                            1   \n",
       "\n",
       "       relevant_experience_No relevant experience  \\\n",
       "8                                               0   \n",
       "11                                              0   \n",
       "19                                              0   \n",
       "20                                              0   \n",
       "21                                              0   \n",
       "...                                           ...   \n",
       "19149                                           0   \n",
       "19150                                           0   \n",
       "19152                                           0   \n",
       "19153                                           1   \n",
       "19154                                           0   \n",
       "\n",
       "       enrolled_university_Full time course  \\\n",
       "8                                         0   \n",
       "11                                        0   \n",
       "19                                        0   \n",
       "20                                        0   \n",
       "21                                        0   \n",
       "...                                     ...   \n",
       "19149                                     0   \n",
       "19150                                     0   \n",
       "19152                                     0   \n",
       "19153                                     0   \n",
       "19154                                     0   \n",
       "\n",
       "       enrolled_university_Part time course  \\\n",
       "8                                         0   \n",
       "11                                        0   \n",
       "19                                        0   \n",
       "20                                        0   \n",
       "21                                        0   \n",
       "...                                     ...   \n",
       "19149                                     0   \n",
       "19150                                     0   \n",
       "19152                                     0   \n",
       "19153                                     0   \n",
       "19154                                     0   \n",
       "\n",
       "       enrolled_university_no_enrollment  education_level_Graduate  \\\n",
       "8                                      1                         1   \n",
       "11                                     1                         1   \n",
       "19                                     1                         1   \n",
       "20                                     1                         0   \n",
       "21                                     1                         0   \n",
       "...                                  ...                       ...   \n",
       "19149                                  1                         0   \n",
       "19150                                  1                         1   \n",
       "19152                                  1                         1   \n",
       "19153                                  1                         1   \n",
       "19154                                  1                         1   \n",
       "\n",
       "       education_level_Masters  education_level_Phd  major_discipline_Arts  \\\n",
       "8                            0                    0                      0   \n",
       "11                           0                    0                      0   \n",
       "19                           0                    0                      1   \n",
       "20                           1                    0                      0   \n",
       "21                           1                    0                      0   \n",
       "...                        ...                  ...                    ...   \n",
       "19149                        1                    0                      0   \n",
       "19150                        0                    0                      0   \n",
       "19152                        0                    0                      0   \n",
       "19153                        0                    0                      0   \n",
       "19154                        0                    0                      0   \n",
       "\n",
       "       major_discipline_Business Degree  major_discipline_Humanities  \\\n",
       "8                                     0                            0   \n",
       "11                                    0                            0   \n",
       "19                                    0                            0   \n",
       "20                                    0                            0   \n",
       "21                                    0                            0   \n",
       "...                                 ...                          ...   \n",
       "19149                                 0                            0   \n",
       "19150                                 0                            0   \n",
       "19152                                 0                            1   \n",
       "19153                                 0                            1   \n",
       "19154                                 0                            0   \n",
       "\n",
       "       major_discipline_No Major  major_discipline_Other  \\\n",
       "8                              0                       0   \n",
       "11                             0                       0   \n",
       "19                             0                       0   \n",
       "20                             0                       0   \n",
       "21                             0                       0   \n",
       "...                          ...                     ...   \n",
       "19149                          0                       0   \n",
       "19150                          0                       0   \n",
       "19152                          0                       0   \n",
       "19153                          0                       0   \n",
       "19154                          0                       0   \n",
       "\n",
       "       major_discipline_STEM  \n",
       "8                          1  \n",
       "11                         1  \n",
       "19                         0  \n",
       "20                         1  \n",
       "21                         1  \n",
       "...                      ...  \n",
       "19149                      1  \n",
       "19150                      1  \n",
       "19152                      0  \n",
       "19153                      0  \n",
       "19154                      1  \n",
       "\n",
       "[7522 rows x 17 columns]"
      ]
     },
     "execution_count": 51,
     "metadata": {},
     "output_type": "execute_result"
    }
   ],
   "source": [
    "df_cat_dum"
   ]
  },
  {
   "cell_type": "code",
   "execution_count": 52,
   "metadata": {},
   "outputs": [
    {
     "data": {
      "text/html": [
       "<div>\n",
       "<style scoped>\n",
       "    .dataframe tbody tr th:only-of-type {\n",
       "        vertical-align: middle;\n",
       "    }\n",
       "\n",
       "    .dataframe tbody tr th {\n",
       "        vertical-align: top;\n",
       "    }\n",
       "\n",
       "    .dataframe thead th {\n",
       "        text-align: right;\n",
       "    }\n",
       "</style>\n",
       "<table border=\"1\" class=\"dataframe\">\n",
       "  <thead>\n",
       "    <tr style=\"text-align: right;\">\n",
       "      <th></th>\n",
       "      <th>gender_Female</th>\n",
       "      <th>gender_Male</th>\n",
       "      <th>relevant_experience_Has relevant experience</th>\n",
       "      <th>enrolled_university_Full time course</th>\n",
       "      <th>enrolled_university_Part time course</th>\n",
       "      <th>education_level_Graduate</th>\n",
       "      <th>education_level_Masters</th>\n",
       "      <th>major_discipline_Arts</th>\n",
       "      <th>major_discipline_Business Degree</th>\n",
       "      <th>major_discipline_Humanities</th>\n",
       "      <th>major_discipline_No Major</th>\n",
       "      <th>major_discipline_Other</th>\n",
       "    </tr>\n",
       "  </thead>\n",
       "  <tbody>\n",
       "    <tr>\n",
       "      <th>8</th>\n",
       "      <td>0</td>\n",
       "      <td>1</td>\n",
       "      <td>1</td>\n",
       "      <td>0</td>\n",
       "      <td>0</td>\n",
       "      <td>1</td>\n",
       "      <td>0</td>\n",
       "      <td>0</td>\n",
       "      <td>0</td>\n",
       "      <td>0</td>\n",
       "      <td>0</td>\n",
       "      <td>0</td>\n",
       "    </tr>\n",
       "  </tbody>\n",
       "</table>\n",
       "</div>"
      ],
      "text/plain": [
       "   gender_Female  gender_Male  relevant_experience_Has relevant experience  \\\n",
       "8              0            1                                            1   \n",
       "\n",
       "   enrolled_university_Full time course  enrolled_university_Part time course  \\\n",
       "8                                     0                                     0   \n",
       "\n",
       "   education_level_Graduate  education_level_Masters  major_discipline_Arts  \\\n",
       "8                         1                        0                      0   \n",
       "\n",
       "   major_discipline_Business Degree  major_discipline_Humanities  \\\n",
       "8                                 0                            0   \n",
       "\n",
       "   major_discipline_No Major  major_discipline_Other  \n",
       "8                          0                       0  "
      ]
     },
     "execution_count": 52,
     "metadata": {},
     "output_type": "execute_result"
    }
   ],
   "source": [
    "df_cat_dum = df_cat_dum.drop([\"gender_Other\", \"relevant_experience_No relevant experience\", \n",
    "                              \"enrolled_university_no_enrollment\", \"education_level_Phd\",\n",
    "                              \"major_discipline_STEM\"],\n",
    "                             axis = 1)\n",
    "df_cat_dum.head(1)"
   ]
  },
  {
   "cell_type": "markdown",
   "metadata": {},
   "source": [
    ">  각 범주의 unique 구해서 하나씩 저장해서 컬럼에서 빼도 되겠지만 몇 개 안되니깐 빨리 풀고 싶으면 직접 입력"
   ]
  },
  {
   "cell_type": "code",
   "execution_count": 53,
   "metadata": {},
   "outputs": [],
   "source": [
    "col_cat=df_cat.columns"
   ]
  },
  {
   "cell_type": "code",
   "execution_count": 54,
   "metadata": {},
   "outputs": [
    {
     "name": "stdout",
     "output_type": "stream",
     "text": [
      "gender\n",
      "relevant_experience\n",
      "enrolled_university\n",
      "education_level\n",
      "major_discipline\n"
     ]
    }
   ],
   "source": [
    "col_drop = []\n",
    "for cat in col_cat:\n",
    "    print(cat)\n",
    "    drop_cal =cat+'_'+df_cat[cat].unique()[-1]\n",
    "    col_drop = col_drop + [drop_cal]"
   ]
  },
  {
   "cell_type": "code",
   "execution_count": 55,
   "metadata": {},
   "outputs": [
    {
     "data": {
      "text/plain": [
       "['gender_Other',\n",
       " 'relevant_experience_No relevant experience',\n",
       " 'enrolled_university_Part time course',\n",
       " 'education_level_Phd',\n",
       " 'major_discipline_No Major']"
      ]
     },
     "execution_count": 55,
     "metadata": {},
     "output_type": "execute_result"
    }
   ],
   "source": [
    "col_drop"
   ]
  },
  {
   "cell_type": "code",
   "execution_count": 57,
   "metadata": {},
   "outputs": [],
   "source": [
    "# df_cat_dum.drop(columns=col_drop)"
   ]
  },
  {
   "cell_type": "markdown",
   "metadata": {},
   "source": [
    "* 단계 2: 단계 1에서 생성한 더미 변수와 city_development_index, experience, last_new_job, training_hours, target, Xgrp 변수를 결합하여 새로운 데이터셋(데이터셋명: job2, 이 데이터셋은 문제 3에서도 활용)을 구성한다. 이 때, target, Xgrp를 제외한 데이터셋의 컬럼은 아래 순서에 따르도록 한다.  \n",
    "\\- city_development_index  \n",
    "\\- experience  \n",
    "\\- last_new_job  \n",
    "\\- training_hours  \n",
    "\\- gender의 더미 변수  \n",
    "\\- relevant_experience의 더미 변수  \n",
    "\\- enrolled_university의 더미 변수  \n",
    "\\- education_level의 더미 변수  \n",
    "\\- major_discipline의 더미 변수  "
   ]
  },
  {
   "cell_type": "code",
   "execution_count": 58,
   "metadata": {},
   "outputs": [],
   "source": [
    "col_select = [\"training_hours\",\"experience\",\"last_new_job\",\"city_development_index\", \"target\", \"Xgrp\"]\n",
    "df_job2 = pd.concat([df[col_select],\n",
    "                     df_cat_dum],\n",
    "                    axis = 1)"
   ]
  },
  {
   "cell_type": "markdown",
   "metadata": {},
   "source": [
    "* 단계 3. 단계 2에서 구성한 데이터셋 job2로 다음 조건에 따라 상수항(Intercept)이 포함된 로지스틱 회귀분석을 수행한다.  \n",
    "\\- 종속 변수 : target  \n",
    "\\- 독립 변수(총 16개) : target과 Xgrp를 제외한 나머지 변수  \n",
    "\\- 회귀식에 포함되는 독립 변수의 순서를 컬럼의 순서와 일치시킨다.  \n",
    "\n",
    "상수항을 제외한 나머지 변수들에 대한 Odds Ratio중 가장 큰 값을 기술하시오.  \n",
    "\n",
    "$$ x_i 의\\: Odds Ratio = \\frac{odds(P(Y=1|x_1,\\: \\dots, \\: x_i + 1,\\: \\dots ,\\: x_n))}{odds(P(Y=1|x_1,\\: \\dots ,\\:  x_i,\\: \\dots ,\\: x_n)} $$\n",
    "\n",
    "\n",
    "※ 정답은 소수점 셋째 자리에서 버림하여 둘째 자리까지 출력하시오.  \n",
    "(정답 예시: 0.123)"
   ]
  },
  {
   "cell_type": "code",
   "execution_count": 59,
   "metadata": {
    "scrolled": true
   },
   "outputs": [
    {
     "data": {
      "text/plain": [
       "(7522, 18)"
      ]
     },
     "execution_count": 59,
     "metadata": {},
     "output_type": "execute_result"
    }
   ],
   "source": [
    "df_job2.shape"
   ]
  },
  {
   "cell_type": "code",
   "execution_count": 60,
   "metadata": {},
   "outputs": [
    {
     "data": {
      "text/html": [
       "<div>\n",
       "<style scoped>\n",
       "    .dataframe tbody tr th:only-of-type {\n",
       "        vertical-align: middle;\n",
       "    }\n",
       "\n",
       "    .dataframe tbody tr th {\n",
       "        vertical-align: top;\n",
       "    }\n",
       "\n",
       "    .dataframe thead th {\n",
       "        text-align: right;\n",
       "    }\n",
       "</style>\n",
       "<table border=\"1\" class=\"dataframe\">\n",
       "  <thead>\n",
       "    <tr style=\"text-align: right;\">\n",
       "      <th></th>\n",
       "      <th>training_hours</th>\n",
       "      <th>experience</th>\n",
       "      <th>last_new_job</th>\n",
       "      <th>city_development_index</th>\n",
       "      <th>target</th>\n",
       "      <th>Xgrp</th>\n",
       "      <th>gender_Female</th>\n",
       "      <th>gender_Male</th>\n",
       "      <th>relevant_experience_Has relevant experience</th>\n",
       "      <th>enrolled_university_Full time course</th>\n",
       "      <th>enrolled_university_Part time course</th>\n",
       "      <th>education_level_Graduate</th>\n",
       "      <th>education_level_Masters</th>\n",
       "      <th>major_discipline_Arts</th>\n",
       "      <th>major_discipline_Business Degree</th>\n",
       "      <th>major_discipline_Humanities</th>\n",
       "      <th>major_discipline_No Major</th>\n",
       "      <th>major_discipline_Other</th>\n",
       "    </tr>\n",
       "  </thead>\n",
       "  <tbody>\n",
       "    <tr>\n",
       "      <th>8</th>\n",
       "      <td>46.0</td>\n",
       "      <td>7</td>\n",
       "      <td>1</td>\n",
       "      <td>0.92</td>\n",
       "      <td>1.0</td>\n",
       "      <td>train</td>\n",
       "      <td>0</td>\n",
       "      <td>1</td>\n",
       "      <td>1</td>\n",
       "      <td>0</td>\n",
       "      <td>0</td>\n",
       "      <td>1</td>\n",
       "      <td>0</td>\n",
       "      <td>0</td>\n",
       "      <td>0</td>\n",
       "      <td>0</td>\n",
       "      <td>0</td>\n",
       "      <td>0</td>\n",
       "    </tr>\n",
       "  </tbody>\n",
       "</table>\n",
       "</div>"
      ],
      "text/plain": [
       "   training_hours  experience  last_new_job  city_development_index  target  \\\n",
       "8            46.0           7             1                    0.92     1.0   \n",
       "\n",
       "    Xgrp  gender_Female  gender_Male  \\\n",
       "8  train              0            1   \n",
       "\n",
       "   relevant_experience_Has relevant experience  \\\n",
       "8                                            1   \n",
       "\n",
       "   enrolled_university_Full time course  enrolled_university_Part time course  \\\n",
       "8                                     0                                     0   \n",
       "\n",
       "   education_level_Graduate  education_level_Masters  major_discipline_Arts  \\\n",
       "8                         1                        0                      0   \n",
       "\n",
       "   major_discipline_Business Degree  major_discipline_Humanities  \\\n",
       "8                                 0                            0   \n",
       "\n",
       "   major_discipline_No Major  major_discipline_Other  \n",
       "8                          0                       0  "
      ]
     },
     "execution_count": 60,
     "metadata": {},
     "output_type": "execute_result"
    }
   ],
   "source": [
    "df_job2.head(1)"
   ]
  },
  {
   "cell_type": "code",
   "execution_count": 61,
   "metadata": {},
   "outputs": [],
   "source": [
    "model_lr = LogisticRegression(C=C, random_state=random_state, max_iter=max_iter, solver=solver)"
   ]
  },
  {
   "cell_type": "code",
   "execution_count": 62,
   "metadata": {},
   "outputs": [],
   "source": [
    "X = df_job2.drop('Xgrp', axis=1)"
   ]
  },
  {
   "cell_type": "code",
   "execution_count": 63,
   "metadata": {},
   "outputs": [],
   "source": [
    "y = X.pop('target')"
   ]
  },
  {
   "cell_type": "code",
   "execution_count": 64,
   "metadata": {
    "scrolled": true
   },
   "outputs": [
    {
     "data": {
      "text/html": [
       "<style>#sk-container-id-1 {color: black;background-color: white;}#sk-container-id-1 pre{padding: 0;}#sk-container-id-1 div.sk-toggleable {background-color: white;}#sk-container-id-1 label.sk-toggleable__label {cursor: pointer;display: block;width: 100%;margin-bottom: 0;padding: 0.3em;box-sizing: border-box;text-align: center;}#sk-container-id-1 label.sk-toggleable__label-arrow:before {content: \"▸\";float: left;margin-right: 0.25em;color: #696969;}#sk-container-id-1 label.sk-toggleable__label-arrow:hover:before {color: black;}#sk-container-id-1 div.sk-estimator:hover label.sk-toggleable__label-arrow:before {color: black;}#sk-container-id-1 div.sk-toggleable__content {max-height: 0;max-width: 0;overflow: hidden;text-align: left;background-color: #f0f8ff;}#sk-container-id-1 div.sk-toggleable__content pre {margin: 0.2em;color: black;border-radius: 0.25em;background-color: #f0f8ff;}#sk-container-id-1 input.sk-toggleable__control:checked~div.sk-toggleable__content {max-height: 200px;max-width: 100%;overflow: auto;}#sk-container-id-1 input.sk-toggleable__control:checked~label.sk-toggleable__label-arrow:before {content: \"▾\";}#sk-container-id-1 div.sk-estimator input.sk-toggleable__control:checked~label.sk-toggleable__label {background-color: #d4ebff;}#sk-container-id-1 div.sk-label input.sk-toggleable__control:checked~label.sk-toggleable__label {background-color: #d4ebff;}#sk-container-id-1 input.sk-hidden--visually {border: 0;clip: rect(1px 1px 1px 1px);clip: rect(1px, 1px, 1px, 1px);height: 1px;margin: -1px;overflow: hidden;padding: 0;position: absolute;width: 1px;}#sk-container-id-1 div.sk-estimator {font-family: monospace;background-color: #f0f8ff;border: 1px dotted black;border-radius: 0.25em;box-sizing: border-box;margin-bottom: 0.5em;}#sk-container-id-1 div.sk-estimator:hover {background-color: #d4ebff;}#sk-container-id-1 div.sk-parallel-item::after {content: \"\";width: 100%;border-bottom: 1px solid gray;flex-grow: 1;}#sk-container-id-1 div.sk-label:hover label.sk-toggleable__label {background-color: #d4ebff;}#sk-container-id-1 div.sk-serial::before {content: \"\";position: absolute;border-left: 1px solid gray;box-sizing: border-box;top: 0;bottom: 0;left: 50%;z-index: 0;}#sk-container-id-1 div.sk-serial {display: flex;flex-direction: column;align-items: center;background-color: white;padding-right: 0.2em;padding-left: 0.2em;position: relative;}#sk-container-id-1 div.sk-item {position: relative;z-index: 1;}#sk-container-id-1 div.sk-parallel {display: flex;align-items: stretch;justify-content: center;background-color: white;position: relative;}#sk-container-id-1 div.sk-item::before, #sk-container-id-1 div.sk-parallel-item::before {content: \"\";position: absolute;border-left: 1px solid gray;box-sizing: border-box;top: 0;bottom: 0;left: 50%;z-index: -1;}#sk-container-id-1 div.sk-parallel-item {display: flex;flex-direction: column;z-index: 1;position: relative;background-color: white;}#sk-container-id-1 div.sk-parallel-item:first-child::after {align-self: flex-end;width: 50%;}#sk-container-id-1 div.sk-parallel-item:last-child::after {align-self: flex-start;width: 50%;}#sk-container-id-1 div.sk-parallel-item:only-child::after {width: 0;}#sk-container-id-1 div.sk-dashed-wrapped {border: 1px dashed gray;margin: 0 0.4em 0.5em 0.4em;box-sizing: border-box;padding-bottom: 0.4em;background-color: white;}#sk-container-id-1 div.sk-label label {font-family: monospace;font-weight: bold;display: inline-block;line-height: 1.2em;}#sk-container-id-1 div.sk-label-container {text-align: center;}#sk-container-id-1 div.sk-container {/* jupyter's `normalize.less` sets `[hidden] { display: none; }` but bootstrap.min.css set `[hidden] { display: none !important; }` so we also need the `!important` here to be able to override the default hidden behavior on the sphinx rendered scikit-learn.org. See: https://github.com/scikit-learn/scikit-learn/issues/21755 */display: inline-block !important;position: relative;}#sk-container-id-1 div.sk-text-repr-fallback {display: none;}</style><div id=\"sk-container-id-1\" class=\"sk-top-container\"><div class=\"sk-text-repr-fallback\"><pre>LogisticRegression(C=100000, max_iter=1000, random_state=123,\n",
       "                   solver=&#x27;liblinear&#x27;)</pre><b>In a Jupyter environment, please rerun this cell to show the HTML representation or trust the notebook. <br />On GitHub, the HTML representation is unable to render, please try loading this page with nbviewer.org.</b></div><div class=\"sk-container\" hidden><div class=\"sk-item\"><div class=\"sk-estimator sk-toggleable\"><input class=\"sk-toggleable__control sk-hidden--visually\" id=\"sk-estimator-id-1\" type=\"checkbox\" checked><label for=\"sk-estimator-id-1\" class=\"sk-toggleable__label sk-toggleable__label-arrow\">LogisticRegression</label><div class=\"sk-toggleable__content\"><pre>LogisticRegression(C=100000, max_iter=1000, random_state=123,\n",
       "                   solver=&#x27;liblinear&#x27;)</pre></div></div></div></div></div>"
      ],
      "text/plain": [
       "LogisticRegression(C=100000, max_iter=1000, random_state=123,\n",
       "                   solver='liblinear')"
      ]
     },
     "execution_count": 64,
     "metadata": {},
     "output_type": "execute_result"
    }
   ],
   "source": [
    "model_lr.fit(X =X, y = y)"
   ]
  },
  {
   "cell_type": "code",
   "execution_count": 65,
   "metadata": {
    "scrolled": true
   },
   "outputs": [
    {
     "data": {
      "text/plain": [
       "array([[-9.41337371e-04, -2.86714152e-02,  9.41239768e-02,\n",
       "        -6.16992454e+00, -2.14110739e-01, -1.83586847e-01,\n",
       "        -7.68926670e-01,  5.13463387e-01, -2.90034142e-01,\n",
       "         2.25348707e-01, -7.57908730e-02,  2.84870399e-01,\n",
       "         1.17049893e-01,  2.45877610e-01,  4.02026554e-01,\n",
       "        -4.42105987e-01]])"
      ]
     },
     "execution_count": 65,
     "metadata": {},
     "output_type": "execute_result"
    }
   ],
   "source": [
    "model_lr.coef_"
   ]
  },
  {
   "cell_type": "code",
   "execution_count": 66,
   "metadata": {
    "scrolled": true
   },
   "outputs": [
    {
     "data": {
      "text/plain": [
       "array([4.55618151])"
      ]
     },
     "execution_count": 66,
     "metadata": {},
     "output_type": "execute_result"
    }
   ],
   "source": [
    "model_lr.intercept_"
   ]
  },
  {
   "cell_type": "code",
   "execution_count": 67,
   "metadata": {},
   "outputs": [],
   "source": [
    "import numpy as np"
   ]
  },
  {
   "cell_type": "code",
   "execution_count": 68,
   "metadata": {},
   "outputs": [
    {
     "data": {
      "text/plain": [
       "'1.67'"
      ]
     },
     "execution_count": 68,
     "metadata": {},
     "output_type": "execute_result"
    }
   ],
   "source": [
    "round(np.exp(model_lr.coef_).round(3).max(),3).astype(str)[:-1]"
   ]
  },
  {
   "cell_type": "markdown",
   "metadata": {},
   "source": [
    "### Q3. (job2를 이용하여) 전체 데이터를 Train과 Test Set으로 나누고, Train Set으로 학습한 모델을 Test Set에 적용하여 모델을 평가하고자 한다. 다음 절차에 따라 분석을 수행하고 질문에 답하시오.\n",
    "\n",
    "* 단계 1: 2단계에서 구성한 데이터셋 job2 에서 Xgrp 컬럼의 값이 ‘train’인 경우 Train Set으로,‘test’인 경우 Test Set으로 정의하여 분할한다.\n",
    "* 단계 2: 아래 가이드에 따라 Train Set으로 K-NN 분류 모델을 학습하고, 이 모델을 Test Set에 적용한다.  \n",
    "\\- 종속 변수: 전배 희망 여부(target)  \n",
    "\\- 독립 변수(총 16개): 전배 희망 여부(target)와 Train/Test set 구분 변수(Xgrp)를 제외한 모든 변수  \n",
    "\\- Euclidean 거리 기준 가장 가까운 5개 데이터의 ‘전배 희망 여부(target)’를 활용하여 예측  \n",
    "* 단계 3: 예측 결과를 바탕으로 아래 정의된 지표 A를 계산하여 기술하시오.\n",
    "\n",
    "$$ 𝐴=((\\#\\: of\\: true\\: positive)+(\\#\\: of\\: true\\: negative))/((\\#\\: of\\: total\\: data)) $$\n",
    "\n",
    "※ 정답은 반올림하여 소수점 둘째 자리까지 출력하시오.  \n",
    "(정답 예시: 0.12)"
   ]
  },
  {
   "cell_type": "markdown",
   "metadata": {},
   "source": [
    "* 단계 1: 2단계에서 구성한 데이터셋 job2 에서 Xgrp 컬럼의 값이 ‘train’인 경우 Train Set으로,‘test’인 경우 Test Set으로 정의하여 분할한다.\n"
   ]
  },
  {
   "cell_type": "code",
   "execution_count": 69,
   "metadata": {},
   "outputs": [
    {
     "data": {
      "text/plain": [
       "array(['train', 'test'], dtype=object)"
      ]
     },
     "execution_count": 69,
     "metadata": {},
     "output_type": "execute_result"
    }
   ],
   "source": [
    "df_job2[\"Xgrp\"].unique()"
   ]
  },
  {
   "cell_type": "code",
   "execution_count": 70,
   "metadata": {},
   "outputs": [],
   "source": [
    "df_train = df_job2.loc[df_job2[\"Xgrp\"] == \"train\", ]\n",
    "df_test  = df_job2.loc[df_job2[\"Xgrp\"] == \"test\" , ]"
   ]
  },
  {
   "cell_type": "markdown",
   "metadata": {},
   "source": [
    "* 단계 2: 아래 가이드에 따라 Train Set으로 K-NN 분류 모델을 학습하고, 이 모델을 Test Set에 적용한다.  \n",
    "\\- 종속 변수: 전배 희망 여부(target)  \n",
    "\\- 독립 변수(총 16개): 전배 희망 여부(target)와 Train/Test set 구분 변수(Xgrp)를 제외한 모든 변수  \n",
    "\\- Euclidean 거리 기준 가장 가까운 5개 데이터의 ‘전배 희망 여부(target)’를 활용하여 예측  \n"
   ]
  },
  {
   "cell_type": "code",
   "execution_count": 71,
   "metadata": {},
   "outputs": [],
   "source": [
    "df_train=df_train.drop(columns='Xgrp')\n",
    "df_test=df_test.drop(columns='Xgrp')"
   ]
  },
  {
   "cell_type": "code",
   "execution_count": 72,
   "metadata": {},
   "outputs": [],
   "source": [
    "y_train=df_train.pop('target')\n",
    "y_test = df_test.pop('target')"
   ]
  },
  {
   "cell_type": "code",
   "execution_count": 73,
   "metadata": {},
   "outputs": [],
   "source": [
    "X_train = df_train.copy()\n",
    "X_test = df_test.copy()"
   ]
  },
  {
   "cell_type": "code",
   "execution_count": 74,
   "metadata": {},
   "outputs": [],
   "source": [
    "del df_train, df_test"
   ]
  },
  {
   "cell_type": "code",
   "execution_count": 75,
   "metadata": {
    "scrolled": true
   },
   "outputs": [
    {
     "data": {
      "text/plain": [
       "(16,)"
      ]
     },
     "execution_count": 75,
     "metadata": {},
     "output_type": "execute_result"
    }
   ],
   "source": [
    "X_train.columns.shape"
   ]
  },
  {
   "cell_type": "code",
   "execution_count": 76,
   "metadata": {},
   "outputs": [],
   "source": [
    "model = KNeighborsClassifier(n_neighbors = 5,   p=2,     metric='minkowski') #유클리디안 디폴트\n",
    "model.fit(X = X_train,\n",
    "          y = y_train)\n",
    "y_pred = model.predict(X_test)"
   ]
  },
  {
   "cell_type": "code",
   "execution_count": 77,
   "metadata": {},
   "outputs": [
    {
     "data": {
      "text/plain": [
       "array([0., 1.])"
      ]
     },
     "execution_count": 77,
     "metadata": {},
     "output_type": "execute_result"
    }
   ],
   "source": [
    "np.unique(y_pred)"
   ]
  },
  {
   "cell_type": "code",
   "execution_count": 78,
   "metadata": {},
   "outputs": [
    {
     "data": {
      "text/plain": [
       "(array([0., 1.]), array([2514,  302], dtype=int64))"
      ]
     },
     "execution_count": 78,
     "metadata": {},
     "output_type": "execute_result"
    }
   ],
   "source": [
    "np.unique(y_pred,return_counts=True)"
   ]
  },
  {
   "cell_type": "markdown",
   "metadata": {},
   "source": [
    "* 단계 3: 예측 결과를 바탕으로 아래 정의된 지표 A를 계산하여 기술하시오.\n",
    "\n",
    "$$ 𝐴=((\\#\\: of\\: true\\: positive)+(\\#\\: of\\: true\\: negative))/((\\#\\: of\\: total\\: data)) $$\n",
    "\n",
    "※ 정답은 반올림하여 소수점 둘째 자리까지 출력하시오.  \n",
    "(정답 예시: 0.12)"
   ]
  },
  {
   "cell_type": "code",
   "execution_count": 79,
   "metadata": {
    "scrolled": true
   },
   "outputs": [
    {
     "data": {
      "text/plain": [
       "array([[1900,  192],\n",
       "       [ 614,  110]], dtype=int64)"
      ]
     },
     "execution_count": 79,
     "metadata": {},
     "output_type": "execute_result"
    }
   ],
   "source": [
    "from sklearn.metrics import confusion_matrix\n",
    "confusion_matrix(y_test, y_pred)"
   ]
  },
  {
   "cell_type": "code",
   "execution_count": 80,
   "metadata": {},
   "outputs": [],
   "source": [
    "total_data=confusion_matrix(y_test, y_pred).sum()"
   ]
  },
  {
   "cell_type": "code",
   "execution_count": 81,
   "metadata": {},
   "outputs": [],
   "source": [
    "tn=confusion_matrix(y_test, y_pred)[0,0]\n",
    "tp=confusion_matrix(y_test, y_pred)[1,1]"
   ]
  },
  {
   "cell_type": "code",
   "execution_count": 82,
   "metadata": {},
   "outputs": [
    {
     "data": {
      "text/plain": [
       "0.71"
      ]
     },
     "execution_count": 82,
     "metadata": {},
     "output_type": "execute_result"
    }
   ],
   "source": [
    "round((tn+tp)/total_data, 2)"
   ]
  },
  {
   "cell_type": "code",
   "execution_count": 84,
   "metadata": {},
   "outputs": [
    {
     "data": {
      "text/plain": [
       "0.71"
      ]
     },
     "execution_count": 84,
     "metadata": {},
     "output_type": "execute_result"
    }
   ],
   "source": [
    "from sklearn.metrics import accuracy_score\n",
    "round(accuracy_score(y_true = y_test, \n",
    "                     y_pred = y_pred), 2)"
   ]
  },
  {
   "cell_type": "code",
   "execution_count": null,
   "metadata": {},
   "outputs": [],
   "source": []
  },
  {
   "cell_type": "markdown",
   "metadata": {},
   "source": [
    "# ====추가 문제===="
   ]
  },
  {
   "cell_type": "code",
   "execution_count": 102,
   "metadata": {},
   "outputs": [],
   "source": [
    "df4=df_origin.copy()"
   ]
  },
  {
   "cell_type": "markdown",
   "metadata": {},
   "source": [
    "Q. training_hours의 왜도와 첨도를 더한 값은?"
   ]
  },
  {
   "cell_type": "code",
   "execution_count": 103,
   "metadata": {},
   "outputs": [
    {
     "data": {
      "text/plain": [
       "5.765837001850359"
      ]
     },
     "execution_count": 103,
     "metadata": {},
     "output_type": "execute_result"
    }
   ],
   "source": [
    "df4.training_hours.skew()+df4.training_hours.kurtosis()"
   ]
  },
  {
   "cell_type": "markdown",
   "metadata": {},
   "source": [
    "Q. pd.qcut을 이용하여 training_hours를 4등분 하라.   \n",
    "그리고 가장 작은 그룹에서 세번째 그룹까지의 training_hours 중앙값을 더하시오"
   ]
  },
  {
   "cell_type": "code",
   "execution_count": 104,
   "metadata": {},
   "outputs": [
    {
     "data": {
      "text/plain": [
       "8         (23.0, 48.0]\n",
       "11       (88.0, 336.0]\n",
       "19       (88.0, 336.0]\n",
       "20        (48.0, 88.0]\n",
       "21        (48.0, 88.0]\n",
       "             ...      \n",
       "19149     (23.0, 48.0]\n",
       "19150    (0.999, 23.0]\n",
       "19152     (23.0, 48.0]\n",
       "19153     (23.0, 48.0]\n",
       "19154     (48.0, 88.0]\n",
       "Name: training_hours, Length: 7522, dtype: category\n",
       "Categories (4, interval[float64, right]): [(0.999, 23.0] < (23.0, 48.0] < (48.0, 88.0] < (88.0, 336.0]]"
      ]
     },
     "execution_count": 104,
     "metadata": {},
     "output_type": "execute_result"
    }
   ],
   "source": [
    "pd.qcut(df4.training_hours, q=4)"
   ]
  },
  {
   "cell_type": "code",
   "execution_count": 105,
   "metadata": {},
   "outputs": [],
   "source": [
    "# 구간 분할\n",
    "df4['range']=pd.qcut(df4.training_hours, q=4, labels=['group1','group2','group3','group4'])"
   ]
  },
  {
   "cell_type": "code",
   "execution_count": 113,
   "metadata": {},
   "outputs": [
    {
     "data": {
      "text/plain": [
       "group1    0.256847\n",
       "group2    0.253523\n",
       "group4    0.249535\n",
       "group3    0.240096\n",
       "Name: range, dtype: float64"
      ]
     },
     "execution_count": 113,
     "metadata": {},
     "output_type": "execute_result"
    }
   ],
   "source": [
    "df4['range'].value_counts(normalize=True)"
   ]
  },
  {
   "cell_type": "code",
   "execution_count": null,
   "metadata": {},
   "outputs": [],
   "source": [
    "df4['range'].groupby"
   ]
  },
  {
   "cell_type": "code",
   "execution_count": 121,
   "metadata": {},
   "outputs": [
    {
     "data": {
      "text/plain": [
       "range\n",
       "group1     13.0\n",
       "group2     35.0\n",
       "group3     64.0\n",
       "group4    132.0\n",
       "Name: training_hours, dtype: float64"
      ]
     },
     "execution_count": 121,
     "metadata": {},
     "output_type": "execute_result"
    }
   ],
   "source": [
    "df4.groupby('range')['training_hours'].median()"
   ]
  },
  {
   "cell_type": "code",
   "execution_count": 127,
   "metadata": {},
   "outputs": [
    {
     "data": {
      "text/plain": [
       "range\n",
       "group1     13.0\n",
       "group2     48.0\n",
       "group3    112.0\n",
       "group4    244.0\n",
       "Name: training_hours, dtype: float64"
      ]
     },
     "execution_count": 127,
     "metadata": {},
     "output_type": "execute_result"
    }
   ],
   "source": [
    "df4.groupby('range')['training_hours'].median().cumsum()"
   ]
  },
  {
   "cell_type": "code",
   "execution_count": 129,
   "metadata": {},
   "outputs": [
    {
     "data": {
      "text/plain": [
       "112.0"
      ]
     },
     "execution_count": 129,
     "metadata": {},
     "output_type": "execute_result"
    }
   ],
   "source": [
    "df4.groupby('range')['training_hours'].median().cumsum()[-2]"
   ]
  },
  {
   "cell_type": "code",
   "execution_count": 135,
   "metadata": {
    "collapsed": true
   },
   "outputs": [
    {
     "data": {
      "text/html": [
       "<div>\n",
       "<style scoped>\n",
       "    .dataframe tbody tr th:only-of-type {\n",
       "        vertical-align: middle;\n",
       "    }\n",
       "\n",
       "    .dataframe tbody tr th {\n",
       "        vertical-align: top;\n",
       "    }\n",
       "\n",
       "    .dataframe thead th {\n",
       "        text-align: right;\n",
       "    }\n",
       "</style>\n",
       "<table border=\"1\" class=\"dataframe\">\n",
       "  <thead>\n",
       "    <tr style=\"text-align: right;\">\n",
       "      <th></th>\n",
       "      <th>enrollee_id</th>\n",
       "      <th>city_development_index</th>\n",
       "      <th>gender</th>\n",
       "      <th>relevant_experience</th>\n",
       "      <th>enrolled_university</th>\n",
       "      <th>education_level</th>\n",
       "      <th>major_discipline</th>\n",
       "      <th>experience</th>\n",
       "      <th>last_new_job</th>\n",
       "      <th>training_hours</th>\n",
       "      <th>target</th>\n",
       "      <th>Xgrp</th>\n",
       "      <th>range</th>\n",
       "    </tr>\n",
       "  </thead>\n",
       "  <tbody>\n",
       "    <tr>\n",
       "      <th>8</th>\n",
       "      <td>27107.0</td>\n",
       "      <td>0.920</td>\n",
       "      <td>Male</td>\n",
       "      <td>Has relevant experience</td>\n",
       "      <td>no_enrollment</td>\n",
       "      <td>Graduate</td>\n",
       "      <td>STEM</td>\n",
       "      <td>7</td>\n",
       "      <td>1</td>\n",
       "      <td>46.0</td>\n",
       "      <td>1.0</td>\n",
       "      <td>train</td>\n",
       "      <td>group2</td>\n",
       "    </tr>\n",
       "    <tr>\n",
       "      <th>11</th>\n",
       "      <td>23853.0</td>\n",
       "      <td>0.920</td>\n",
       "      <td>Male</td>\n",
       "      <td>Has relevant experience</td>\n",
       "      <td>no_enrollment</td>\n",
       "      <td>Graduate</td>\n",
       "      <td>STEM</td>\n",
       "      <td>5</td>\n",
       "      <td>1</td>\n",
       "      <td>108.0</td>\n",
       "      <td>0.0</td>\n",
       "      <td>train</td>\n",
       "      <td>group4</td>\n",
       "    </tr>\n",
       "    <tr>\n",
       "      <th>19</th>\n",
       "      <td>11399.0</td>\n",
       "      <td>0.827</td>\n",
       "      <td>Female</td>\n",
       "      <td>Has relevant experience</td>\n",
       "      <td>no_enrollment</td>\n",
       "      <td>Graduate</td>\n",
       "      <td>Arts</td>\n",
       "      <td>4</td>\n",
       "      <td>1</td>\n",
       "      <td>132.0</td>\n",
       "      <td>1.0</td>\n",
       "      <td>train</td>\n",
       "      <td>group4</td>\n",
       "    </tr>\n",
       "    <tr>\n",
       "      <th>20</th>\n",
       "      <td>31972.0</td>\n",
       "      <td>0.843</td>\n",
       "      <td>Male</td>\n",
       "      <td>Has relevant experience</td>\n",
       "      <td>no_enrollment</td>\n",
       "      <td>Masters</td>\n",
       "      <td>STEM</td>\n",
       "      <td>11</td>\n",
       "      <td>1</td>\n",
       "      <td>68.0</td>\n",
       "      <td>0.0</td>\n",
       "      <td>train</td>\n",
       "      <td>group3</td>\n",
       "    </tr>\n",
       "    <tr>\n",
       "      <th>21</th>\n",
       "      <td>19061.0</td>\n",
       "      <td>0.926</td>\n",
       "      <td>Male</td>\n",
       "      <td>Has relevant experience</td>\n",
       "      <td>no_enrollment</td>\n",
       "      <td>Masters</td>\n",
       "      <td>STEM</td>\n",
       "      <td>11</td>\n",
       "      <td>2</td>\n",
       "      <td>50.0</td>\n",
       "      <td>0.0</td>\n",
       "      <td>train</td>\n",
       "      <td>group3</td>\n",
       "    </tr>\n",
       "    <tr>\n",
       "      <th>...</th>\n",
       "      <td>...</td>\n",
       "      <td>...</td>\n",
       "      <td>...</td>\n",
       "      <td>...</td>\n",
       "      <td>...</td>\n",
       "      <td>...</td>\n",
       "      <td>...</td>\n",
       "      <td>...</td>\n",
       "      <td>...</td>\n",
       "      <td>...</td>\n",
       "      <td>...</td>\n",
       "      <td>...</td>\n",
       "      <td>...</td>\n",
       "    </tr>\n",
       "    <tr>\n",
       "      <th>19149</th>\n",
       "      <td>251.0</td>\n",
       "      <td>0.920</td>\n",
       "      <td>Male</td>\n",
       "      <td>Has relevant experience</td>\n",
       "      <td>no_enrollment</td>\n",
       "      <td>Masters</td>\n",
       "      <td>STEM</td>\n",
       "      <td>9</td>\n",
       "      <td>1</td>\n",
       "      <td>36.0</td>\n",
       "      <td>1.0</td>\n",
       "      <td>test</td>\n",
       "      <td>group2</td>\n",
       "    </tr>\n",
       "    <tr>\n",
       "      <th>19150</th>\n",
       "      <td>32313.0</td>\n",
       "      <td>0.920</td>\n",
       "      <td>Female</td>\n",
       "      <td>Has relevant experience</td>\n",
       "      <td>no_enrollment</td>\n",
       "      <td>Graduate</td>\n",
       "      <td>STEM</td>\n",
       "      <td>10</td>\n",
       "      <td>3</td>\n",
       "      <td>23.0</td>\n",
       "      <td>0.0</td>\n",
       "      <td>test</td>\n",
       "      <td>group1</td>\n",
       "    </tr>\n",
       "    <tr>\n",
       "      <th>19152</th>\n",
       "      <td>29754.0</td>\n",
       "      <td>0.920</td>\n",
       "      <td>Female</td>\n",
       "      <td>Has relevant experience</td>\n",
       "      <td>no_enrollment</td>\n",
       "      <td>Graduate</td>\n",
       "      <td>Humanities</td>\n",
       "      <td>7</td>\n",
       "      <td>1</td>\n",
       "      <td>25.0</td>\n",
       "      <td>0.0</td>\n",
       "      <td>test</td>\n",
       "      <td>group2</td>\n",
       "    </tr>\n",
       "    <tr>\n",
       "      <th>19153</th>\n",
       "      <td>7386.0</td>\n",
       "      <td>0.878</td>\n",
       "      <td>Male</td>\n",
       "      <td>No relevant experience</td>\n",
       "      <td>no_enrollment</td>\n",
       "      <td>Graduate</td>\n",
       "      <td>Humanities</td>\n",
       "      <td>14</td>\n",
       "      <td>1</td>\n",
       "      <td>42.0</td>\n",
       "      <td>1.0</td>\n",
       "      <td>test</td>\n",
       "      <td>group2</td>\n",
       "    </tr>\n",
       "    <tr>\n",
       "      <th>19154</th>\n",
       "      <td>31398.0</td>\n",
       "      <td>0.920</td>\n",
       "      <td>Male</td>\n",
       "      <td>Has relevant experience</td>\n",
       "      <td>no_enrollment</td>\n",
       "      <td>Graduate</td>\n",
       "      <td>STEM</td>\n",
       "      <td>14</td>\n",
       "      <td>4</td>\n",
       "      <td>52.0</td>\n",
       "      <td>1.0</td>\n",
       "      <td>test</td>\n",
       "      <td>group3</td>\n",
       "    </tr>\n",
       "  </tbody>\n",
       "</table>\n",
       "<p>7522 rows × 13 columns</p>\n",
       "</div>"
      ],
      "text/plain": [
       "       enrollee_id  city_development_index  gender      relevant_experience  \\\n",
       "8          27107.0                   0.920    Male  Has relevant experience   \n",
       "11         23853.0                   0.920    Male  Has relevant experience   \n",
       "19         11399.0                   0.827  Female  Has relevant experience   \n",
       "20         31972.0                   0.843    Male  Has relevant experience   \n",
       "21         19061.0                   0.926    Male  Has relevant experience   \n",
       "...            ...                     ...     ...                      ...   \n",
       "19149        251.0                   0.920    Male  Has relevant experience   \n",
       "19150      32313.0                   0.920  Female  Has relevant experience   \n",
       "19152      29754.0                   0.920  Female  Has relevant experience   \n",
       "19153       7386.0                   0.878    Male   No relevant experience   \n",
       "19154      31398.0                   0.920    Male  Has relevant experience   \n",
       "\n",
       "      enrolled_university education_level major_discipline  experience  \\\n",
       "8           no_enrollment        Graduate             STEM           7   \n",
       "11          no_enrollment        Graduate             STEM           5   \n",
       "19          no_enrollment        Graduate             Arts           4   \n",
       "20          no_enrollment         Masters             STEM          11   \n",
       "21          no_enrollment         Masters             STEM          11   \n",
       "...                   ...             ...              ...         ...   \n",
       "19149       no_enrollment         Masters             STEM           9   \n",
       "19150       no_enrollment        Graduate             STEM          10   \n",
       "19152       no_enrollment        Graduate       Humanities           7   \n",
       "19153       no_enrollment        Graduate       Humanities          14   \n",
       "19154       no_enrollment        Graduate             STEM          14   \n",
       "\n",
       "       last_new_job  training_hours  target   Xgrp   range  \n",
       "8                 1            46.0     1.0  train  group2  \n",
       "11                1           108.0     0.0  train  group4  \n",
       "19                1           132.0     1.0  train  group4  \n",
       "20                1            68.0     0.0  train  group3  \n",
       "21                2            50.0     0.0  train  group3  \n",
       "...             ...             ...     ...    ...     ...  \n",
       "19149             1            36.0     1.0   test  group2  \n",
       "19150             3            23.0     0.0   test  group1  \n",
       "19152             1            25.0     0.0   test  group2  \n",
       "19153             1            42.0     1.0   test  group2  \n",
       "19154             4            52.0     1.0   test  group3  \n",
       "\n",
       "[7522 rows x 13 columns]"
      ]
     },
     "execution_count": 135,
     "metadata": {},
     "output_type": "execute_result"
    }
   ],
   "source": [
    "df4"
   ]
  },
  {
   "cell_type": "markdown",
   "metadata": {},
   "source": [
    "Q. 인사팀 내부에서 관리하는 training_hours2 파생변수를 생성하려고 한다.   \n",
    "(생성규칙) 만약 관련 경험이 있으면 training_hours에 1.2를 곱하고 그렇지 않으면 0.8을 곱하라"
   ]
  },
  {
   "cell_type": "code",
   "execution_count": 162,
   "metadata": {},
   "outputs": [],
   "source": [
    "def weight_hours(df):\n",
    "    if df['relevant_experience'] == 'Has relevant experience':\n",
    "        df['training_hours2']= df['training_hours']*1.2\n",
    "    else:\n",
    "        df['training_hours2']= df['training_hours']*.8\n",
    "    return df"
   ]
  },
  {
   "cell_type": "code",
   "execution_count": 171,
   "metadata": {
    "scrolled": true
   },
   "outputs": [
    {
     "data": {
      "text/html": [
       "<div>\n",
       "<style scoped>\n",
       "    .dataframe tbody tr th:only-of-type {\n",
       "        vertical-align: middle;\n",
       "    }\n",
       "\n",
       "    .dataframe tbody tr th {\n",
       "        vertical-align: top;\n",
       "    }\n",
       "\n",
       "    .dataframe thead th {\n",
       "        text-align: right;\n",
       "    }\n",
       "</style>\n",
       "<table border=\"1\" class=\"dataframe\">\n",
       "  <thead>\n",
       "    <tr style=\"text-align: right;\">\n",
       "      <th></th>\n",
       "      <th>training_hours</th>\n",
       "      <th>relevant_experience</th>\n",
       "      <th>training_hours2</th>\n",
       "    </tr>\n",
       "  </thead>\n",
       "  <tbody>\n",
       "    <tr>\n",
       "      <th>19149</th>\n",
       "      <td>36.0</td>\n",
       "      <td>Has relevant experience</td>\n",
       "      <td>43.2</td>\n",
       "    </tr>\n",
       "    <tr>\n",
       "      <th>19150</th>\n",
       "      <td>23.0</td>\n",
       "      <td>Has relevant experience</td>\n",
       "      <td>27.6</td>\n",
       "    </tr>\n",
       "    <tr>\n",
       "      <th>19152</th>\n",
       "      <td>25.0</td>\n",
       "      <td>Has relevant experience</td>\n",
       "      <td>30.0</td>\n",
       "    </tr>\n",
       "    <tr>\n",
       "      <th>19153</th>\n",
       "      <td>42.0</td>\n",
       "      <td>No relevant experience</td>\n",
       "      <td>33.6</td>\n",
       "    </tr>\n",
       "    <tr>\n",
       "      <th>19154</th>\n",
       "      <td>52.0</td>\n",
       "      <td>Has relevant experience</td>\n",
       "      <td>62.4</td>\n",
       "    </tr>\n",
       "  </tbody>\n",
       "</table>\n",
       "</div>"
      ],
      "text/plain": [
       "       training_hours      relevant_experience  training_hours2\n",
       "19149            36.0  Has relevant experience             43.2\n",
       "19150            23.0  Has relevant experience             27.6\n",
       "19152            25.0  Has relevant experience             30.0\n",
       "19153            42.0   No relevant experience             33.6\n",
       "19154            52.0  Has relevant experience             62.4"
      ]
     },
     "execution_count": 171,
     "metadata": {},
     "output_type": "execute_result"
    }
   ],
   "source": [
    "df4.apply(weight_hours, axis=1)[['training_hours','relevant_experience','training_hours2']].tail()"
   ]
  }
 ],
 "metadata": {
  "kernelspec": {
   "display_name": "Python 3",
   "language": "python",
   "name": "python3"
  },
  "language_info": {
   "codemirror_mode": {
    "name": "ipython",
    "version": 3
   },
   "file_extension": ".py",
   "mimetype": "text/x-python",
   "name": "python",
   "nbconvert_exporter": "python",
   "pygments_lexer": "ipython3",
   "version": "3.8.5"
  },
  "toc": {
   "base_numbering": 1,
   "nav_menu": {},
   "number_sections": false,
   "sideBar": true,
   "skip_h1_title": false,
   "title_cell": "Table of Contents",
   "title_sidebar": "Contents",
   "toc_cell": false,
   "toc_position": {
    "height": "calc(100% - 180px)",
    "left": "10px",
    "top": "150px",
    "width": "142.4px"
   },
   "toc_section_display": true,
   "toc_window_display": false
  }
 },
 "nbformat": 4,
 "nbformat_minor": 5
}
